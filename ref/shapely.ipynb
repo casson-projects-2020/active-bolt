{
 "cells": [
  {
   "cell_type": "markdown",
   "metadata": {},
   "source": [
    "# Shapely"
   ]
  },
  {
   "cell_type": "markdown",
   "metadata": {},
   "source": [
    "Drawing polygons"
   ]
  },
  {
   "cell_type": "code",
   "execution_count": 1,
   "metadata": {
    "colab": {},
    "colab_type": "code",
    "id": "ezRSPKUC7CER"
   },
   "outputs": [
    {
     "name": "stdout",
     "output_type": "stream",
     "text": [
      "Collecting shapely\n",
      "  Downloading Shapely-1.7.1-cp37-cp37m-manylinux1_x86_64.whl (1.0 MB)\n",
      "\u001b[K     |████████████████████████████████| 1.0 MB 8.2 MB/s eta 0:00:01\n",
      "\u001b[?25hInstalling collected packages: shapely\n",
      "Successfully installed shapely-1.7.1\n",
      "Note: you may need to restart the kernel to use updated packages.\n"
     ]
    }
   ],
   "source": [
    "!pip install shapely"
   ]
  },
  {
   "cell_type": "code",
   "execution_count": 34,
   "metadata": {},
   "outputs": [],
   "source": [
    "oldp = Polygon([[0.2,0],\n",
    " [0.1990369453344394,-0.0196034280659121],\n",
    " [0.1961570560806461,-0.03901806440322562],\n",
    " [0.1913880671464418,-0.05805693545089242],\n",
    " [0.1847759065022574,-0.07653668647301788],\n",
    " [0.1763842528696711,-0.09427934736519944],\n",
    " [0.1662939224605091,-0.1111140466039204],\n",
    " [0.1546020906725475,-0.126878656832729],\n",
    " [0.1414213562373096,-0.1414213562373094],\n",
    " [0.1268786568327292,-0.1546020906725473],\n",
    " [0.1111140466039206,-0.1662939224605089],\n",
    " [0.09427934736519972,-0.1763842528696709],\n",
    " [0.07653668647301817,-0.1847759065022573],\n",
    " [0.05805693545089272,-0.1913880671464417],\n",
    " [0.03901806440322593,-0.196157056080646],\n",
    " [0.01960342806591242,-0.1990369453344394],\n",
    " [3.231089148865174e-16,-0.2],\n",
    " [-0.01960342806591178,-0.1990369453344394],\n",
    " [-0.0390180644032253,-0.1961570560806462],\n",
    " [-0.05805693545089211,-0.1913880671464419],\n",
    " [-0.07653668647301758,-0.1847759065022575],\n",
    " [-0.09427934736519915,-0.1763842528696712],\n",
    " [-0.1111140466039201,-0.1662939224605093],\n",
    " [-0.1268786568327288,-0.1546020906725477],\n",
    " [-0.1414213562373093,-0.1414213562373098],\n",
    " [-0.1546020906725472,-0.1268786568327294],\n",
    " [-0.1662939224605089,-0.1111140466039207],\n",
    " [-0.1763842528696709,-0.09427934736519981],\n",
    " [-0.1847759065022573,-0.07653668647301823],\n",
    " [-0.1913880671464417,-0.05805693545089274],\n",
    " [-0.196157056080646,-0.0390180644032259],\n",
    " [-0.1990369453344394,-0.01960342806591234],\n",
    " [-0.2,-2.021286199229721e-16],\n",
    " [-0.1990369453344394,0.01960342806591194],\n",
    " [-0.1961570560806462,0.0390180644032255],\n",
    " [-0.1913880671464418,0.05805693545089235],\n",
    " [-0.1847759065022574,0.07653668647301785],\n",
    " [-0.1763842528696711,0.09427934736519945],\n",
    " [-0.1662939224605091,0.1111140466039204],\n",
    " [-0.1546020906725474,0.1268786568327291],\n",
    " [-0.1414213562373095,0.1414213562373095],\n",
    " [-0.1268786568327292,0.1546020906725473],\n",
    " [-0.1111140466039206,0.166293922460509],\n",
    " [-0.09427934736519974,0.1763842528696709],\n",
    " [-0.07653668647301824,0.1847759065022573],\n",
    " [-0.05805693545089283,0.1913880671464417],\n",
    " [-0.03901806440322608,0.196157056080646],\n",
    " [-0.01960342806591262,0.1990369453344393],\n",
    " [-5.696464557944958e-16,0.2],\n",
    " [0.01960342806591149,0.1990369453344394],\n",
    " [0.03901806440322497,0.1961570560806462],\n",
    " [0.05805693545089174,0.191388067146442],\n",
    " [0.07653668647301719,0.1847759065022577],\n",
    " [0.09427934736519873,0.1763842528696714],\n",
    " [0.1111140466039196,0.1662939224605096],\n",
    " [0.1268786568327283,0.154602090672548],\n",
    " [0.1414213562373087,0.1414213562373103],\n",
    " [0.1546020906725467,0.12687865683273],\n",
    " [0.1662939224605084,0.1111140466039215],\n",
    " [0.1763842528696704,0.09427934736520069],\n",
    " [0.1847759065022568,0.07653668647301924],\n",
    " [0.1913880671464414,0.05805693545089385],\n",
    " [0.1961570560806458,0.03901806440322714],\n",
    " [0.1990369453344392,0.0196034280659137],\n",
    " [0.2,1.647707027426119e-15],\n",
    " [0.2,0]])\n",
    "pos = Polygon([[0.2,0],\n",
    " [0.1990369453344394,-0.0196034280659121],\n",
    " [0.1961570560806461,-0.03901806440322562],\n",
    " [0.1913880671464418,-0.05805693545089242],\n",
    " [0.1847759065022574,-0.07653668647301788],\n",
    " [0.1763842528696711,-0.09427934736519944],\n",
    " [0.1662939224605091,-0.1111140466039204],\n",
    " [0.1546020906725475,-0.126878656832729],\n",
    " [0.1414213562373096,-0.1414213562373094],\n",
    " [0.1268786568327292,-0.1546020906725473],\n",
    " [0.1111140466039206,-0.1662939224605089],\n",
    " [0.09427934736519972,-0.1763842528696709],\n",
    " [0.07653668647301817,-0.1847759065022573],\n",
    " [0.05805693545089272,-0.1913880671464417],\n",
    " [0.03901806440322593,-0.196157056080646],\n",
    " [0.01960342806591242,-0.1990369453344394],\n",
    " [3.231089148865174e-16,-0.2],\n",
    " [-0.01960342806591178,-0.1990369453344394],\n",
    " [-0.0390180644032253,-0.1961570560806462],\n",
    " [-0.05805693545089211,-0.1913880671464419],\n",
    " [-0.07653668647301758,-0.1847759065022575],\n",
    " [-0.09427934736519915,-0.1763842528696712],\n",
    " [-0.1111140466039201,-0.1662939224605093],\n",
    " [-0.1268786568327288,-0.1546020906725477],\n",
    " [-0.1414213562373093,-0.1414213562373098],\n",
    " [-0.1546020906725472,-0.1268786568327294],\n",
    " [-0.1662939224605089,-0.1111140466039207],\n",
    " [-0.1763842528696709,-0.09427934736519981],\n",
    " [-0.1847759065022573,-0.07653668647301823],\n",
    " [-0.1913880671464417,-0.05805693545089274],\n",
    " [-0.196157056080646,-0.0390180644032259],\n",
    " [-0.1990369453344394,-0.01960342806591234],\n",
    " [-0.2,-2.021286199229721e-16],\n",
    " [-0.1990369453344394,0.01960342806591194],\n",
    " [-0.1961570560806462,0.0390180644032255],\n",
    " [-0.1913880671464418,0.05805693545089235],\n",
    " [-0.1847759065022574,0.07653668647301785],\n",
    " [-0.1763842528696711,0.09427934736519945],\n",
    " [-0.1662939224605091,0.1111140466039204],\n",
    " [-0.1546020906725474,0.1268786568327291],\n",
    " [-0.1414213562373095,0.1414213562373095],\n",
    " [-0.1268786568327292,0.1546020906725473],\n",
    " [-0.1111140466039206,0.166293922460509],\n",
    " [-0.09427934736519974,0.1763842528696709],\n",
    " [-0.07653668647301824,0.1847759065022573],\n",
    " [-0.05805693545089283,0.1913880671464417],\n",
    " [-0.03901806440322608,0.196157056080646],\n",
    " [-0.01960342806591262,0.1990369453344393],\n",
    " [-5.696464557944958e-16,0.2],\n",
    " [0.01960342806591149,0.1990369453344394],\n",
    " [0.03901806440322497,0.1961570560806462],\n",
    " [0.05805693545089174,0.191388067146442],\n",
    " [0.07653668647301719,0.1847759065022577],\n",
    " [0.09427934736519873,0.1763842528696714],\n",
    " [0.1111140466039196,0.1662939224605096],\n",
    " [0.1268786568327283,0.154602090672548],\n",
    " [0.1414213562373087,0.1414213562373103],\n",
    " [0.1546020906725467,0.12687865683273],\n",
    " [0.1662939224605084,0.1111140466039215],\n",
    " [0.1763842528696704,0.09427934736520069],\n",
    " [0.1847759065022568,0.07653668647301924],\n",
    " [0.1913880671464414,0.05805693545089385],\n",
    " [0.1961570560806458,0.03901806440322714],\n",
    " [0.1990369453344392,0.0196034280659137],\n",
    " [0.2,1.647707027426119e-15],\n",
    " [0.2,0]])\n",
    "r1 = Polygon([[6,3], [3,3], [3,2], [6,2], [6,3]])\n",
    "r2 = Polygon([[3,3], [1,3], [1,1], [3,1], [3,3]])\n",
    "r3 = Polygon([[6,2], [7,1], [7,4], [6,3], [8,4], [7,4], [9,3], [8,4],\n",
    " [9,2], [9,3], [8,1], [9,2], [7,1], [8,1], [6,3], [6,2]])\n"
   ]
  },
  {
   "cell_type": "code",
   "execution_count": 15,
   "metadata": {},
   "outputs": [
    {
     "name": "stdout",
     "output_type": "stream",
     "text": [
      "Collecting matplotlib\n",
      "  Downloading matplotlib-3.3.4-cp37-cp37m-manylinux1_x86_64.whl (11.5 MB)\n",
      "\u001b[K     |████████████████████████████████| 11.5 MB 7.4 MB/s eta 0:00:01\n",
      "\u001b[?25hCollecting pillow>=6.2.0\n",
      "  Downloading Pillow-8.1.2-cp37-cp37m-manylinux1_x86_64.whl (2.2 MB)\n",
      "\u001b[K     |████████████████████████████████| 2.2 MB 26.5 MB/s eta 0:00:01\n",
      "\u001b[?25hRequirement already satisfied: pyparsing!=2.0.4,!=2.1.2,!=2.1.6,>=2.0.3 in /srv/conda/envs/notebook/lib/python3.7/site-packages (from matplotlib) (2.4.7)\n",
      "Collecting kiwisolver>=1.0.1\n",
      "  Downloading kiwisolver-1.3.1-cp37-cp37m-manylinux1_x86_64.whl (1.1 MB)\n",
      "\u001b[K     |████████████████████████████████| 1.1 MB 91.8 MB/s eta 0:00:01\n",
      "\u001b[?25hRequirement already satisfied: python-dateutil>=2.1 in /srv/conda/envs/notebook/lib/python3.7/site-packages (from matplotlib) (2.8.1)\n",
      "Collecting cycler>=0.10\n",
      "  Downloading cycler-0.10.0-py2.py3-none-any.whl (6.5 kB)\n",
      "Requirement already satisfied: numpy>=1.15 in /srv/conda/envs/notebook/lib/python3.7/site-packages (from matplotlib) (1.20.1)\n",
      "Requirement already satisfied: six in /srv/conda/envs/notebook/lib/python3.7/site-packages (from cycler>=0.10->matplotlib) (1.15.0)\n",
      "Installing collected packages: pillow, kiwisolver, cycler, matplotlib\n",
      "Successfully installed cycler-0.10.0 kiwisolver-1.3.1 matplotlib-3.3.4 pillow-8.1.2\n",
      "Collecting descartes\n",
      "  Downloading descartes-1.1.0-py3-none-any.whl (5.8 kB)\n",
      "Requirement already satisfied: matplotlib in /srv/conda/envs/notebook/lib/python3.7/site-packages (from descartes) (3.3.4)\n",
      "Requirement already satisfied: pyparsing!=2.0.4,!=2.1.2,!=2.1.6,>=2.0.3 in /srv/conda/envs/notebook/lib/python3.7/site-packages (from matplotlib->descartes) (2.4.7)\n",
      "Requirement already satisfied: pillow>=6.2.0 in /srv/conda/envs/notebook/lib/python3.7/site-packages (from matplotlib->descartes) (8.1.2)\n",
      "Requirement already satisfied: kiwisolver>=1.0.1 in /srv/conda/envs/notebook/lib/python3.7/site-packages (from matplotlib->descartes) (1.3.1)\n",
      "Requirement already satisfied: numpy>=1.15 in /srv/conda/envs/notebook/lib/python3.7/site-packages (from matplotlib->descartes) (1.20.1)\n",
      "Requirement already satisfied: cycler>=0.10 in /srv/conda/envs/notebook/lib/python3.7/site-packages (from matplotlib->descartes) (0.10.0)\n",
      "Requirement already satisfied: python-dateutil>=2.1 in /srv/conda/envs/notebook/lib/python3.7/site-packages (from matplotlib->descartes) (2.8.1)\n",
      "Requirement already satisfied: six in /srv/conda/envs/notebook/lib/python3.7/site-packages (from cycler>=0.10->matplotlib->descartes) (1.15.0)\n",
      "Installing collected packages: descartes\n",
      "Successfully installed descartes-1.1.0\n"
     ]
    }
   ],
   "source": [
    "!pip install matplotlib\n",
    "!pip install descartes"
   ]
  },
  {
   "cell_type": "code",
   "execution_count": 35,
   "metadata": {},
   "outputs": [
    {
     "data": {
      "image/png": "[encoded data removed]",
      "text/plain": [
       "<Figure size 432x288 with 1 Axes>"
      ]
     },
     "metadata": {
      "needs_background": "light"
     },
     "output_type": "display_data"
    }
   ],
   "source": [
    "import matplotlib.pyplot as plt\n",
    "import descartes\n",
    "import numpy as np\n",
    "\n",
    "fig = plt.figure()\n",
    "ax = fig.add_subplot(111)\n",
    "\n",
    "ax.add_patch(descartes.PolygonPatch(oldp, fc='red', alpha=0.5))\n",
    "ax.add_patch(descartes.PolygonPatch(pos, fc='red', alpha=0.5))\n",
    "\n",
    "ax.add_patch(descartes.PolygonPatch(r1, fc='blue', alpha=0.5))\n",
    "ax.add_patch(descartes.PolygonPatch(r2, fc='blue', alpha=0.5))\n",
    "ax.add_patch(descartes.PolygonPatch(r3, fc='blue', alpha=0.5))\n",
    "ax.axis('equal')\n",
    "\n",
    "plt.show()"
   ]
  },
  {
   "cell_type": "code",
   "execution_count": null,
   "metadata": {},
   "outputs": [],
   "source": []
  }
 ],
 "metadata": {
  "colab": {
   "authorship_tag": "ABX9TyPkDsVvRybOrUcBPPzrJJoK",
   "name": "vpython-test.ipynb",
   "provenance": []
  },
  "kernelspec": {
   "display_name": "Python 3",
   "language": "python",
   "name": "python3"
  },
  "language_info": {
   "codemirror_mode": {
    "name": "ipython",
    "version": 3
   },
   "file_extension": ".py",
   "mimetype": "text/x-python",
   "name": "python",
   "nbconvert_exporter": "python",
   "pygments_lexer": "ipython3",
   "version": "3.7.10"
  }
 },
 "nbformat": 4,
 "nbformat_minor": 1
}
