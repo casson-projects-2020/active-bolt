{
 "cells": [
  {
   "cell_type": "markdown",
   "metadata": {
    "_cell_guid": "b1076dfc-b9ad-4769-8c92-a6c4dae69d19",
    "_uuid": "8f2839f25d086af736a60e9eeb907d3b93b6e0e5"
   },
   "source": [
    "<h1>Aluminio Catalo-combustivel</h1>\n",
    "\n",
    "A reação quimica:\n",
    "\n",
    "2Al + 6H2O + NaOH -> 2Al(OH)3 + 3H2 + NaOH \n",
    "\n",
    "Produz hidrogenio gasoso.\n",
    "\n",
    "Considerando:\n",
    "\n",
    "- A proporção ideal de queima do H -> 29% H + 71% Ar\n",
    "- Um queimador de 100cm3\n",
    "\n",
    "Teriamos então 29cm3 de H2.\n",
    "\n",
    "Considerando:\n",
    "\n",
    "- O calor de combustao do H -> 121MJ/kg\n",
    "- O volume do H2 gasoso -> 22,4L / mol\n",
    "- O peso molar do H2 de aprox 2g\n",
    "\n",
    "Temos que cada cm3 conteria então 2g / 22400 = 8.929 E-5 g de H. Vezes 29 = 2.589mg de H no queimador de 100cm3 com 29% de H.\n",
    "\n",
    "O resultado da combustão de 2.589mg de H seria 313J.\n",
    "\n",
    "Considerando:\n",
    "\n",
    "- O peso molar do Aluminio de aprox 27g/mol\n",
    "\n",
    "Teriamos que para cada cm3 de H produzido pela reação teriamos 8.036 E-4 g de Al convertido em sal. Vezes 29 = 23,3mg\n",
    "\n",
    "Considerando:\n",
    "\n",
    "- O peso molar da agua de aprox 18g/mol\n",
    "\n",
    "Teriamos que para cada cm3 de H produzido pela reação teriamos 1.6mg de agua removida. Vezes 29 = 46,6mg.\n",
    "\n",
    "Para conseguir então 1J da reação temos que 7.445 E-5 Al e 1.489 E-4 H20 são consumidos.\n",
    "\n",
    "Considerando um cenario que exigiria 4W constantes por um mês teriamos a necessidade de 10M368 J.\n",
    "\n",
    "Essa reação consumiria entao 772,93g de Al e 1543.7952ml de agua. No entanto, podemos considerar que a queima do Hidrogenio produz Agua. Se for possivel recolher essa agua formada, poderiamos ter um consumo de agua menor.\n",
    "\n",
    "Considerando:\n",
    "\n",
    "- Que o queimador de 100cm3 tenha lados com o mesmo comprimento\n",
    "\n",
    "Temos 46.416mm de lado. \n",
    "\n",
    "Considerando:\n",
    "\n",
    "- Uma folha de papel aluminio de 45mm de lado e 0.016mm de espessura\n",
    "- A densidade do Al de aprox 2.7g/cm3\n",
    "\n",
    "Temos que para cada g de aluminio teriamos 5.144cm dessa fita. Para nosso cenário de 772.93g teriamos 39.76m de fita.\n",
    "\n",
    "Calculando pelo volume de Al, um cilindro dessa folha enrolada em outro cilindo de 1cm de diam teria:\n",
    "\n",
    "$\\pi . r^2 . 4 - \\pi . 0.5^2 . 4 = 772.93 / 2.7$\n",
    "\n",
    "4.8cm de raio \n",
    "\n",
    "Essa folha de aluminio teria 1.7892m2. Sendo o custo de folha de Al 1.6 Reais por m2, teriamos o custo de 2.87 Reais por mes de funcionamento.\n",
    "\n",
    "Também é um cenário de 2.88KW/h, com custo aproximado em SP de 2.49 Reais (ou seja, o custo de usar Al é quase igual ao de deixar na tomada).\n",
    "\n",
    "O custo equivalente de queimar gasolina para um automovel é de 1.29 Reais.\n",
    "\n",
    "Comprando-se Al de sucata por 1500 Reais a tonelada e fazendo pó de aluminio em vez de folhas, poderiamos ter um custo semelhante ao de queimar gasolina, desde que o custo de fazer o pó nao seja alto."
   ]
  },
  {
   "cell_type": "code",
   "execution_count": 3,
   "metadata": {
    "_cell_guid": "79c7e3d0-c299-4dcb-8224-4455121ee9b0",
    "_uuid": "d629ff2d2480ee46fbb7e2d37f6b5fab8052498a"
   },
   "outputs": [
    {
     "ename": "ModuleNotFoundError",
     "evalue": "No module named 'pandas'",
     "output_type": "error",
     "traceback": [
      "\u001b[0;31m---------------------------------------------------------------------------\u001b[0m",
      "\u001b[0;31mModuleNotFoundError\u001b[0m                       Traceback (most recent call last)",
      "\u001b[0;32m<ipython-input-3-263c4efe0e71>\u001b[0m in \u001b[0;36m<module>\u001b[0;34m\u001b[0m\n\u001b[1;32m      1\u001b[0m \u001b[0;32mimport\u001b[0m \u001b[0mnumpy\u001b[0m \u001b[0;32mas\u001b[0m \u001b[0mnp\u001b[0m\u001b[0;34m\u001b[0m\u001b[0;34m\u001b[0m\u001b[0m\n\u001b[0;32m----> 2\u001b[0;31m \u001b[0;32mimport\u001b[0m \u001b[0mpandas\u001b[0m\u001b[0;34m\u001b[0m\u001b[0;34m\u001b[0m\u001b[0m\n\u001b[0m\u001b[1;32m      3\u001b[0m \u001b[0;34m\u001b[0m\u001b[0m\n\u001b[1;32m      4\u001b[0m \u001b[0;34m\u001b[0m\u001b[0m\n\u001b[1;32m      5\u001b[0m df = pandas.DataFrame({\n",
      "\u001b[0;31mModuleNotFoundError\u001b[0m: No module named 'pandas'"
     ]
    }
   ],
   "source": [
    "import numpy as np\n",
    "import pandas\n",
    "\n",
    "\n",
    "df = pandas.DataFrame({\n",
    "   'col1': ['Item0', 'Item0', 'Item1', 'Item1'],\n",
    "   'col2': ['Gold', 'Bronze', 'Gold', 'Silver'],\n",
    "   'col3': [1, 2, np.nan, 4]\n",
    "})"
   ]
  }
 ],
 "metadata": {
  "kernelspec": {
   "display_name": "Python 3",
   "language": "python",
   "name": "python3"
  },
  "language_info": {
   "codemirror_mode": {
    "name": "ipython",
    "version": 3
   },
   "file_extension": ".py",
   "mimetype": "text/x-python",
   "name": "python",
   "nbconvert_exporter": "python",
   "pygments_lexer": "ipython3",
   "version": "3.7.8"
  }
 },
 "nbformat": 4,
 "nbformat_minor": 4
}
