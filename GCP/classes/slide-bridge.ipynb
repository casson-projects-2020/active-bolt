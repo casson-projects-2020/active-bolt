{
 "cells": [
  {
   "cell_type": "markdown",
   "metadata": {},
   "source": [
    "<h1 style=\"display:inline-block\">Slide Bridge</h1><h2>JS Bridge between Google Presentation and a monitor app.</h2>"
   ]
  },
  {
   "cell_type": "markdown",
   "metadata": {
    "colab": {},
    "colab_type": "code",
    "id": "ezRSPKUC7CER"
   },
   "source": [
    "This is a no-longer-mantained code that used to be hosted on a GCP cloud function that should be called by a JS function added to the Notes in a Google Presentation (using developer tools on chrome). The JS function then send information about the presentation to this CF. Another app was developed to monitor the presentation (it showed a timeline and looking it the presenter could see if he/she were behind schedule).<br/>\n",
    "<br/>\n",
    "This CF then was used to create a bridge between Chrome and an external application."
   ]
  },
  {
   "cell_type": "code",
   "execution_count": null,
   "metadata": {},
   "outputs": [],
   "source": [
    "import google.cloud.storage\n",
    "\n",
    "\n",
    "def upload_blob( bucket_name, blob_text, destination_blob_name ):\n",
    "    \"\"\"Uploads a file to the bucket.\"\"\"\n",
    "\n",
    "    storage_client = google.cloud.storage.Client()\n",
    "    bucket = storage_client.get_bucket( bucket_name )\n",
    "    blob = bucket.blob( destination_blob_name )\n",
    "\n",
    "    blob.upload_from_string( blob_text )\n",
    "\n",
    "\n",
    "def download_blob( bucket_name, blob_name ):\n",
    "    \"\"\"Downloads a file from the bucket.\"\"\"\n",
    "\n",
    "    storage_client = google.cloud.storage.Client()\n",
    "    bucket = storage_client.get_bucket( bucket_name )\n",
    "    blob = bucket.blob( blob_name )\n",
    "\n",
    "    return blob.download_as_string()\n",
    "\n",
    "\n",
    "def slide_bridge( request ):\n",
    "    \"\"\"Responds to any HTTP request.\n",
    "    Args:\n",
    "        request (flask.Request): HTTP request object.\n",
    "    Returns:\n",
    "        The response text or any set of values that can be turned into a\n",
    "        Response object using\n",
    "        `make_response <http://flask.pocoo.org/docs/1.0/api/#flask.Flask.make_response>`.\n",
    "    \"\"\"\n",
    "\n",
    "    # Set CORS headers for the preflight request\n",
    "    if request.method == 'OPTIONS':\n",
    "        # Allows GET requests from any origin with the Content-Type\n",
    "        # header and caches preflight response for an 3600s\n",
    "        headers = {\n",
    "            'Access-Control-Allow-Origin': '*',\n",
    "            'Access-Control-Allow-Methods': 'GET',\n",
    "            'Access-Control-Allow-Headers': 'Content-Type',\n",
    "            'Access-Control-Max-Age': '3600'\n",
    "        }\n",
    "\n",
    "        return ('', 204, headers)\n",
    "\n",
    "    # Set CORS headers for the main request\n",
    "    headers = {\n",
    "        'Access-Control-Allow-Origin': '*'\n",
    "    }\n",
    "\n",
    "    request_json = request.get_json()\n",
    "\n",
    "    slide = \"1\"\n",
    "    read = True\n",
    "\n",
    "    if request.args and 'slide' in request.args:\n",
    "        slide = request.args.get( 'slide' )\n",
    "    if request_json and 'slide' in request_json:\n",
    "        slide = request_json[ 'slide' ]\n",
    "\n",
    "    if request.args and 'write' in request.args:\n",
    "        read = False\n",
    "    if request_json and 'write' in request_json:\n",
    "        read = False\n",
    "\n",
    "    if read == False:\n",
    "        upload_blob( \"active-bolt-265320\", slide, \"slide-c-function.txt\" )\n",
    "\n",
    "    if read == True:\n",
    "        return ( download_blob( \"active-bolt-265320\", \"slide-c-function.txt\" ), 200, headers )\n",
    "\n",
    "    return ( \"\", 200, headers )"
   ]
  }
 ],
 "metadata": {
  "colab": {
   "authorship_tag": "ABX9TyPkDsVvRybOrUcBPPzrJJoK",
   "name": "vpython-test.ipynb",
   "provenance": []
  },
  "kernelspec": {
   "display_name": "Python 3",
   "language": "python",
   "name": "python3"
  },
  "language_info": {
   "codemirror_mode": {
    "name": "ipython",
    "version": 3
   },
   "file_extension": ".py",
   "mimetype": "text/x-python",
   "name": "python",
   "nbconvert_exporter": "python",
   "pygments_lexer": "ipython3",
   "version": "3.7.8"
  }
 },
 "nbformat": 4,
 "nbformat_minor": 1
}
