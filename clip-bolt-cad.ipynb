{
 "cells": [
  {
   "cell_type": "markdown",
   "metadata": {},
   "source": [
    "<h1 style=\"display:inline-block\">Clip Bolt CAD</h1>"
   ]
  },
  {
   "cell_type": "code",
   "execution_count": 7,
   "metadata": {
    "colab": {},
    "colab_type": "code",
    "id": "ezRSPKUC7CER"
   },
   "outputs": [
    {
     "data": {
      "text/html": [
       "<div id=\"a2875bdb-5b24-49ea-a8ed-1ef1b352e9e3\" style=\"height: 600px; width:100%;\"></div>"
      ]
     },
     "metadata": {},
     "output_type": "display_data"
    },
    {
     "data": {
      "application/javascript": [
       "\n",
       "        require([\"https://rawgit.com/caldwell/renderjson/master/renderjson.js\"], function() {\n",
       "        document.getElementById('a2875bdb-5b24-49ea-a8ed-1ef1b352e9e3').appendChild(renderjson({\"model\": {\"sketch\": {\"__id_sketch__\": {\"id\": \"__id_sketch__\", \"geom\": {\"category\": \"curve\", \"type\": \"circle\", \"radius\": \"__radius__\", \"pos\": \"__pos__\"}}}, \"solid\": {\"__id_solid__\": {\"id\": \"__id_solid__\"}}}}))\n",
       "        });\n",
       "        "
      ]
     },
     "metadata": {},
     "output_type": "display_data"
    }
   ],
   "source": [
    "\n",
    "import uuid\n",
    "from IPython.display import display_javascript, display_html, display\n",
    "import json\n",
    "\n",
    "class RenderJSON(object):\n",
    "    def __init__(self, json_data):\n",
    "        if isinstance(json_data, dict):\n",
    "            self.json_str = json.dumps(json_data)\n",
    "        else:\n",
    "            self.json_str = json_data\n",
    "        self.uuid = str(uuid.uuid4())\n",
    "\n",
    "    def _ipython_display_(self):\n",
    "        display_html('<div id=\"{}\" style=\"height: 600px; width:100%;\"></div>'.format(self.uuid), raw=True)\n",
    "        display_javascript(\"\"\"\n",
    "        require([\"https://rawgit.com/caldwell/renderjson/master/renderjson.js\"], function() {\n",
    "        document.getElementById('%s').appendChild(renderjson(%s))\n",
    "        });\n",
    "        \"\"\" % (self.uuid, self.json_str), raw=True)\n",
    "\n",
    "RenderJSON(\n",
    "{\n",
    "    \"model\": \n",
    "    {\n",
    "        \"sketch\": \n",
    "        {\n",
    "            \"__id_sketch__\":\n",
    "            {\n",
    "                \"id\": \"__id_sketch__\",\n",
    "                \"geom\":\n",
    "                {\n",
    "                    \"category\": \"curve\",\n",
    "                    \"type\": \"circle\", \n",
    "                    \"radius\": \"__radius__\", \n",
    "                    \"pos\": \"__pos__\"\n",
    "                }\n",
    "            }\n",
    "        },\n",
    "        \"solid\":\n",
    "        {\n",
    "            \"__id_solid__\":\n",
    "            {\n",
    "                \"id\": \"__id_solid__\",\n",
    "                \n",
    "            }\n",
    "        }\n",
    "    }\n",
    "}\n",
    ")"
   ]
  }
 ],
 "metadata": {
  "colab": {
   "authorship_tag": "ABX9TyPkDsVvRybOrUcBPPzrJJoK",
   "name": "vpython-test.ipynb",
   "provenance": []
  },
  "kernelspec": {
   "display_name": "Python 3",
   "language": "python",
   "name": "python3"
  },
  "language_info": {
   "codemirror_mode": {
    "name": "ipython",
    "version": 3
   },
   "file_extension": ".py",
   "mimetype": "text/x-python",
   "name": "python",
   "nbconvert_exporter": "python",
   "pygments_lexer": "ipython3",
   "version": "3.7.8"
  }
 },
 "nbformat": 4,
 "nbformat_minor": 1
}
