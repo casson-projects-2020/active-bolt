{
 "cells": [
  {
   "cell_type": "markdown",
   "metadata": {},
   "source": [
    "<h1 style=\"display:inline-block\">ActiveVoxel Design</h1><br/>"
   ]
  },
  {
   "cell_type": "markdown",
   "metadata": {
    "colab": {},
    "colab_type": "code",
    "id": "ezRSPKUC7CER"
   },
   "source": [
    "subdivide( get_faces( solid ), divisions )"
   ]
  },
  {
   "cell_type": "code",
   "execution_count": 9,
   "metadata": {},
   "outputs": [],
   "source": [
    "# cube_vxs = [[ px py pz invp id demi? ] ...]\n",
    "\n",
    "# invp is the level of division of the unitary space\n",
    "#  (the inverse of the line parameter in parametric form l = p.t + c)\n",
    "# p in px, py, pz is a multiplier 0 <= p <= invp"
   ]
  },
  {
   "cell_type": "code",
   "execution_count": 10,
   "metadata": {},
   "outputs": [
    {
     "name": "stdout",
     "output_type": "stream",
     "text": [
      "[[1 0 0 1 0 1 0 1]\n",
      " [0 0 0 0 1 1 1 1]\n",
      " [0 0 1 1 1 1 0 0]\n",
      " [1 1 1 1 1 1 1 1]\n",
      " [0 1 2 3 4 5 6 7]\n",
      " [0 0 0 0 0 0 0 0]]\n"
     ]
    }
   ],
   "source": [
    "import numpy as np\n",
    "\n",
    "vxs_py = [[ 1, 0, 0, 1, 0, 0 ], [ 0, 0, 0, 1, 1, 0 ], [ 0, 0, 1, 1, 2, 0 ], [ 1, 0, 1, 1, 3, 0 ], \n",
    "          [ 0, 1, 1, 1, 4, 0 ], [ 1, 1, 1, 1, 5, 0 ], [ 0, 1, 0, 1, 6, 0 ], [ 1, 1, 0, 1, 7, 0 ]]\n",
    "\n",
    "vxs = np.array( vxs_py )\n",
    "\n",
    "print( vxs.transpose() )\n"
   ]
  },
  {
   "cell_type": "code",
   "execution_count": 11,
   "metadata": {},
   "outputs": [
    {
     "name": "stdout",
     "output_type": "stream",
     "text": [
      "{4: (1, 1, 0, 0, 1), 0: (1, 0, 0, 0, 1), 1: (1, 0, 0, 1, 1), 5: (1, 1, 0, 1, 1), 3: (1, 0, 1, 1, 1), 7: (1, 1, 1, 1, 1), 2: (1, 0, 1, 0, 1), 6: (1, 1, 1, 0, 1)}\n"
     ]
    }
   ],
   "source": [
    "# deriving vxs unique ids from their positions\n",
    "# tmax is the max( invp ) - calling invp = t\n",
    "tmax = 1\n",
    "\n",
    "vx_names = { ( tmax + 1 ) * ( tmax + 1 ) * vx[ 0 ] + ( tmax + 1 ) * vx[ 1 ] + vx[ 2 ]: \n",
    "             ( vx[ 3 ], vx[ 0 ], vx[ 1 ], vx[ 2 ], tmax ) for vx in vxs_py }\n",
    "\n",
    "print( vx_names )\n"
   ]
  },
  {
   "cell_type": "code",
   "execution_count": 12,
   "metadata": {},
   "outputs": [
    {
     "name": "stdout",
     "output_type": "stream",
     "text": [
      "12\n",
      "[[ 0  1  2  3  2  4  5  4  6  7  6  0]\n",
      " [ 1  2  3  0  4  5  3  6  7  5  1  7]\n",
      " [ 1  2  3  4  5  6  7  8  9 10 11 12]\n",
      " [ 0  0  0  0  0  0  0  0  0  0  0  0]]\n"
     ]
    }
   ],
   "source": [
    "# edges divided in metadata and data\n",
    "\n",
    "# vx1 vx2 id parent\n",
    "\n",
    "edges_meta_py = [[ 0, 1, 1, 0 ], [ 1, 2, 2, 0 ], [ 2, 3, 3, 0 ], [ 3, 0, 4, 0 ], [ 2, 4, 5, 0 ], \n",
    "                 [ 4, 5, 6, 0 ], [ 5, 3, 7, 0 ], [ 4, 6, 8, 0 ], [ 6, 7, 9, 0 ], [ 7, 5, 10, 0 ],\n",
    "                 [ 6, 1, 11, 0 ], [ 0, 7, 12, 0 ]]\n",
    "\n",
    "\n",
    "edges_meta = np.array( edges_meta_py )\n",
    "\n",
    "max_edge = np.max( edges_meta, 0 )[ 2 ]\n",
    "\n",
    "print( max_edge )\n",
    "\n",
    "print( edges_meta.transpose())\n"
   ]
  },
  {
   "cell_type": "code",
   "execution_count": 13,
   "metadata": {},
   "outputs": [
    {
     "name": "stdout",
     "output_type": "stream",
     "text": [
      "[[1, 0, 0, 1, 0, 1, 0, 1], [0, 0, -1, 1, 0, 1, 0, 2], [-1, 0, 0, 1, 0, 1, 0, 3], [0, 0, 1, 1, 0, 1, 0, 4], [0, -1, 0, 1, 0, 1, 0, 5], [-1, 0, 0, 1, 0, 1, 0, 6], [0, 1, 0, 1, 0, 1, 0, 7], [0, 0, 1, 1, 0, 1, 0, 8], [-1, 0, 0, 1, 0, 1, 0, 9], [0, 0, -1, 1, 0, 1, 0, 10], [0, 1, 0, 1, 0, 1, 0, 11], [0, -1, 0, 1, 0, 1, 0, 12]]\n",
      "\n",
      "[[ 1  0 -1  0  0 -1  0  0 -1  0  0  0]\n",
      " [ 0  0  0  0 -1  0  1  0  0  0  1 -1]\n",
      " [ 0 -1  0  1  0  0  0  1  0 -1  0  0]\n",
      " [ 1  1  1  1  1  1  1  1  1  1  1  1]\n",
      " [ 0  0  0  0  0  0  0  0  0  0  0  0]\n",
      " [ 1  1  1  1  1  1  1  1  1  1  1  1]\n",
      " [ 0  0  0  0  0  0  0  0  0  0  0  0]\n",
      " [ 1  2  3  4  5  6  7  8  9 10 11 12]]\n"
     ]
    }
   ],
   "source": [
    "# dx dy dz divs1 chdiv1 div2 chdiv2 id\n",
    "# ( dx, dy, dz ) = direction vector = vx2 - vx1\n",
    "# divs[n] = how many times this edge were divided related to face n\n",
    "# chdiv[n] = children related to face n were created dividing this edge chdiv[n] times\n",
    "\n",
    "\n",
    "edt_py = [[ vxs_py[ id[ 0 ]][ 0 ], \n",
    "            vxs_py[ id[ 0 ]][ 1 ], \n",
    "            vxs_py[ id[ 0 ]][ 2 ], 1, 0, 1, 0, id[ 2 ]] \n",
    "              for id in edges_meta_py ]\n",
    "\n",
    "edges_data = np.array( edt_py )\n",
    "\n",
    "edt_py2 = [[ vxs_py[ id[ 1 ]][ 0 ], \n",
    "            vxs_py[ id[ 1 ]][ 1 ], \n",
    "            vxs_py[ id[ 1 ]][ 2 ], 0, 0, 0, 0, 0 ] \n",
    "              for id in edges_meta_py ]\n",
    "\n",
    "ed2 = np.array( edt_py2 )\n",
    "\n",
    "edges_data -= ed2\n",
    "edt_py = edges_data.tolist()\n",
    "\n",
    "print( edt_py )\n",
    "print()\n",
    "print( edges_data.transpose())\n"
   ]
  },
  {
   "cell_type": "code",
   "execution_count": 14,
   "metadata": {},
   "outputs": [
    {
     "name": "stdout",
     "output_type": "stream",
     "text": [
      "[[  1   3  -3   6  -6   9  -9  -1 -12  -7 -11  -5]\n",
      " [  2   4   5   7   8  10  11  12  -4 -10  -8  -2]\n",
      " [  0   1   2   3   4   5   6   7   8   9  10  11]]\n"
     ]
    }
   ],
   "source": [
    "# edge1 edge2 id\n",
    "# id < 0 = reversed edge\n",
    "\n",
    "tris_py = [[  1,  2, 0 ], [  3,  4, 1 ], [  -3,  5, 2 ], [  6,   7, 3 ], [  -6,  8,  4 ], [  9, 10,  5 ],\n",
    "           [ -9, 11, 6 ], [ -1, 12, 7 ], [ -12, -4, 8 ], [ -7, -10, 9 ], [ -11, -8, 10 ], [ -5, -2, 11 ]]\n",
    "\n",
    "tris = np.array( tris_py )\n",
    "max_tri = np.max( tris, 0 )[ 2 ]\n",
    "\n",
    "print( tris.transpose())\n"
   ]
  },
  {
   "cell_type": "code",
   "execution_count": 15,
   "metadata": {},
   "outputs": [
    {
     "name": "stdout",
     "output_type": "stream",
     "text": [
      "[[ 0  2  4  6  8 10]\n",
      " [ 1  3  5  7  9 11]\n",
      " [ 0  1  2  3  4  5]]\n"
     ]
    }
   ],
   "source": [
    "# tri1 tri2 id\n",
    "# we do not keep face divisions because unlike edges, parent faces (faces that we divide and generate child faces)\n",
    "# are immediately erased and replaced by its children\n",
    "\n",
    "faces_py = [[ 0, 1, 0 ], [ 2, 3, 1 ], [ 4, 5, 2 ], [ 6, 7, 3 ], [ 8, 9, 4 ], [ 10, 11, 5 ]]\n",
    "\n",
    "faces = np.array( faces_py )\n",
    "\n",
    "max_face = np.max( faces, 0 )[ 2 ]\n",
    "\n",
    "print( faces.transpose())\n"
   ]
  },
  {
   "cell_type": "code",
   "execution_count": 16,
   "metadata": {},
   "outputs": [
    {
     "name": "stdout",
     "output_type": "stream",
     "text": [
      "[0]\n",
      "\n",
      "[1, 2, 3, 4]\n"
     ]
    }
   ],
   "source": [
    "def subdivide( _faces, divs ):\n",
    "    global max_tri, max_face, faces\n",
    "    \n",
    "    nnewf = divs * divs\n",
    "    nnewt = nnewf * 2\n",
    "    \n",
    "    newf_py = [ id for id in range( max_tri + 1, max_tri + nnewt + 1 )]\n",
    "    newf = np.array( newf_py )\n",
    "    newf = np.reshape( newf, ( nnewf, 2 ))\n",
    "    max_tri = max_tri + nnewt\n",
    "\n",
    "    ids_py = [ id for id in range( max_face + 1, max_face + nnewf + 1 )]\n",
    "    ids = np.array( ids_py )\n",
    "    \n",
    "    newf = np.c_[ newf, ids ]\n",
    "    max_face = max_face + nnewf\n",
    "\n",
    "    faces = np.vstack(( faces, newf ))\n",
    "    \n",
    "    _tris = [[ faces[ tri ][ 0 ], faces[ tri ][ 1 ]]  for tri in _faces ]\n",
    "    _tris = [ item for sublist in _tris for item in sublist ]\n",
    "    \n",
    "    # TODO: pra criar os tris novos, tem q determinar as edges deles. Como as edges\n",
    "    # ja podem existir, possivelmente é melhor continuar o algoritmo e gerar as \n",
    "    # novas edges primeiro\n",
    "    \n",
    "    _edges = [[ tris[ edge ][ 0 ], tris[ edge ][ 1 ]] for edge in _tris ]\n",
    "    _edges = [ item for sublist in _edges for item in sublist ]\n",
    "    print( _edges )\n",
    "\n",
    "print( faces[ 0 ][ 0:1 ])\n",
    "print()\n",
    "subdivide( faces[ 0 ][ 0:1 ], 3 )\n"
   ]
  },
  {
   "cell_type": "code",
   "execution_count": null,
   "metadata": {},
   "outputs": [],
   "source": []
  }
 ],
 "metadata": {
  "colab": {
   "authorship_tag": "ABX9TyPkDsVvRybOrUcBPPzrJJoK",
   "name": "vpython-test.ipynb",
   "provenance": []
  },
  "kernelspec": {
   "display_name": "Python 3",
   "language": "python",
   "name": "python3"
  },
  "language_info": {
   "codemirror_mode": {
    "name": "ipython",
    "version": 3
   },
   "file_extension": ".py",
   "mimetype": "text/x-python",
   "name": "python",
   "nbconvert_exporter": "python",
   "pygments_lexer": "ipython3",
   "version": "3.7.8"
  }
 },
 "nbformat": 4,
 "nbformat_minor": 1
}
