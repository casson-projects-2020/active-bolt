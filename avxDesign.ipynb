{
 "cells": [
  {
   "cell_type": "markdown",
   "metadata": {},
   "source": [
    "<h1 style=\"display:inline-block\">ActiveVoxel Design</h1><br/>"
   ]
  },
  {
   "cell_type": "markdown",
   "metadata": {
    "colab": {},
    "colab_type": "code",
    "id": "ezRSPKUC7CER"
   },
   "source": [
    "subdivide( get_faces( solid ), divisions )"
   ]
  },
  {
   "cell_type": "code",
   "execution_count": 1,
   "metadata": {},
   "outputs": [],
   "source": [
    "# cube_vxs = [[ rx ry rz invp id demi? ] ...]\n",
    "\n",
    "# invp is the level of division of the unitary space\n",
    "#  (the inverse of the line parameter in parametric form l = point.p + c)\n",
    "# r in rx, ry, rz is a multiplier 0 <= r <= invp\n",
    "\n",
    "# we use this form to keep integer coordinates, to prevent problems with precision\n",
    "# and prevent ranges of tolerance to use the equality operator "
   ]
  },
  {
   "cell_type": "code",
   "execution_count": 2,
   "metadata": {},
   "outputs": [
    {
     "name": "stdout",
     "output_type": "stream",
     "text": [
      "[[1 0 0 1 0 1 0 1]\n",
      " [0 0 0 0 1 1 1 1]\n",
      " [0 0 1 1 1 1 0 0]\n",
      " [1 1 1 1 1 1 1 1]\n",
      " [0 1 2 3 4 5 6 7]\n",
      " [0 0 0 0 0 0 0 0]]\n"
     ]
    }
   ],
   "source": [
    "import numpy as np\n",
    "\n",
    "vxs_py = [[ 1, 0, 0, 1, 0, 0 ], [ 0, 0, 0, 1, 1, 0 ], [ 0, 0, 1, 1, 2, 0 ], [ 1, 0, 1, 1, 3, 0 ], \n",
    "          [ 0, 1, 1, 1, 4, 0 ], [ 1, 1, 1, 1, 5, 0 ], [ 0, 1, 0, 1, 6, 0 ], [ 1, 1, 0, 1, 7, 0 ]]\n",
    "\n",
    "vxs = np.array( vxs_py )\n",
    "\n",
    "print( vxs.transpose())\n"
   ]
  },
  {
   "cell_type": "code",
   "execution_count": 3,
   "metadata": {},
   "outputs": [
    {
     "name": "stdout",
     "output_type": "stream",
     "text": [
      "{4: (1, 1, 0, 0, 1), 0: (1, 0, 0, 0, 1), 1: (1, 0, 0, 1, 1), 5: (1, 1, 0, 1, 1), 3: (1, 0, 1, 1, 1), 7: (1, 1, 1, 1, 1), 2: (1, 0, 1, 0, 1), 6: (1, 1, 1, 0, 1)}\n"
     ]
    }
   ],
   "source": [
    "# TODO: useful?\n",
    "\n",
    "# deriving vxs unique ids from their positions\n",
    "# pmax is the max( invp ) \n",
    "pmax = 1\n",
    "\n",
    "vx_names = {( pmax + 1 ) * ( pmax + 1 ) * vx[ 0 ] + ( pmax + 1 ) * vx[ 1 ] + vx[ 2 ]: \n",
    "            ( vx[ 3 ], vx[ 0 ], vx[ 1 ], vx[ 2 ], pmax ) for vx in vxs_py }\n",
    "\n",
    "print( vx_names )\n"
   ]
  },
  {
   "cell_type": "code",
   "execution_count": 4,
   "metadata": {},
   "outputs": [
    {
     "name": "stdout",
     "output_type": "stream",
     "text": [
      "11\n",
      "[[ 0  1  2  3  2  4  5  4  6  7  6  0]\n",
      " [ 1  2  3  0  4  5  3  6  7  5  1  7]\n",
      " [ 0  1  2  3  4  5  6  7  8  9 10 11]\n",
      " [ 0  0  0  0  0  0  0  0  0  0  0  0]\n",
      " [ 0  0  0  0  0  0  0  0  0  0  0  0]]\n"
     ]
    }
   ],
   "source": [
    "# edges divided in metadata and data to allow us to perform calculations with the smallest tensor possible\n",
    "\n",
    "# vx1 vx2 id parent demi?\n",
    "\n",
    "# we keep subdivided edges in an hierarchy. Edges can only be subdivided if we subdivide the faces they define.\n",
    "# Two connected faces always share an edge. If we subdiv one of this faces, but not the other, the child edges \n",
    "# will be considered demi-edges (they exist in only one face).\n",
    "\n",
    "# The same happens if we subdiv a face in n slices and the other face in m slices, if m is not a multiple of n.\n",
    "# both sets of child edges will be kept and will be demi-edges, each set belonging to just one face.\n",
    "\n",
    "# If we divide a face in n slices and the other face in n or kn (a multiple of n), the edges will be promoted\n",
    "# to real edges. Their parent structures can be deleted or demoted to demi-geometries and kept for selection\n",
    "# purposes (they can never be promoted to real geometry again). The default behavior is to delete.\n",
    "\n",
    "edges_meta_py = [[ 0, 1, 0, 0, 0 ], [ 1, 2, 1, 0,  0 ], [ 2, 3, 2, 0,  0 ], [ 3, 0, 3, 0, 0 ],  \n",
    "                 [ 2, 4, 4, 0, 0 ], [ 4, 5, 5,  0, 0 ], [ 5, 3, 6, 0,  0 ], [ 4, 6, 7, 0, 0 ], \n",
    "                 [ 6, 7, 8, 0, 0 ], [ 7, 5, 9, 0, 0 ], [ 6, 1, 10, 0, 0 ], [ 0, 7, 11, 0, 0 ]]\n",
    "\n",
    "\n",
    "edges_meta = np.array( edges_meta_py )\n",
    "\n",
    "max_edge = np.max( edges_meta, 0 )[ 2 ]\n",
    "\n",
    "print( max_edge )\n",
    "\n",
    "print( edges_meta.transpose())\n"
   ]
  },
  {
   "cell_type": "code",
   "execution_count": 5,
   "metadata": {},
   "outputs": [
    {
     "name": "stdout",
     "output_type": "stream",
     "text": [
      "[[1, 0, 0, 1, 0, 1, 0, 0], [0, 0, -1, 1, 0, 1, 0, 1], [-1, 0, 0, 1, 0, 1, 0, 2], [0, 0, 1, 1, 0, 1, 0, 3], [0, -1, 0, 1, 0, 1, 0, 4], [-1, 0, 0, 1, 0, 1, 0, 5], [0, 1, 0, 1, 0, 1, 0, 6], [0, 0, 1, 1, 0, 1, 0, 7], [-1, 0, 0, 1, 0, 1, 0, 8], [0, 0, -1, 1, 0, 1, 0, 9], [0, 1, 0, 1, 0, 1, 0, 10], [0, -1, 0, 1, 0, 1, 0, 11]]\n",
      "\n",
      "[[ 1  0 -1  0  0 -1  0  0 -1  0  0  0]\n",
      " [ 0  0  0  0 -1  0  1  0  0  0  1 -1]\n",
      " [ 0 -1  0  1  0  0  0  1  0 -1  0  0]\n",
      " [ 1  1  1  1  1  1  1  1  1  1  1  1]\n",
      " [ 0  0  0  0  0  0  0  0  0  0  0  0]\n",
      " [ 1  1  1  1  1  1  1  1  1  1  1  1]\n",
      " [ 0  0  0  0  0  0  0  0  0  0  0  0]\n",
      " [ 0  1  2  3  4  5  6  7  8  9 10 11]]\n"
     ]
    }
   ],
   "source": [
    "# dx dy dz divs1 chdiv1 div2 chdiv2 id\n",
    "# ( dx, dy, dz ) = direction vector = vx2 - vx1\n",
    "# divs[n] = how many times this edge is divided in relation to face n\n",
    "# chdiv[n] = children related to face n were created dividing this edge chdiv[n] times\n",
    "\n",
    "# we keep v2 - v1 in the edges to allow us to make calculations to the edges directly without \n",
    "# use the vertices (this implies that if we change the vertices edges must be updated).\n",
    "\n",
    "# in this data structure we keep the divisions of children edges, demi or real\n",
    "\n",
    "edt_py = [[ vxs_py[ id[ 0 ]][ 0 ], \n",
    "            vxs_py[ id[ 0 ]][ 1 ], \n",
    "            vxs_py[ id[ 0 ]][ 2 ], 1, 0, 1, 0, id[ 2 ]] \n",
    "              for id in edges_meta_py ]\n",
    "\n",
    "edges_data = np.array( edt_py )\n",
    "\n",
    "edt_py2 = [[ vxs_py[ id[ 1 ]][ 0 ], \n",
    "            vxs_py[ id[ 1 ]][ 1 ], \n",
    "            vxs_py[ id[ 1 ]][ 2 ], 0, 0, 0, 0, 0 ] \n",
    "              for id in edges_meta_py ]\n",
    "\n",
    "ed2 = np.array( edt_py2 )\n",
    "\n",
    "edges_data -= ed2\n",
    "edt_py = edges_data.tolist()\n",
    "\n",
    "print( edt_py )\n",
    "print()\n",
    "print( edges_data.transpose())\n"
   ]
  },
  {
   "cell_type": "code",
   "execution_count": 6,
   "metadata": {},
   "outputs": [
    {
     "name": "stdout",
     "output_type": "stream",
     "text": [
      "[[ 0  2  2  5  5  8  8  0 11  6 10  4]\n",
      " [ 1  3  4  6  7  9 10 11  3  9  7  1]\n",
      " [ 0  0  1  0  1  0  1  1  1  1  1  1]\n",
      " [ 0  0  0  0  0  0  0  0  1  1  1  1]\n",
      " [ 0  1  2  3  4  5  6  7  8  9 10 11]\n",
      " [ 0  0  0  0  0  0  0  0  0  0  0  0]\n",
      " [ 0  0  0  0  0  0  0  0  0  0  0  0]]\n"
     ]
    }
   ],
   "source": [
    "# edge1 edge2 rev1 rev2 id demi? parent\n",
    "# id < 0 = reversed edge\n",
    "\n",
    "# two edges will be used to define tris. Just like edges tris, after subdivs,\n",
    "# will be deleted and replaced by their children by default, but they can be kept as demi-tris for\n",
    "# selection purposes\n",
    "\n",
    "# rev[n] indicates if edge[n] should be considered reversed (2o vx -> 1o vx instead of 1o -> 2o)\n",
    "\n",
    "tris_py = [[ 0,  1, 0, 0, 0, 0, 0 ], [  2,  3, 0, 0,  1, 0, 0 ], [  2, 4, 1, 0,  2, 0, 0 ], \n",
    "           [ 5,  6, 0, 0, 3, 0, 0 ], [  5,  7, 1, 0,  4, 0, 0 ], [  8, 9, 0, 0,  5, 0, 0 ], \n",
    "           [ 8, 10, 1, 0, 6, 0, 0 ], [  0, 11, 1, 0,  7, 0, 0 ], [ 11, 3, 1, 1,  8, 0, 0 ], \n",
    "           [ 6, 9 , 1, 1, 9, 0, 0 ], [ 10,  7, 1, 1, 10, 0, 0 ], [  4, 1, 1, 1, 11, 0, 0 ]]\n",
    "\n",
    "tris = np.array( tris_py )\n",
    "max_tri = np.max( tris, 0 )[ 2 ]\n",
    "\n",
    "print( tris.transpose())\n"
   ]
  },
  {
   "cell_type": "code",
   "execution_count": 1,
   "metadata": {},
   "outputs": [
    {
     "ename": "NameError",
     "evalue": "name 'faces' is not defined",
     "output_type": "error",
     "traceback": [
      "\u001b[0;31m---------------------------------------------------------------------------\u001b[0m",
      "\u001b[0;31mNameError\u001b[0m                                 Traceback (most recent call last)",
      "\u001b[0;32m<ipython-input-1-124c0a4dcced>\u001b[0m in \u001b[0;36m<module>\u001b[0;34m\u001b[0m\n\u001b[1;32m     72\u001b[0m     \u001b[0mprint\u001b[0m\u001b[0;34m(\u001b[0m \u001b[0m_edges\u001b[0m \u001b[0;34m)\u001b[0m\u001b[0;34m\u001b[0m\u001b[0;34m\u001b[0m\u001b[0m\n\u001b[1;32m     73\u001b[0m \u001b[0;34m\u001b[0m\u001b[0m\n\u001b[0;32m---> 74\u001b[0;31m \u001b[0mprint\u001b[0m\u001b[0;34m(\u001b[0m \u001b[0mfaces\u001b[0m\u001b[0;34m[\u001b[0m \u001b[0;36m0\u001b[0m \u001b[0;34m]\u001b[0m\u001b[0;34m[\u001b[0m \u001b[0;36m0\u001b[0m\u001b[0;34m:\u001b[0m\u001b[0;36m1\u001b[0m \u001b[0;34m]\u001b[0m\u001b[0;34m)\u001b[0m\u001b[0;34m\u001b[0m\u001b[0;34m\u001b[0m\u001b[0m\n\u001b[0m\u001b[1;32m     75\u001b[0m \u001b[0mprint\u001b[0m\u001b[0;34m(\u001b[0m\u001b[0;34m)\u001b[0m\u001b[0;34m\u001b[0m\u001b[0;34m\u001b[0m\u001b[0m\n\u001b[1;32m     76\u001b[0m \u001b[0msubdivide\u001b[0m\u001b[0;34m(\u001b[0m \u001b[0mfaces\u001b[0m\u001b[0;34m[\u001b[0m \u001b[0;36m0\u001b[0m \u001b[0;34m]\u001b[0m\u001b[0;34m[\u001b[0m \u001b[0;36m0\u001b[0m\u001b[0;34m:\u001b[0m\u001b[0;36m1\u001b[0m \u001b[0;34m]\u001b[0m\u001b[0;34m,\u001b[0m \u001b[0;36m3\u001b[0m \u001b[0;34m)\u001b[0m\u001b[0;34m\u001b[0m\u001b[0;34m\u001b[0m\u001b[0m\n",
      "\u001b[0;31mNameError\u001b[0m: name 'faces' is not defined"
     ]
    }
   ],
   "source": [
    "# subdiv tris algorithm\n",
    "\n",
    "# (vxs algorithms are all abstracted in the promote and demote algorithms here)\n",
    "\n",
    "# subdiv in n parts (n = 2 will result in n^2 = 4 tris )\n",
    "\n",
    "# based on the tris selected (remove all demi-tris) we locate all edges \n",
    "# from all edges we select two groups: \n",
    "\t# 1 - the ones that do not have n demi-edges as children\n",
    "\t# 2 - the ones that do have n demi-edges as children\n",
    "\n",
    "# all in group 1 should be divided in n demi-edges, using # subdiv edges algorithm\n",
    "# all children demi-edges in 2 should be promoted to real edges, using #promote to real edges\n",
    "\n",
    "# select again all edges children of the original one, in two groups, one for each original edge\n",
    "\t# of each tri (so all the children of the first original edge of all tris in a group, and \n",
    "\t# all children of the second original edge off all tris in the other )\n",
    "\n",
    "\t# the first group will be called \"original row\" and the second \"original column\"\n",
    "\n",
    "# generate n - 1 rows of real edges corresponding to the tri subdiv, based on the original row, and add original row to it\n",
    "# generate n - 1 cols of real edges corresponding to the tri subdiv, based on the original col, and add original col to it\n",
    "\n",
    "# generate a cross of all rows x all cols based on shared vxs and angle of 90o degrees following\n",
    "\t# the space base (clockwise)\n",
    "# add a cross of r x c based on shared vxs when edges point to the shared vx (invert cols)\n",
    "# add a cross of r x c based on shared vxs when edges point away from it (invert rows)\n",
    "# add a cross of r x c based on shared vxs based on angle of 90o degrees against the space base\n",
    "\t# (counter clockwise, invert rows and cols )\n",
    "\n",
    "# generate tris \n",
    "\n",
    "# if the behaviour is preserve parent, demote old tris to demi-tris and link new tris,\n",
    "\t# using # demote tris\n",
    "# or else delete old tris\n",
    "\n",
    "# select all original edges that have real children and no demi-children\n",
    "# demote all them to demi-edges, using # demote edges\n",
    "\n",
    "\n",
    "# TODO: criar links para manter infos de parent em tris\n",
    "# TODO: criar estrutura vx -> edge pra poder fazer o cross edges row x edges col\n",
    "\n",
    "def subdivide( _faces, divs ):\n",
    "    global max_tri, max_face, faces\n",
    "    \n",
    "    nnewf = divs * divs\n",
    "    nnewt = nnewf * 2\n",
    "    \n",
    "    newf_py = [ id for id in range( max_tri + 1, max_tri + nnewt + 1 )]\n",
    "    newf = np.array( newf_py )\n",
    "    newf = np.reshape( newf, ( nnewf, 2 ))\n",
    "    max_tri = max_tri + nnewt\n",
    "\n",
    "    ids_py = [ id for id in range( max_face + 1, max_face + nnewf + 1 )]\n",
    "    ids = np.array( ids_py )\n",
    "    \n",
    "    newf = np.c_[ newf, ids ]\n",
    "    max_face = max_face + nnewf\n",
    "\n",
    "    faces = np.vstack(( faces, newf ))\n",
    "    \n",
    "    _tris = [[ faces[ tri ][ 0 ], faces[ tri ][ 1 ]]  for tri in _faces ]\n",
    "    _tris = [ item for sublist in _tris for item in sublist ]\n",
    "    \n",
    "    # TODO: pra criar os tris novos, tem q determinar as edges deles. Como as edges\n",
    "    # ja podem existir, possivelmente é melhor continuar o algoritmo e gerar as \n",
    "    # novas edges primeiro\n",
    "    \n",
    "    _edges = [[ tris[ edge ][ 0 ], tris[ edge ][ 1 ]] for edge in _tris ]\n",
    "    _edges = [ item for sublist in _edges for item in sublist ]\n",
    "    print( _edges )\n",
    "\n",
    "print( faces[ 0 ][ 0:1 ])\n",
    "print()\n",
    "subdivide( faces[ 0 ][ 0:1 ], 3 )\n"
   ]
  },
  {
   "cell_type": "code",
   "execution_count": null,
   "metadata": {},
   "outputs": [
    {
     "data": {
      "text/html": [
       "<div id=\"glowscript\" class=\"glowscript\"></div>"
      ],
      "text/plain": [
       "<IPython.core.display.HTML object>"
      ]
     },
     "metadata": {},
     "output_type": "display_data"
    },
    {
     "data": {
      "application/javascript": [
       "if (typeof Jupyter !== \"undefined\") { window.__context = { glowscript_container: $(\"#glowscript\").removeAttr(\"id\")};}else{ element.textContent = ' ';}"
      ],
      "text/plain": [
       "<IPython.core.display.Javascript object>"
      ]
     },
     "metadata": {},
     "output_type": "display_data"
    },
    {
     "data": {
      "application/javascript": [
       "if (typeof Jupyter !== \"undefined\") {require.undef(\"nbextensions/vpython_libraries/glow.min\");}else{element.textContent = ' ';}"
      ],
      "text/plain": [
       "<IPython.core.display.Javascript object>"
      ]
     },
     "metadata": {},
     "output_type": "display_data"
    },
    {
     "data": {
      "application/javascript": [
       "if (typeof Jupyter !== \"undefined\") {require.undef(\"nbextensions/vpython_libraries/glowcomm\");}else{element.textContent = ' ';}"
      ],
      "text/plain": [
       "<IPython.core.display.Javascript object>"
      ]
     },
     "metadata": {},
     "output_type": "display_data"
    },
    {
     "data": {
      "application/javascript": [
       "if (typeof Jupyter !== \"undefined\") {require.undef(\"nbextensions/vpython_libraries/jquery-ui.custom.min\");}else{element.textContent = ' ';}"
      ],
      "text/plain": [
       "<IPython.core.display.Javascript object>"
      ]
     },
     "metadata": {},
     "output_type": "display_data"
    },
    {
     "data": {
      "application/javascript": [
       "if (typeof Jupyter !== \"undefined\") {require([\"nbextensions/vpython_libraries/glow.min\"], function(){console.log(\"GLOW LOADED\");});}else{element.textContent = ' ';}"
      ],
      "text/plain": [
       "<IPython.core.display.Javascript object>"
      ]
     },
     "metadata": {},
     "output_type": "display_data"
    },
    {
     "data": {
      "application/javascript": [
       "if (typeof Jupyter !== \"undefined\") {require([\"nbextensions/vpython_libraries/glowcomm\"], function(){console.log(\"GLOWCOMM LOADED\");});}else{element.textContent = ' ';}"
      ],
      "text/plain": [
       "<IPython.core.display.Javascript object>"
      ]
     },
     "metadata": {},
     "output_type": "display_data"
    },
    {
     "data": {
      "application/javascript": [
       "if (typeof Jupyter !== \"undefined\") {require([\"nbextensions/vpython_libraries/jquery-ui.custom.min\"], function(){console.log(\"JQUERY LOADED\");});}else{element.textContent = ' ';}"
      ],
      "text/plain": [
       "<IPython.core.display.Javascript object>"
      ]
     },
     "metadata": {},
     "output_type": "display_data"
    }
   ],
   "source": [
    "# translate to the viewer technology\n",
    "\n",
    "# we will use vpython here, but the algorithm is probably the same or similar for all technologies\n",
    "\n",
    "# generate vertex data\n",
    "# generate tris data\n",
    "# generate vertex normal data\n",
    "# generate object data\n",
    "# pass object to be rendered\n",
    "\n",
    "from vpython import *\n",
    "\n",
    "     \n",
    "# generate vertex data - use TF to generate [ rx * 1/invp, ry * 1/invp, rz * 1/invp ] from vx tensor\n",
    "#  first sort the vx tensor since the order of the index will change during operations\n",
    "vxs = vxs[ vxs[ :, 4 ].argsort()]\n",
    "\n",
    "vdata = 1.0 / vxs[:, 3 ]\n",
    "vdata = np.multiply( vxs[:, [0, 1, 2]], vdata[:, None])\n",
    "\n",
    "#print( vdata )\n",
    "\n",
    "# generate tris data\n",
    "# use edges do index vxs\n",
    "    # TODO: edges precisa ser ordenada? Vao existir operacoes q tiram as edges de ordem? provavelmente sim\n",
    "    \n",
    "# vxs of 1st edge\n",
    "egdata = edges_meta[ tris[:, 0 ], 0:2 ]\n",
    "\n",
    "    # reversed edges ( rev1 )\n",
    "rev = tris[:, 2 ]\n",
    "m = rev > 0\n",
    "swap = egdata[ m, 0 ]\n",
    "\n",
    "egdata[ m, 0 ] = egdata[ m, 1 ]\n",
    "egdata[ m, 1 ] = swap\n",
    "\n",
    "# vxs of 2nd edge\n",
    "egdata2 = edges_meta[ tris[:, 1 ], 0:2 ]\n",
    "\n",
    "    # reversed edges ( rev2 )\n",
    "rev = tris[:, 3 ]\n",
    "m = rev > 0\n",
    "swap = egdata2[ m, 0 ]\n",
    "\n",
    "egdata2[ m, 0 ] = egdata2[ m, 1 ]\n",
    "egdata2[ m, 1 ] = swap\n",
    "\n",
    "tdata = np.c_[ egdata, egdata2[ :, 1 ]]\n",
    "# generate vxs in the view technology\n",
    "# using vpython\n",
    "\n",
    "vpvecs = [ vec( vdata[ k, 0 ], vdata[ k, 1 ], vdata[ k, 2 ]) for k in range( vdata.shape[ 0 ])]\n",
    "\n",
    "vpvxs = [ vertex( pos=vpvecs[ k ], color=vec( float(( k & 4 ) / 4 ), float(( k & 2 ) / 2 ), float( k & 1 ))) \n",
    "             for k in range( vdata.shape[ 0 ])]\n",
    "\n",
    "# generate tris\n",
    "vptris = [ triangle( vs=[ vpvxs[ tdata[ k, 0 ]], vpvxs[ tdata[ k, 1 ]], vpvxs[ tdata[ k, 2 ]]]) \n",
    "                       for k in range( tdata.shape[ 0 ])]\n",
    "\n",
    "# generate solid\n",
    "vpobj = compound( vptris )\n",
    "vpobj.visible = True\n",
    "\n",
    "# generating edges ( just to visualize them in vpython, this step is not necessary in all viewing technologies)\n",
    "vpedges1 = [ curve( pos=[ vpvecs[ tdata[ k, 0 ]], vpvecs[ tdata[ k, 1 ]]], \n",
    "                   color=vec( 0.5,0.5,0.5 )) for k in range( tdata.shape[ 0 ])]\n",
    "\n",
    "vpedges2 = [ curve( pos=[ vpvecs[ tdata[ k, 1 ]], vpvecs[ tdata[ k, 2 ]]], \n",
    "                   color=vec( 0.5,0.5,0.5 )) for k in range( tdata.shape[ 0 ])]\n",
    "\n",
    "vpedges3 = [ curve( pos=[ vpvecs[ tdata[ k, 2 ]], vpvecs[ tdata[ k, 0 ]]], \n",
    "                   color=vec( 0.5,0.5,0.5 )) for k in range( tdata.shape[ 0 ])]\n",
    "\n",
    "# init vpython and show the solid\n",
    "#scene = canvas() # for jupyter notebooks\n",
    "#scene.forward = vec( 0, -1, 0 )\n",
    "\n",
    "#c = curve(vector(-1,-1,0), vector(1,-1,0))\n",
    "\n",
    "while True:\n",
    "    rate( 60 )"
   ]
  },
  {
   "cell_type": "code",
   "execution_count": 10,
   "metadata": {},
   "outputs": [
    {
     "name": "stdout",
     "output_type": "stream",
     "text": [
      "[(0.0, 0.0, 0.0), (0.0, 0.0, 1.0), (0.0, 1.0, 0.0), (0.0, 1.0, 1.0), (1.0, 0.0, 0.0), (1.0, 0.0, 1.0), (1.0, 1.0, 0.0), (1.0, 1.0, 1.0)]\n"
     ]
    }
   ],
   "source": [
    "test = [ ( float(( k & 4 ) / 4 ), float(( k & 2 ) / 2 ), float( k & 1 )) for k in range( vdata.shape[ 0 ])]\n",
    "print( test )"
   ]
  },
  {
   "cell_type": "code",
   "execution_count": null,
   "metadata": {},
   "outputs": [],
   "source": []
  }
 ],
 "metadata": {
  "colab": {
   "authorship_tag": "ABX9TyPkDsVvRybOrUcBPPzrJJoK",
   "name": "vpython-test.ipynb",
   "provenance": []
  },
  "kernelspec": {
   "display_name": "Python 3",
   "language": "python",
   "name": "python3"
  },
  "language_info": {
   "codemirror_mode": {
    "name": "ipython",
    "version": 3
   },
   "file_extension": ".py",
   "mimetype": "text/x-python",
   "name": "python",
   "nbconvert_exporter": "python",
   "pygments_lexer": "ipython3",
   "version": "3.7.8"
  }
 },
 "nbformat": 4,
 "nbformat_minor": 1
}
