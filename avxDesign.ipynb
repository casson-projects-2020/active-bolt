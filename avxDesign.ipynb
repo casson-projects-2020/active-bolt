{
 "cells": [
  {
   "cell_type": "markdown",
   "metadata": {},
   "source": [
    "<h1 style=\"display:inline-block\">ActiveVoxel Design</h1><br/>"
   ]
  },
  {
   "cell_type": "markdown",
   "metadata": {
    "colab": {},
    "colab_type": "code",
    "id": "ezRSPKUC7CER"
   },
   "source": [
    "subdivide( get_faces( solid ), divisions )"
   ]
  },
  {
   "cell_type": "code",
   "execution_count": null,
   "metadata": {},
   "outputs": [],
   "source": [
    "# cube_vxs = [[ px py pz t id demi? ] ...]\n",
    "\n",
    "# t is the level of division of the unitary space\n",
    "# p is a multiplier <= t"
   ]
  },
  {
   "cell_type": "code",
   "execution_count": 1,
   "metadata": {},
   "outputs": [
    {
     "name": "stdout",
     "output_type": "stream",
     "text": [
      "[[1 0 0 1 0 1 0 1]\n",
      " [0 0 0 0 1 1 1 1]\n",
      " [0 0 1 1 1 1 0 0]\n",
      " [1 1 1 1 1 1 1 1]\n",
      " [0 1 2 3 4 5 6 7]\n",
      " [0 0 0 0 0 0 0 0]]\n"
     ]
    }
   ],
   "source": [
    "import numpy as np\n",
    "\n",
    "vxs_py = [[ 1, 0, 0, 1, 0, 0 ], [ 0, 0, 0, 1, 1, 0 ], [ 0, 0, 1, 1, 2, 0 ], [ 1, 0, 1, 1, 3, 0 ], \n",
    "          [ 0, 1, 1, 1, 4, 0 ], [ 1, 1, 1, 1, 5, 0 ], [ 0, 1, 0, 1, 6, 0 ], [ 1, 1, 0, 1, 7, 0 ]]\n",
    "\n",
    "vxs = np.array( vxs_py )\n",
    "\n",
    "print( vxs.transpose() )\n"
   ]
  },
  {
   "cell_type": "code",
   "execution_count": 3,
   "metadata": {},
   "outputs": [
    {
     "name": "stdout",
     "output_type": "stream",
     "text": [
      "{4: (0, 1, 0, 0, 1), 0: (1, 0, 0, 0, 1), 1: (2, 0, 0, 1, 1), 5: (3, 1, 0, 1, 1), 3: (4, 0, 1, 1, 1), 7: (5, 1, 1, 1, 1), 2: (6, 0, 1, 0, 1), 6: (7, 1, 1, 0, 1)}\n"
     ]
    }
   ],
   "source": [
    "tmax = 1\n",
    "\n",
    "vx_names = { ( tmax + 1 ) * ( tmax + 1 ) * vx[ 0 ] + ( tmax + 1 ) * vx[ 1 ] + vx[ 2 ]: \n",
    "             ( vx[ 3 ], vx[ 0 ], vx[ 1 ], vx[ 2 ], tmax ) for vx in vxs_py }\n",
    "\n",
    "print( vx_names )\n"
   ]
  },
  {
   "cell_type": "code",
   "execution_count": 4,
   "metadata": {},
   "outputs": [
    {
     "name": "stdout",
     "output_type": "stream",
     "text": [
      "[[ 0  1  2  3  2  4  5  4  6  7  6  0]\n",
      " [ 1  2  3  0  4  5  3  6  7  5  1  7]\n",
      " [ 1  2  3  4  5  6  7  8  9 10 11 12]\n",
      " [ 1  2  3  4  5  6  7  8  9 10 11 12]]\n"
     ]
    }
   ],
   "source": [
    "# vx1 vx2 id parent\n",
    "\n",
    "edges_meta_py = [[ 0, 1, 1, 1 ], [ 1, 2, 2, 2 ], [ 2, 3, 3, 3 ], [ 3, 0, 4, 4 ], [ 2, 4, 5, 5 ], \n",
    "                 [ 4, 5, 6, 6 ], [ 5, 3, 7, 7 ], [ 4, 6, 8, 8 ], [ 6, 7, 9, 9 ], [ 7, 5, 10, 10 ],\n",
    "                 [ 6, 1, 11, 11 ], [ 0, 7, 12, 12 ]]\n",
    "\n",
    "edges_meta = np.array( edges_meta_py )\n",
    "\n",
    "print( edges_meta.transpose())\n"
   ]
  },
  {
   "cell_type": "code",
   "execution_count": 13,
   "metadata": {},
   "outputs": [
    {
     "name": "stdout",
     "output_type": "stream",
     "text": [
      "[[ 1  0 -1  0  0 -1  0  0 -1  0  0  0]\n",
      " [ 0  0  0  0 -1  0  1  0  0  0  1 -1]\n",
      " [ 0 -1  0  1  0  0  0  1  0 -1  0  0]]\n"
     ]
    }
   ],
   "source": [
    "# dx dy dz\n",
    "# direction vector = vx2 - vx1\n",
    "\n",
    "edt_py = [[ vxs_py[ id[ 0 ]][ 0 ], \n",
    "            vxs_py[ id[ 0 ]][ 1 ], \n",
    "            vxs_py[ id[ 0 ]][ 2 ]] \n",
    "              for id in edges_meta_py ]\n",
    "\n",
    "edges_data = np.array( edt_py )\n",
    "\n",
    "edt_py2 = [[ vxs_py[ id[ 1 ]][ 0 ], \n",
    "            vxs_py[ id[ 1 ]][ 1 ], \n",
    "            vxs_py[ id[ 1 ]][ 2 ]] \n",
    "              for id in edges_meta_py ]\n",
    "\n",
    "ed2 = np.array( edt_py2 )\n",
    "\n",
    "edges_data -= ed2\n",
    "\n",
    "print( edges_data.transpose())\n"
   ]
  },
  {
   "cell_type": "code",
   "execution_count": 24,
   "metadata": {},
   "outputs": [
    {
     "name": "stdout",
     "output_type": "stream",
     "text": [
      "[[  1   3  -3   6  -6   9  -9  -1 -12  -7 -11  -5]\n",
      " [  2   4   5   7   8  10  11  12  -4 -10  -8  -2]\n",
      " [  0   1   2   3   4   5   6   7   8   9  10  11]]\n"
     ]
    }
   ],
   "source": [
    "# edge1 edge2 id\n",
    "# id < 0 = reversed edge\n",
    "\n",
    "tris_py = [[  1,  2, 0 ], [  3,  4, 1 ], [  -3,  5, 2 ], [  6,   7, 3 ], [  -6,  8,  4 ], [  9, 10,  5 ],\n",
    "           [ -9, 11, 6 ], [ -1, 12, 7 ], [ -12, -4, 8 ], [ -7, -10, 9 ], [ -11, -8, 10 ], [ -5, -2, 11 ]]\n",
    "\n",
    "tris = np.array( tris_py )\n",
    "\n",
    "print( tris.transpose())\n"
   ]
  },
  {
   "cell_type": "code",
   "execution_count": 25,
   "metadata": {},
   "outputs": [
    {
     "name": "stdout",
     "output_type": "stream",
     "text": [
      "[[ 0  2  4  6  8 10]\n",
      " [ 1  3  5  7  9 11]\n",
      " [ 0  1  2  3  4  5]]\n"
     ]
    }
   ],
   "source": [
    "faces_py = [[ 0, 1, 0 ], [ 2, 3, 1 ], [ 4, 5, 2 ], [ 6, 7, 3 ], [ 8, 9, 4 ], [ 10, 11, 5 ]]\n",
    "\n",
    "faces = np.array( faces_py )\n",
    "\n",
    "print( faces.transpose())\n"
   ]
  },
  {
   "cell_type": "code",
   "execution_count": 26,
   "metadata": {},
   "outputs": [
    {
     "name": "stdout",
     "output_type": "stream",
     "text": [
      "[1, 2]\n"
     ]
    }
   ],
   "source": [
    "def subdivide( _faces, divs ):\n",
    "    _tris = [[ tris[ tri ][ 0 ], tris[ tri ][ 1 ]]  for tri in _faces ]\n",
    "    _tris = [ item for sublist in _tris for item in sublist ]\n",
    "    print( _tris )\n",
    "\n",
    "subdivide( faces[ 0 ][ 0:1 ], 3 )\n"
   ]
  },
  {
   "cell_type": "code",
   "execution_count": null,
   "metadata": {},
   "outputs": [],
   "source": []
  },
  {
   "cell_type": "code",
   "execution_count": null,
   "metadata": {},
   "outputs": [],
   "source": []
  }
 ],
 "metadata": {
  "colab": {
   "authorship_tag": "ABX9TyPkDsVvRybOrUcBPPzrJJoK",
   "name": "vpython-test.ipynb",
   "provenance": []
  },
  "kernelspec": {
   "display_name": "Python 3",
   "language": "python",
   "name": "python3"
  },
  "language_info": {
   "codemirror_mode": {
    "name": "ipython",
    "version": 3
   },
   "file_extension": ".py",
   "mimetype": "text/x-python",
   "name": "python",
   "nbconvert_exporter": "python",
   "pygments_lexer": "ipython3",
   "version": "3.7.8"
  }
 },
 "nbformat": 4,
 "nbformat_minor": 1
}
