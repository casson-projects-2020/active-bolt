{
 "cells": [
  {
   "cell_type": "markdown",
   "metadata": {},
   "source": [
    "<h1 style=\"display:inline-block\">ActiveVoxel Design</h1><br/>"
   ]
  },
  {
   "cell_type": "markdown",
   "metadata": {
    "colab": {},
    "colab_type": "code",
    "id": "ezRSPKUC7CER"
   },
   "source": [
    "subdivide( get_faces( solid ), divisions )"
   ]
  },
  {
   "cell_type": "code",
   "execution_count": 1,
   "metadata": {},
   "outputs": [],
   "source": [
    "# cube_vxs = [[ rx ry rz invp id demi? ] ...]\n",
    "\n",
    "# invp is the level of division of the unitary space\n",
    "#  (the inverse of the line parameter in parametric form l = point.p + c)\n",
    "# r in rx, ry, rz is a multiplier 0 <= r <= invp\n",
    "\n",
    "# we use this form to keep integer coordinates, to prevent problems with precision\n",
    "# and prevent ranges of tolerance to use the equality operator "
   ]
  },
  {
   "cell_type": "code",
   "execution_count": 3,
   "metadata": {},
   "outputs": [
    {
     "name": "stdout",
     "output_type": "stream",
     "text": [
      "[[1 0 0 1 0 1 0 1]\n",
      " [0 0 0 0 1 1 1 1]\n",
      " [0 0 1 1 1 1 0 0]\n",
      " [1 1 1 1 1 1 1 1]\n",
      " [0 1 2 3 4 5 6 7]\n",
      " [0 0 0 0 0 0 0 0]]\n"
     ]
    }
   ],
   "source": [
    "import numpy as np\n",
    "\n",
    "vxs_py = [[ 1, 0, 0, 1, 0, 0 ], [ 0, 0, 0, 1, 1, 0 ], [ 0, 0, 1, 1, 2, 0 ], [ 1, 0, 1, 1, 3, 0 ], \n",
    "          [ 0, 1, 1, 1, 4, 0 ], [ 1, 1, 1, 1, 5, 0 ], [ 0, 1, 0, 1, 6, 0 ], [ 1, 1, 0, 1, 7, 0 ]]\n",
    "\n",
    "vxs = np.array( vxs_py )\n",
    "\n",
    "print( vxs.transpose() )\n"
   ]
  },
  {
   "cell_type": "code",
   "execution_count": 11,
   "metadata": {},
   "outputs": [
    {
     "name": "stdout",
     "output_type": "stream",
     "text": [
      "{4: (1, 1, 0, 0, 1), 0: (1, 0, 0, 0, 1), 1: (1, 0, 0, 1, 1), 5: (1, 1, 0, 1, 1), 3: (1, 0, 1, 1, 1), 7: (1, 1, 1, 1, 1), 2: (1, 0, 1, 0, 1), 6: (1, 1, 1, 0, 1)}\n"
     ]
    }
   ],
   "source": [
    "# TODO: useful?\n",
    "\n",
    "# deriving vxs unique ids from their positions\n",
    "# pmax is the max( invp ) \n",
    "pmax = 1\n",
    "\n",
    "vx_names = { ( pmax + 1 ) * ( pmax + 1 ) * vx[ 0 ] + ( pmax + 1 ) * vx[ 1 ] + vx[ 2 ]: \n",
    "             ( vx[ 3 ], vx[ 0 ], vx[ 1 ], vx[ 2 ], pmax ) for vx in vxs_py }\n",
    "\n",
    "print( vx_names )\n"
   ]
  },
  {
   "cell_type": "code",
   "execution_count": 7,
   "metadata": {},
   "outputs": [
    {
     "name": "stdout",
     "output_type": "stream",
     "text": [
      "12\n",
      "[[ 0  1  2  3  2  4  5  4  6  7  6  0]\n",
      " [ 1  2  3  0  4  5  3  6  7  5  1  7]\n",
      " [ 1  2  3  4  5  6  7  8  9 10 11 12]\n",
      " [ 0  0  0  0  0  0  0  0  0  0  0  0]\n",
      " [ 0  0  0  0  0  0  0  0  0  0  0  0]]\n"
     ]
    }
   ],
   "source": [
    "# edges divided in metadata and data to allow us to perform calculations with the smallest tensor possible\n",
    "\n",
    "# vx1 vx2 id parent demi?\n",
    "\n",
    "# we keep subdivided edges in an hierarchy. Edges can only be subdivided if we subdivide the faces they define.\n",
    "# Two connected faces always share an edge. If we subdiv one of this faces, but not the other, the child edges \n",
    "# will be considered demi-edges (they exist in only one face).\n",
    "\n",
    "# The same happens if we subdiv a face in n slices and the other face in m slices, if m is not a multiple of n.\n",
    "# both sets of child edges will be kept and will be demi-edges, each set belonging to just one face.\n",
    "\n",
    "# If we divide a face in n slices and the other face in n or kn (a multiple of n), the edges will be promoted\n",
    "# to real edges. Their parent structures can be deleted or demoted to demi-geometries and kept for selection\n",
    "# purposes (they can never be promoted to real geometry again). The default behavior is to delete.\n",
    "\n",
    "edges_meta_py = [[ 0, 1, 1, 0, 0 ], [ 1, 2, 2, 0,  0 ], [ 2, 3, 3, 0,  0 ], [ 3, 0, 4, 0, 0 ],  \n",
    "                 [ 2, 4, 5, 0, 0 ], [ 4, 5, 6,  0, 0 ], [ 5, 3, 7, 0,  0 ], [ 4, 6, 8, 0, 0 ], \n",
    "                 [ 6, 7, 9, 0, 0 ], [ 7, 5, 10, 0, 0 ], [ 6, 1, 11, 0, 0 ], [ 0, 7, 12, 0, 0 ]]\n",
    "\n",
    "\n",
    "edges_meta = np.array( edges_meta_py )\n",
    "\n",
    "max_edge = np.max( edges_meta, 0 )[ 2 ]\n",
    "\n",
    "print( max_edge )\n",
    "\n",
    "print( edges_meta.transpose())\n"
   ]
  },
  {
   "cell_type": "code",
   "execution_count": 8,
   "metadata": {},
   "outputs": [
    {
     "name": "stdout",
     "output_type": "stream",
     "text": [
      "[[1, 0, 0, 1, 0, 1, 0, 1], [0, 0, -1, 1, 0, 1, 0, 2], [-1, 0, 0, 1, 0, 1, 0, 3], [0, 0, 1, 1, 0, 1, 0, 4], [0, -1, 0, 1, 0, 1, 0, 5], [-1, 0, 0, 1, 0, 1, 0, 6], [0, 1, 0, 1, 0, 1, 0, 7], [0, 0, 1, 1, 0, 1, 0, 8], [-1, 0, 0, 1, 0, 1, 0, 9], [0, 0, -1, 1, 0, 1, 0, 10], [0, 1, 0, 1, 0, 1, 0, 11], [0, -1, 0, 1, 0, 1, 0, 12]]\n",
      "\n",
      "[[ 1  0 -1  0  0 -1  0  0 -1  0  0  0]\n",
      " [ 0  0  0  0 -1  0  1  0  0  0  1 -1]\n",
      " [ 0 -1  0  1  0  0  0  1  0 -1  0  0]\n",
      " [ 1  1  1  1  1  1  1  1  1  1  1  1]\n",
      " [ 0  0  0  0  0  0  0  0  0  0  0  0]\n",
      " [ 1  1  1  1  1  1  1  1  1  1  1  1]\n",
      " [ 0  0  0  0  0  0  0  0  0  0  0  0]\n",
      " [ 1  2  3  4  5  6  7  8  9 10 11 12]]\n"
     ]
    }
   ],
   "source": [
    "# dx dy dz divs1 chdiv1 div2 chdiv2 id\n",
    "# ( dx, dy, dz ) = direction vector = vx2 - vx1\n",
    "# divs[n] = how many times this edge is divided in relation to face n\n",
    "# chdiv[n] = children related to face n were created dividing this edge chdiv[n] times\n",
    "\n",
    "# we keep v2 - v1 in the edges to allow us to make calculations to the edges directly without \n",
    "# use the vertices (this implies that if we change the vertices edges must be updated).\n",
    "\n",
    "# in this data structure we keep the divisions of children edges, demi or real\n",
    "\n",
    "edt_py = [[ vxs_py[ id[ 0 ]][ 0 ], \n",
    "            vxs_py[ id[ 0 ]][ 1 ], \n",
    "            vxs_py[ id[ 0 ]][ 2 ], 1, 0, 1, 0, id[ 2 ]] \n",
    "              for id in edges_meta_py ]\n",
    "\n",
    "edges_data = np.array( edt_py )\n",
    "\n",
    "edt_py2 = [[ vxs_py[ id[ 1 ]][ 0 ], \n",
    "            vxs_py[ id[ 1 ]][ 1 ], \n",
    "            vxs_py[ id[ 1 ]][ 2 ], 0, 0, 0, 0, 0 ] \n",
    "              for id in edges_meta_py ]\n",
    "\n",
    "ed2 = np.array( edt_py2 )\n",
    "\n",
    "edges_data -= ed2\n",
    "edt_py = edges_data.tolist()\n",
    "\n",
    "print( edt_py )\n",
    "print()\n",
    "print( edges_data.transpose())\n"
   ]
  },
  {
   "cell_type": "code",
   "execution_count": 9,
   "metadata": {},
   "outputs": [
    {
     "name": "stdout",
     "output_type": "stream",
     "text": [
      "[[  1   3  -3   6  -6   9  -9  -1 -12  -7 -11  -5]\n",
      " [  2   4   5   7   8  10  11  12  -4 -10  -8  -2]\n",
      " [  0   1   2   3   4   5   6   7   8   9  10  11]\n",
      " [  0   0   0   0   0   0   0   0   0   0   0   0]]\n"
     ]
    }
   ],
   "source": [
    "# edge1 edge2 id demi?\n",
    "# id < 0 = reversed edge\n",
    "\n",
    "# edges will be used first to define tris, and two tris always define a quad (even if we call it a quad,\n",
    "# or a \"face\", the tris in the faces do not need to be coplanar). Just like edges tris, after subdivs,\n",
    "# will be deleted and replaced by their children by default, but they can be kept as demi-tris for\n",
    "# selection purposes\n",
    "\n",
    "tris_py = [[   1,  2, 0, 0 ], [  3,   4, 1, 0 ], [  -3,  5,  2, 0 ], [  6,  7,  3, 0 ], \n",
    "           [  -6,  8, 4, 0 ], [  9,  10, 5, 0 ], [  -9, 11,  6, 0 ], [ -1, 12,  7, 0 ], \n",
    "           [ -12, -4, 8, 0 ], [ -7, -10, 9, 0 ], [ -11, -8, 10, 0 ], [ -5, -2, 11, 0 ]]\n",
    "\n",
    "tris = np.array( tris_py )\n",
    "max_tri = np.max( tris, 0 )[ 2 ]\n",
    "\n",
    "print( tris.transpose())\n"
   ]
  },
  {
   "cell_type": "code",
   "execution_count": 10,
   "metadata": {},
   "outputs": [
    {
     "name": "stdout",
     "output_type": "stream",
     "text": [
      "[[ 0  2  4  6  8 10]\n",
      " [ 1  3  5  7  9 11]\n",
      " [ 0  1  2  3  4  5]\n",
      " [ 0  0  0  0  0  0]]\n"
     ]
    }
   ],
   "source": [
    "# tri1 tri2 id demi?\n",
    "\n",
    "# faces and tris can only be subdived one single time. Demi is here for the same reasons that above.\n",
    "\n",
    "faces_py = [[ 0, 1, 0, 0 ], [ 2, 3, 1, 0 ], [ 4, 5, 2, 0 ], [ 6, 7, 3, 0 ], [ 8, 9, 4, 0 ], [ 10, 11, 5, 0 ]]\n",
    "\n",
    "faces = np.array( faces_py )\n",
    "\n",
    "max_face = np.max( faces, 0 )[ 2 ]\n",
    "\n",
    "print( faces.transpose())\n"
   ]
  },
  {
   "cell_type": "code",
   "execution_count": 16,
   "metadata": {},
   "outputs": [
    {
     "name": "stdout",
     "output_type": "stream",
     "text": [
      "[0]\n",
      "\n",
      "[1, 2, 3, 4]\n"
     ]
    }
   ],
   "source": [
    "def subdivide( _faces, divs ):\n",
    "    global max_tri, max_face, faces\n",
    "    \n",
    "    nnewf = divs * divs\n",
    "    nnewt = nnewf * 2\n",
    "    \n",
    "    newf_py = [ id for id in range( max_tri + 1, max_tri + nnewt + 1 )]\n",
    "    newf = np.array( newf_py )\n",
    "    newf = np.reshape( newf, ( nnewf, 2 ))\n",
    "    max_tri = max_tri + nnewt\n",
    "\n",
    "    ids_py = [ id for id in range( max_face + 1, max_face + nnewf + 1 )]\n",
    "    ids = np.array( ids_py )\n",
    "    \n",
    "    newf = np.c_[ newf, ids ]\n",
    "    max_face = max_face + nnewf\n",
    "\n",
    "    faces = np.vstack(( faces, newf ))\n",
    "    \n",
    "    _tris = [[ faces[ tri ][ 0 ], faces[ tri ][ 1 ]]  for tri in _faces ]\n",
    "    _tris = [ item for sublist in _tris for item in sublist ]\n",
    "    \n",
    "    # TODO: pra criar os tris novos, tem q determinar as edges deles. Como as edges\n",
    "    # ja podem existir, possivelmente é melhor continuar o algoritmo e gerar as \n",
    "    # novas edges primeiro\n",
    "    \n",
    "    _edges = [[ tris[ edge ][ 0 ], tris[ edge ][ 1 ]] for edge in _tris ]\n",
    "    _edges = [ item for sublist in _edges for item in sublist ]\n",
    "    print( _edges )\n",
    "\n",
    "print( faces[ 0 ][ 0:1 ])\n",
    "print()\n",
    "subdivide( faces[ 0 ][ 0:1 ], 3 )\n"
   ]
  },
  {
   "cell_type": "code",
   "execution_count": null,
   "metadata": {},
   "outputs": [],
   "source": []
  }
 ],
 "metadata": {
  "colab": {
   "authorship_tag": "ABX9TyPkDsVvRybOrUcBPPzrJJoK",
   "name": "vpython-test.ipynb",
   "provenance": []
  },
  "kernelspec": {
   "display_name": "Python 3",
   "language": "python",
   "name": "python3"
  },
  "language_info": {
   "codemirror_mode": {
    "name": "ipython",
    "version": 3
   },
   "file_extension": ".py",
   "mimetype": "text/x-python",
   "name": "python",
   "nbconvert_exporter": "python",
   "pygments_lexer": "ipython3",
   "version": "3.7.8"
  }
 },
 "nbformat": 4,
 "nbformat_minor": 1
}
