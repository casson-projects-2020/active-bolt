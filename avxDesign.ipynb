{
 "cells": [
  {
   "cell_type": "markdown",
   "metadata": {},
   "source": [
    "<h1 style=\"display:inline-block\">ActiveVoxel Design</h1><br/>"
   ]
  },
  {
   "cell_type": "markdown",
   "metadata": {
    "colab": {},
    "colab_type": "code",
    "id": "ezRSPKUC7CER"
   },
   "source": [
    "subdivide( get_faces( solid ), divisions )"
   ]
  },
  {
   "cell_type": "code",
   "execution_count": null,
   "metadata": {},
   "outputs": [],
   "source": [
    "# cube_vxs = [[ px py pz id demi? ] ...]\n",
    "            "
   ]
  },
  {
   "cell_type": "code",
   "execution_count": 12,
   "metadata": {},
   "outputs": [
    {
     "name": "stdout",
     "output_type": "stream",
     "text": [
      "[[1 0 0 1 0 1 0 1]\n",
      " [0 0 0 0 1 1 1 1]\n",
      " [0 0 1 1 1 1 0 0]\n",
      " [0 1 2 3 4 5 6 7]\n",
      " [0 0 0 0 0 0 0 0]]\n"
     ]
    }
   ],
   "source": [
    "import numpy as np\n",
    "\n",
    "vxs_py = [[ 1, 0, 0, 0, 0 ], [ 0, 0, 0, 1, 0 ], [ 0, 0, 1, 2, 0 ], [ 1, 0, 1, 3, 0 ], [ 0, 1, 1, 4, 0 ], [ 1, 1, 1, 5, 0 ], \n",
    "       [ 0, 1, 0, 6, 0 ], [ 1, 1, 0, 7, 0 ]]\n",
    "\n",
    "vxs = np.array( vxs_py )\n",
    "\n",
    "print( vxs.transpose() )\n"
   ]
  },
  {
   "cell_type": "code",
   "execution_count": 3,
   "metadata": {},
   "outputs": [
    {
     "name": "stdout",
     "output_type": "stream",
     "text": [
      "{4: (0, 1, 0, 0, 1), 0: (1, 0, 0, 0, 1), 1: (2, 0, 0, 1, 1), 5: (3, 1, 0, 1, 1), 3: (4, 0, 1, 1, 1), 7: (5, 1, 1, 1, 1), 2: (6, 0, 1, 0, 1), 6: (7, 1, 1, 0, 1)}\n"
     ]
    }
   ],
   "source": [
    "tmax = 1\n",
    "\n",
    "vx_names = { ( tmax + 1 ) * ( tmax + 1 ) * vx[ 0 ] + ( tmax + 1 ) * vx[ 1 ] + vx[ 2 ]: \n",
    "             ( vx[ 3 ], vx[ 0 ], vx[ 1 ], vx[ 2 ], tmax ) for vx in vxs_py }\n",
    "\n",
    "print( vx_names )\n"
   ]
  },
  {
   "cell_type": "code",
   "execution_count": 11,
   "metadata": {},
   "outputs": [
    {
     "name": "stdout",
     "output_type": "stream",
     "text": [
      "[[ 0  1  2  3  2  4  5  4  6  7  6  0]\n",
      " [ 1  2  3  0  4  5  3  6  7  5  1  7]\n",
      " [ 1  2  3  4  5  6  7  8  9 10 11 12]\n",
      " [ 1  2  3  4  5  6  7  8  9 10 11 12]]\n"
     ]
    }
   ],
   "source": [
    "# vx1 vx2 id parent\n",
    "\n",
    "edges_meta_py = [[ 0, 1, 1, 1 ], [ 1, 2, 2, 2 ], [ 2, 3, 3, 3 ], [ 3, 0, 4, 4 ], [ 2, 4, 5, 5 ], \n",
    "                 [ 4, 5, 6, 6 ], [ 5, 3, 7, 7 ], [ 4, 6, 8, 8 ], [ 6, 7, 9, 9 ], [ 7, 5, 10, 10 ],\n",
    "                 [ 6, 1, 11, 11 ], [ 0, 7, 12, 12 ]]\n",
    "\n",
    "edges_meta = np.array( edges_meta_py )\n",
    "\n",
    "print( edges_meta.transpose())\n"
   ]
  },
  {
   "cell_type": "code",
   "execution_count": 10,
   "metadata": {},
   "outputs": [],
   "source": [
    "# dx dy dz t pos"
   ]
  },
  {
   "cell_type": "code",
   "execution_count": null,
   "metadata": {},
   "outputs": [],
   "source": []
  }
 ],
 "metadata": {
  "colab": {
   "authorship_tag": "ABX9TyPkDsVvRybOrUcBPPzrJJoK",
   "name": "vpython-test.ipynb",
   "provenance": []
  },
  "kernelspec": {
   "display_name": "Python 3",
   "language": "python",
   "name": "python3"
  },
  "language_info": {
   "codemirror_mode": {
    "name": "ipython",
    "version": 3
   },
   "file_extension": ".py",
   "mimetype": "text/x-python",
   "name": "python",
   "nbconvert_exporter": "python",
   "pygments_lexer": "ipython3",
   "version": "3.7.8"
  }
 },
 "nbformat": 4,
 "nbformat_minor": 1
}
