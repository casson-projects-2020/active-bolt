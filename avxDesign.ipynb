{
 "cells": [
  {
   "cell_type": "markdown",
   "metadata": {},
   "source": [
    "<h1 style=\"display:inline-block\">ActiveVoxel Design</h1><br/>"
   ]
  },
  {
   "cell_type": "markdown",
   "metadata": {
    "colab": {},
    "colab_type": "code",
    "id": "ezRSPKUC7CER"
   },
   "source": [
    "subdivide( get_faces( solid ), divisions )"
   ]
  },
  {
   "cell_type": "markdown",
   "metadata": {},
   "source": [
    "solid -> faces[] { face } -> face -> tris[ 2 ] { tri } -> tri -> edges[ 3 ] { edge } -> \n",
    "    edge -> ( vxs[ 2 ], dir, t, demi?, id, parent ) \n",
    "        { vx } { dir } { t } \n",
    "\n",
    "-> vx ->  ( x, y, z, demi?, id )\n",
    "-> dir -> ( x, y, z, id ) { dir = vxs[ 1 ] - vxs[ 0 ]}\n",
    "-> t -> int { result = 1.0 / float( t )}\n",
    "\n",
    "vx <- tensor( x, y, z, demi?, id ) <- edge <- ( vxs_id[ get_id( vx )], dir, t, demi?, id, parent ) \n",
    "    <- tri <- edge_ids[ get_id( edge )] <- face <- get_id[ tri ]"
   ]
  },
  {
   "cell_type": "code",
   "execution_count": 2,
   "metadata": {},
   "outputs": [
    {
     "ename": "SyntaxError",
     "evalue": "invalid syntax (<ipython-input-2-bc653ef062f0>, line 1)",
     "output_type": "error",
     "traceback": [
      "\u001b[0;36m  File \u001b[0;32m\"<ipython-input-2-bc653ef062f0>\"\u001b[0;36m, line \u001b[0;32m1\u001b[0m\n\u001b[0;31m    subdivide( faces[], divisions )\u001b[0m\n\u001b[0m                     ^\u001b[0m\n\u001b[0;31mSyntaxError\u001b[0m\u001b[0;31m:\u001b[0m invalid syntax\n"
     ]
    }
   ],
   "source": [
    "subdivide( faces[], divisions )\n",
    "    foreach face in faces\n",
    "        foreach tri in face.tris\n",
    "            "
   ]
  },
  {
   "cell_type": "markdown",
   "execution_count": null,
   "metadata": {},
   "outputs": [],
   "source": []
  }
 ],
 "metadata": {
  "colab": {
   "authorship_tag": "ABX9TyPkDsVvRybOrUcBPPzrJJoK",
   "name": "vpython-test.ipynb",
   "provenance": []
  },
  "kernelspec": {
   "display_name": "Python 3",
   "language": "python",
   "name": "python3"
  },
  "language_info": {
   "codemirror_mode": {
    "name": "ipython",
    "version": 3
   },
   "file_extension": ".py",
   "mimetype": "text/x-python",
   "name": "python",
   "nbconvert_exporter": "python",
   "pygments_lexer": "ipython3",
   "version": "3.7.8"
  }
 },
 "nbformat": 4,
 "nbformat_minor": 1
}
