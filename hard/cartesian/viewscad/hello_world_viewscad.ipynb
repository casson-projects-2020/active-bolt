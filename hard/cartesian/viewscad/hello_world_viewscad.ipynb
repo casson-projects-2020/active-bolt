{
 "cells": [
  {
   "cell_type": "code",
   "execution_count": 13,
   "id": "3a5630ec",
   "metadata": {},
   "outputs": [],
   "source": [
    "import os\n",
    "os.environ['OPENSCAD_TMP_DIR']='/var/tmp'"
   ]
  },
  {
   "cell_type": "code",
   "execution_count": 14,
   "id": "0ac882f3",
   "metadata": {},
   "outputs": [],
   "source": [
    "from solid import *\n",
    "import viewscad\n",
    "\n",
    "scad = viewscad.Renderer( openscad_exec='/var/lib/snapd/snap/bin/openscad' )"
   ]
  },
  {
   "cell_type": "code",
   "execution_count": 15,
   "id": "05b0d8cf",
   "metadata": {},
   "outputs": [
    {
     "data": {
      "application/vnd.jupyter.widget-view+json": {
       "model_id": "34d18ca40136445b98bde78590a314a8",
       "version_major": 2,
       "version_minor": 0
      },
      "text/plain": [
       "VBox(children=(HTML(value=''), Renderer(background='#cccc88', background_opacity=0.0, camera=PerspectiveCamera…"
      ]
     },
     "metadata": {},
     "output_type": "display_data"
    }
   ],
   "source": [
    "c = cylinder( h=20, r1=8, r2=4 )\n",
    "scad.render( c )"
   ]
  },
  {
   "cell_type": "code",
   "execution_count": null,
   "id": "69a1d095",
   "metadata": {},
   "outputs": [],
   "source": []
  }
 ],
 "metadata": {
  "kernelspec": {
   "display_name": "Python 3",
   "language": "python",
   "name": "python3"
  },
  "language_info": {
   "codemirror_mode": {
    "name": "ipython",
    "version": 3
   },
   "file_extension": ".py",
   "mimetype": "text/x-python",
   "name": "python",
   "nbconvert_exporter": "python",
   "pygments_lexer": "ipython3",
   "version": "3.6.8"
  }
 },
 "nbformat": 4,
 "nbformat_minor": 5
}
