{
 "cells": [
  {
   "cell_type": "markdown",
   "id": "47ba72ea",
   "metadata": {},
   "source": [
    "# Configuração de VM para utilização do ViewScad\n",
    "\n",
    "## 1 - Crie uma VM no GCP\n",
    "\n",
    "#### Criei uma PVM, configurada da seguinte forma:\n",
    "\n",
    "- Imagem: centOS 8 (foi a unica imagem que eu consegui nao ter problemas com o pip, mas tvz a do Ubunto 16 ou 18 - testei a 20 - tivesse dado certo - acredito q esqueci o sudo no sudo pip install --upgrade)\n",
    "\n",
    "- acesso a todas as APIs do GCP\n",
    "\n",
    "- permitir trafego HTTP e HTTPS\n",
    "\n",
    "- nao apagar o disco quando a instancia é deletada (por conta do monte de configs)\n",
    "\n"
   ]
  },
  {
   "cell_type": "markdown",
   "id": "c1686a8e",
   "metadata": {},
   "source": [
    "## 2 - Crie um IP externo\n",
    "\n",
    "Atribua para a VM.\n",
    "\n",
    "## 3 - Crie uma regra de firewall\n",
    "\n",
    "#### config:\n",
    "\n",
    "- priority: 1000\n",
    "- ingress\n",
    "- ip range: 0.0.0.0/0\n",
    "- protocol: tcp porta 5000\n",
    "\n"
   ]
  },
  {
   "cell_type": "markdown",
   "id": "9e1801d0",
   "metadata": {},
   "source": [
    "## 4 - Instalação do jupyter\n",
    "\n",
    "- sudo yum makecache\n",
    "- sudo yum upgrade\n",
    "- sudo yum install wget\n",
    "- wget http://repo.continuum.io/archive/Anaconda3-4.0.0-Linux-x86_64.sh\n",
    "- bash Anaconda3-4.0.0-Linux-x86_64.sh\n",
    "\n",
    "Esse passo da erro no fim e nao apresenta a pergunta de inserir o path do jupyter, mas a instalação funciona\n",
    "\n",
    "- source ~/.bashrc\n",
    "\n",
    "#### instalar o snap\n",
    "\n",
    "- sudo yum install epel-release\n",
    "- sudo yum install snapd\n",
    "- sudo systemctl enable --now snapd.socket\n",
    "- sudo ln -s /var/lib/snapd/snap /snap\n",
    "\n",
    "O snap nao vai funcionar imediatamente, é preciso:\n",
    "\n",
    "- systemctl restart snapd.seeded.service\n",
    "\n",
    "#### Instalar o openscad\n",
    "\n",
    "- sudo snap install openscad\n",
    "\n",
    "#### Instalar o viewscad\n",
    "\n",
    "- sudo pip3 install viewscad\n",
    "\n",
    "#### criar a config do jupyter\n",
    "\n",
    "- jupyter notebook --generate-config\n",
    "\n",
    "acrescentar 4 linhas no config:\n",
    "\n",
    "    c = get_config()\n",
    "    c.NotebookApp.ip = '<IP externo>'\n",
    "    c.NotebookApp.open_browser = False\n",
    "    c.NotebookApp.port = <Port Number>\n",
    "    \n",
    "#### Rodar o jupyter:\n",
    "    \n",
    "- jupyter-notebook --no-browser --port=<Port Number> --ip=0.0.0.0"
   ]
  },
  {
   "cell_type": "markdown",
   "id": "d287bc66",
   "metadata": {},
   "source": [
    "## 5 - Problemas no tmp file do viewscad no centOS\n",
    "\n",
    "O seguinte codigo tem que ser colocado no inicio dos notebooks, antes do import viewscad:\n",
    "\n",
    "    import os\n",
    "    os.environ['OPENSCAD_TMP_DIR']='/var/tmp'"
   ]
  },
  {
   "cell_type": "code",
   "execution_count": null,
   "id": "78d2d48f",
   "metadata": {},
   "outputs": [],
   "source": []
  }
 ],
 "metadata": {
  "kernelspec": {
   "display_name": "Python 3",
   "language": "python",
   "name": "python3"
  },
  "language_info": {
   "codemirror_mode": {
    "name": "ipython",
    "version": 3
   },
   "file_extension": ".py",
   "mimetype": "text/x-python",
   "name": "python",
   "nbconvert_exporter": "python",
   "pygments_lexer": "ipython3",
   "version": "3.6.8"
  }
 },
 "nbformat": 4,
 "nbformat_minor": 5
}
