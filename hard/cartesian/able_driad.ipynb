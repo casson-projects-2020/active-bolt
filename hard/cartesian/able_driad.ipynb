{
 "cells": [
  {
   "cell_type": "code",
   "execution_count": 43,
   "id": "e9a00b89",
   "metadata": {},
   "outputs": [],
   "source": [
    "import os\n",
    "os.environ['OPENSCAD_TMP_DIR']='/var/tmp'"
   ]
  },
  {
   "cell_type": "code",
   "execution_count": 51,
   "id": "89704c34",
   "metadata": {},
   "outputs": [],
   "source": [
    "from solid import *\n",
    "from solid.objects import *\n",
    "\n",
    "# placa que será apoiada nos motores. Em cima delas ficara apoiado o\n",
    "# frame do eixo z\n",
    "plate_w = 80\n",
    "off_w = 4\n",
    "plate_dpt = 42\n",
    "plate_h = 3\n",
    "\n",
    "# dados da barra superior para calculos\n",
    "beam_w = 420\n",
    "\n",
    "# dados dos fusos para calculos\n",
    "dist_fusos = 310\n",
    "\n",
    "# dados dos furos no motor\n",
    "dist_furos = 31\n",
    "motor_w = 42\n",
    "\n",
    "# projecao de suporte do motor\n",
    "r_slot = 23 / 2    # 1mm de folga\n",
    "\n",
    "# dados dos fusos\n",
    "d_fusos = 310\n",
    "\n",
    "# dados das guias\n",
    "d_guias = 354\n",
    "r_guia = 4  # sem folga, a guia pode ser martelada para dentro do furo e nao precisa se mover\n",
    "\n",
    "d_motor_guia = ( d_guias - d_fusos ) / 2 \n",
    "\n",
    "# distancia do furo m5 externo\n",
    "d_m5 = 10\n",
    "d_m5_ext = ( beam_w - dist_fusos ) / 2 - d_m5\n",
    "\n",
    "# cortes de encaixe de chapa\n",
    "# TODO\n",
    "\n",
    "obj = cube([ plate_w, plate_dpt, plate_h ])\n",
    "\n",
    "# furos\n",
    "m3 = 3\n",
    "m4 = 4  # para o threading do m5\n",
    "m5 = 5\n",
    "\n",
    "n_m3 = cylinder( r=m3 / 2, h=plate_h + 2 )\n",
    "n_m4 = cylinder( r=m4 / 2, h=plate_h + 2 )\n",
    "n_m5 = cylinder( r=m5 / 2, h=plate_h + 2 )\n",
    "n_slot = cylinder( r=r_slot, h=plate_h + 2 )\n",
    "n_guia = cylinder( r=r_guia, h=plate_h + 2 )\n",
    "\n",
    "# raio do acoplador para o motor\n",
    "r_coupling = 20 / 2\n",
    "\n",
    "# montagem\n",
    "for i in range( 0, 32, 31 ):\n",
    "    for j in range( 0, 32, 31 ):\n",
    "        obj -= hole()( translate([ ( motor_w - dist_furos ) / 2 + i + off_w, ( plate_dpt - dist_furos ) / 2 + j, -1 ])( n_m3 ))\n",
    "\n",
    "obj -= hole()( translate([ motor_w / 2 + off_w, plate_dpt / 2, -1 ])( n_slot ))\n",
    "\n",
    "obj -= hole()( translate([ motor_w / 2 + d_motor_guia + off_w, plate_dpt / 2, 1.5 ])( n_guia ))\n",
    "\n",
    "obj -= hole()( translate([ motor_w / 2 + off_w - r_coupling - d_m5, plate_dpt / 2, -1 ])( n_m4 ))\n",
    "\n",
    "obj -= hole()( translate([ motor_w / 2 + off_w + d_m5_ext, plate_dpt / 2, -1 ])( n_m5 ))\n",
    "\n",
    "#file = open( \"quadro_z_motor.scad\", \"w+\" )\n",
    "#file.write( \"$fn=180;\\n\" )\n",
    "#file.write( scad_render( obj ))\n",
    "#file.close()\n",
    "\n",
    "workpiece = scad_render( obj )\n"
   ]
  },
  {
   "cell_type": "code",
   "execution_count": 45,
   "id": "0f117d82",
   "metadata": {},
   "outputs": [],
   "source": [
    "from solid import *\n",
    "import viewscad\n",
    "\n",
    "scad = viewscad.Renderer( openscad_exec='/var/lib/snapd/snap/bin/openscad' )"
   ]
  },
  {
   "cell_type": "code",
   "execution_count": 55,
   "id": "3e17a1ce",
   "metadata": {
    "scrolled": false
   },
   "outputs": [
    {
     "data": {
      "application/vnd.jupyter.widget-view+json": {
       "model_id": "4b9c7cbfe2444e93a6769ee68ee9e7ea",
       "version_major": 2,
       "version_minor": 0
      },
      "text/plain": [
       "VBox(children=(HTML(value=''), Renderer(background='#cccc88', background_opacity=0.0, camera=PerspectiveCamera…"
      ]
     },
     "metadata": {},
     "output_type": "display_data"
    }
   ],
   "source": [
    "scad.render( obj, dollar_sign_vars={ \"fn\": 60 } )"
   ]
  },
  {
   "cell_type": "code",
   "execution_count": null,
   "id": "bb4c00fd",
   "metadata": {},
   "outputs": [],
   "source": []
  }
 ],
 "metadata": {
  "kernelspec": {
   "display_name": "Python 3",
   "language": "python",
   "name": "python3"
  },
  "language_info": {
   "codemirror_mode": {
    "name": "ipython",
    "version": 3
   },
   "file_extension": ".py",
   "mimetype": "text/x-python",
   "name": "python",
   "nbconvert_exporter": "python",
   "pygments_lexer": "ipython3",
   "version": "3.6.8"
  }
 },
 "nbformat": 4,
 "nbformat_minor": 5
}
