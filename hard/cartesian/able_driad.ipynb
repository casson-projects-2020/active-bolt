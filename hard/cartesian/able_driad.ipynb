{
 "cells": [
  {
   "cell_type": "markdown",
   "metadata": {},
   "source": [
    "<h1>Detalhes da montagem da Able Dryad</h1>"
   ]
  },
  {
   "cell_type": "markdown",
   "metadata": {},
   "source": [
    "Codigo python que define as peças de apoio do eixo z sobre os motores:<br/>\n",
    "(O codigo cria um arquivo do OpenScad para visualização da peça)"
   ]
  },
  {
   "cell_type": "code",
   "execution_count": null,
   "metadata": {},
   "outputs": [
    {
     "name": "stdout",
     "output_type": "stream",
     "text": [
      "Building jupyterlab assets (production, minimized)\n"
     ]
    }
   ],
   "source": [
    "#!pip install solidpython\n",
    "#!pip install viewscad\n",
    "!jupyter labextension install @jupyter-widgets/jupyterlab-manager"
   ]
  },
  {
   "cell_type": "code",
   "execution_count": 1,
   "metadata": {},
   "outputs": [
    {
     "name": "stdout",
     "output_type": "stream",
     "text": [
      "$fn=180;\n",
      "\n",
      "\n",
      "difference(){\n",
      "\tdifference() {\n",
      "\t\tcube(size = [80, 42, 3]);\n",
      "\t}\n",
      "\t/* Holes Below*/\n",
      "\tunion(){\n",
      "\t\ttranslate(v = [9.5000000000, 5.5000000000, -1]) {\n",
      "\t\t\tcylinder(h = 5, r = 1.5000000000);\n",
      "\t\t}\n",
      "\t\ttranslate(v = [9.5000000000, 36.5000000000, -1]) {\n",
      "\t\t\tcylinder(h = 5, r = 1.5000000000);\n",
      "\t\t}\n",
      "\t\ttranslate(v = [40.5000000000, 5.5000000000, -1]) {\n",
      "\t\t\tcylinder(h = 5, r = 1.5000000000);\n",
      "\t\t}\n",
      "\t\ttranslate(v = [40.5000000000, 36.5000000000, -1]) {\n",
      "\t\t\tcylinder(h = 5, r = 1.5000000000);\n",
      "\t\t}\n",
      "\t\ttranslate(v = [25.0000000000, 21.0000000000, -1]) {\n",
      "\t\t\tcylinder(h = 5, r = 11.5000000000);\n",
      "\t\t}\n",
      "\t\ttranslate(v = [47.0000000000, 21.0000000000, 1.5000000000]) {\n",
      "\t\t\tcylinder(h = 5, r = 4);\n",
      "\t\t}\n",
      "\t\ttranslate(v = [5.0000000000, 21.0000000000, -1]) {\n",
      "\t\t\tcylinder(h = 5, r = 2.0000000000);\n",
      "\t\t}\n",
      "\t\ttranslate(v = [70.0000000000, 21.0000000000, -1]) {\n",
      "\t\t\tcylinder(h = 5, r = 2.5000000000);\n",
      "\t\t}\n",
      "\t} /* End Holes */ \n",
      "}\n"
     ]
    }
   ],
   "source": [
    "#import os\n",
    "\n",
    "from solid import *\n",
    "from solid.objects import *\n",
    "\n",
    "\n",
    "# placa que será apoiada nos motores. Em cima delas ficara apoiado o\n",
    "# frame do eixo z\n",
    "plate_w = 80\n",
    "off_w = 4\n",
    "plate_dpt = 42\n",
    "plate_h = 3\n",
    "\n",
    "# dados da barra superior para calculos\n",
    "beam_w = 420\n",
    "\n",
    "# dados dos fusos para calculos\n",
    "dist_fusos = 310\n",
    "\n",
    "# dados dos furos no motor\n",
    "dist_furos = 31\n",
    "motor_w = 42\n",
    "\n",
    "# projecao de suporte do motor\n",
    "r_slot = 23 / 2    # 1mm de folga\n",
    "\n",
    "# dados dos fusos\n",
    "d_fusos = 310\n",
    "\n",
    "# dados das guias\n",
    "d_guias = 354\n",
    "r_guia = 4  # sem folga, a guia pode ser martelada para dentro do furo e nao precisa se mover\n",
    "\n",
    "d_motor_guia = ( d_guias - d_fusos ) / 2 \n",
    "\n",
    "# distancia do furo m5 externo\n",
    "d_m5 = 10\n",
    "d_m5_ext = ( beam_w - dist_fusos ) / 2 - d_m5\n",
    "\n",
    "# cortes de encaixe de chapa\n",
    "# TODO\n",
    "\n",
    "obj = cube([ plate_w, plate_dpt, plate_h ])\n",
    "\n",
    "# furos\n",
    "m3 = 3\n",
    "m4 = 4  # para o threading do m5\n",
    "m5 = 5\n",
    "\n",
    "n_m3 = cylinder( r=m3 / 2, h=plate_h + 2 )\n",
    "n_m4 = cylinder( r=m4 / 2, h=plate_h + 2 )\n",
    "n_m5 = cylinder( r=m5 / 2, h=plate_h + 2 )\n",
    "n_slot = cylinder( r=r_slot, h=plate_h + 2 )\n",
    "n_guia = cylinder( r=r_guia, h=plate_h + 2 )\n",
    "\n",
    "# raio do acoplador para o motor\n",
    "r_coupling = 20 / 2\n",
    "\n",
    "# montagem\n",
    "for i in range( 0, 32, 31 ):\n",
    "    for j in range( 0, 32, 31 ):\n",
    "        obj -= hole()( translate([ ( motor_w - dist_furos ) / 2 + i + off_w, ( plate_dpt - dist_furos ) / 2 + j, -1 ])( n_m3 ))\n",
    "\n",
    "obj -= hole()( translate([ motor_w / 2 + off_w, plate_dpt / 2, -1 ])( n_slot ))\n",
    "\n",
    "obj -= hole()( translate([ motor_w / 2 + d_motor_guia + off_w, plate_dpt / 2, 1.5 ])( n_guia ))\n",
    "\n",
    "obj -= hole()( translate([ motor_w / 2 + off_w - r_coupling - d_m5, plate_dpt / 2, -1 ])( n_m4 ))\n",
    "\n",
    "obj -= hole()( translate([ motor_w / 2 + off_w + d_m5_ext, plate_dpt / 2, -1 ])( n_m5 ))\n",
    "\n",
    "#file = open( \"quadro_z_motor.scad\", \"w+\" )\n",
    "#file.write( \"$fn=180;\\n\" )\n",
    "#file.write( scad_render( obj ))\n",
    "#file.close()\n",
    "\n",
    "workpiece = \"$fn=180;\\n\" + scad_render( obj )\n",
    "\n",
    "print( workpiece )"
   ]
  },
  {
   "cell_type": "code",
   "execution_count": 3,
   "metadata": {},
   "outputs": [
    {
     "ename": "Exception",
     "evalue": "openscad exec not found!",
     "output_type": "error",
     "traceback": [
      "\u001b[0;31m---------------------------------------------------------------------------\u001b[0m",
      "\u001b[0;31mException\u001b[0m                                 Traceback (most recent call last)",
      "\u001b[0;32m/tmp/ipykernel_389/3478660877.py\u001b[0m in \u001b[0;36m<module>\u001b[0;34m\u001b[0m\n\u001b[1;32m      1\u001b[0m \u001b[0;32mimport\u001b[0m \u001b[0mviewscad\u001b[0m\u001b[0;34m\u001b[0m\u001b[0;34m\u001b[0m\u001b[0m\n\u001b[1;32m      2\u001b[0m \u001b[0;34m\u001b[0m\u001b[0m\n\u001b[0;32m----> 3\u001b[0;31m \u001b[0mrender\u001b[0m \u001b[0;34m=\u001b[0m \u001b[0mviewscad\u001b[0m\u001b[0;34m.\u001b[0m\u001b[0mRenderer\u001b[0m\u001b[0;34m(\u001b[0m\u001b[0;34m)\u001b[0m\u001b[0;34m\u001b[0m\u001b[0;34m\u001b[0m\u001b[0m\n\u001b[0m",
      "\u001b[0;32m/srv/conda/envs/notebook/lib/python3.7/site-packages/viewscad/renderer.py\u001b[0m in \u001b[0;36m__init__\u001b[0;34m(self, **kw)\u001b[0m\n\u001b[1;32m    194\u001b[0m             \u001b[0mself\u001b[0m\u001b[0;34m.\u001b[0m\u001b[0m_try_detect_openscad_exec\u001b[0m\u001b[0;34m(\u001b[0m\u001b[0;34m)\u001b[0m\u001b[0;34m\u001b[0m\u001b[0;34m\u001b[0m\u001b[0m\n\u001b[1;32m    195\u001b[0m         \u001b[0;32mif\u001b[0m \u001b[0mself\u001b[0m\u001b[0;34m.\u001b[0m\u001b[0mopenscad_exec\u001b[0m \u001b[0;32mis\u001b[0m \u001b[0;32mNone\u001b[0m\u001b[0;34m:\u001b[0m\u001b[0;34m\u001b[0m\u001b[0;34m\u001b[0m\u001b[0m\n\u001b[0;32m--> 196\u001b[0;31m             \u001b[0;32mraise\u001b[0m \u001b[0mException\u001b[0m\u001b[0;34m(\u001b[0m\u001b[0;34m'openscad exec not found!'\u001b[0m\u001b[0;34m)\u001b[0m\u001b[0;34m\u001b[0m\u001b[0;34m\u001b[0m\u001b[0m\n\u001b[0m\u001b[1;32m    197\u001b[0m         \u001b[0mself\u001b[0m\u001b[0;34m.\u001b[0m\u001b[0mwidth\u001b[0m \u001b[0;34m=\u001b[0m \u001b[0mkw\u001b[0m\u001b[0;34m.\u001b[0m\u001b[0mget\u001b[0m\u001b[0;34m(\u001b[0m\u001b[0;34m'width'\u001b[0m\u001b[0;34m,\u001b[0m \u001b[0;36m600\u001b[0m\u001b[0;34m)\u001b[0m\u001b[0;34m\u001b[0m\u001b[0;34m\u001b[0m\u001b[0m\n\u001b[1;32m    198\u001b[0m         \u001b[0mself\u001b[0m\u001b[0;34m.\u001b[0m\u001b[0mheight\u001b[0m \u001b[0;34m=\u001b[0m \u001b[0mkw\u001b[0m\u001b[0;34m.\u001b[0m\u001b[0mget\u001b[0m\u001b[0;34m(\u001b[0m\u001b[0;34m'height'\u001b[0m\u001b[0;34m,\u001b[0m \u001b[0;36m600\u001b[0m\u001b[0;34m)\u001b[0m\u001b[0;34m\u001b[0m\u001b[0;34m\u001b[0m\u001b[0m\n",
      "\u001b[0;31mException\u001b[0m: openscad exec not found!"
     ]
    }
   ],
   "source": [
    "import viewscad\n",
    "\n",
    "render = viewscad.Renderer()\n"
   ]
  },
  {
   "cell_type": "code",
   "execution_count": null,
   "metadata": {},
   "outputs": [],
   "source": []
  }
 ],
 "metadata": {
  "kernelspec": {
   "display_name": "Python 3 (ipykernel)",
   "language": "python",
   "name": "python3"
  },
  "language_info": {
   "codemirror_mode": {
    "name": "ipython",
    "version": 3
   },
   "file_extension": ".py",
   "mimetype": "text/x-python",
   "name": "python",
   "nbconvert_exporter": "python",
   "pygments_lexer": "ipython3",
   "version": "3.7.10"
  }
 },
 "nbformat": 4,
 "nbformat_minor": 4
}
