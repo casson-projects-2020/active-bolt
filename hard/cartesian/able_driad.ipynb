{
 "cells": [
  {
   "cell_type": "code",
   "execution_count": 20,
   "id": "89704c34",
   "metadata": {},
   "outputs": [],
   "source": [
    "from solid import *\n",
    "from solid.objects import *\n",
    "\n",
    "# placa que será apoiada nos motores. Em cima delas ficara apoiado o\n",
    "# frame do eixo z\n",
    "plate_w = 80\n",
    "off_w = 4\n",
    "plate_dpt = 42\n",
    "plate_h = 3\n",
    "\n",
    "# dados da barra superior para calculos\n",
    "beam_w = 420\n",
    "\n",
    "# dados dos fusos para calculos\n",
    "dist_fusos = 310\n",
    "\n",
    "# dados dos furos no motor\n",
    "dist_furos = 31\n",
    "motor_w = 42\n",
    "\n",
    "# projecao de suporte do motor\n",
    "r_slot = 23 / 2    # 1mm de folga\n",
    "\n",
    "# dados dos fusos\n",
    "d_fusos = 310\n",
    "\n",
    "# dados das guias\n",
    "d_guias = 354\n",
    "r_guia = 4  # sem folga, a guia pode ser martelada para dentro do furo e nao precisa se mover\n",
    "\n",
    "d_motor_guia = ( d_guias - d_fusos ) / 2 \n",
    "\n",
    "# distancia do furo m5 externo\n",
    "d_m5 = 10\n",
    "d_m5_ext = ( beam_w - dist_fusos ) / 2 - d_m5\n",
    "\n",
    "# cortes de encaixe de chapa\n",
    "# TODO\n",
    "\n",
    "obj = cube([ plate_w, plate_dpt, plate_h ])\n",
    "\n",
    "# furos\n",
    "m3 = 3\n",
    "m4 = 4  # para o threading do m5\n",
    "m5 = 5\n",
    "\n",
    "n_m3 = cylinder( r=m3 / 2, h=plate_h + 2 )\n",
    "n_m4 = cylinder( r=m4 / 2, h=plate_h + 2 )\n",
    "n_m5 = cylinder( r=m5 / 2, h=plate_h + 2 )\n",
    "n_slot = cylinder( r=r_slot, h=plate_h + 2 )\n",
    "n_guia = cylinder( r=r_guia, h=plate_h + 2 )\n",
    "\n",
    "# raio do acoplador para o motor\n",
    "r_coupling = 20 / 2\n",
    "\n",
    "# montagem\n",
    "for i in range( 0, 32, 31 ):\n",
    "    for j in range( 0, 32, 31 ):\n",
    "        obj -= hole()( translate([ ( motor_w - dist_furos ) / 2 + i + off_w, ( plate_dpt - dist_furos ) / 2 + j, -1 ])( n_m3 ))\n",
    "\n",
    "obj -= hole()( translate([ motor_w / 2 + off_w, plate_dpt / 2, -1 ])( n_slot ))\n",
    "\n",
    "obj -= hole()( translate([ motor_w / 2 + d_motor_guia + off_w, plate_dpt / 2, 1.5 ])( n_guia ))\n",
    "\n",
    "obj -= hole()( translate([ motor_w / 2 + off_w - r_coupling - d_m5, plate_dpt / 2, -1 ])( n_m4 ))\n",
    "\n",
    "obj -= hole()( translate([ motor_w / 2 + off_w + d_m5_ext, plate_dpt / 2, -1 ])( n_m5 ))\n",
    "\n",
    "#file = open( \"quadro_z_motor.scad\", \"w+\" )\n",
    "#file.write( \"$fn=180;\\n\" )\n",
    "#file.write( scad_render( obj ))\n",
    "#file.close()\n",
    "\n",
    "workpiece = scad_render( obj )\n",
    "#print( workpiece )"
   ]
  },
  {
   "cell_type": "code",
   "execution_count": 3,
   "id": "0f117d82",
   "metadata": {},
   "outputs": [],
   "source": [
    "from solid import *\n",
    "import viewscad\n",
    "\n",
    "scad = viewscad.Renderer()"
   ]
  },
  {
   "cell_type": "code",
   "execution_count": 6,
   "id": "3e17a1ce",
   "metadata": {
    "scrolled": false
   },
   "outputs": [
    {
     "data": {
      "application/vnd.jupyter.widget-view+json": {
       "model_id": "25e1586be8e94d7d848c64d3847b43f3",
       "version_major": 2,
       "version_minor": 0
      },
      "text/plain": [
       "VBox(children=(HTML(value=''), Renderer(background='#cccc88', background_opacity=0.0, camera=PerspectiveCamera…"
      ]
     },
     "metadata": {},
     "output_type": "display_data"
    }
   ],
   "source": [
    "scad.render( obj, outfile=\"quadro_z_motor.stl\", dollar_sign_vars={ \"fn\": 180 })"
   ]
  },
  {
   "cell_type": "code",
   "execution_count": 19,
   "id": "69598057",
   "metadata": {},
   "outputs": [
    {
     "name": "stdout",
     "output_type": "stream",
     "text": [
      "Geometries in cache: 16\r\n",
      "Geometry cache size in bytes: 360920\r\n",
      "CGAL Polyhedrons in cache: 2\r\n",
      "CGAL cache size in bytes: 7758000\r\n",
      "Total rendering time: 0:00:16.026\r\n",
      "   Top level object is a 2D object:\r\n",
      "   Contours:        8\r\n"
     ]
    }
   ],
   "source": [
    "fscad = open( \"quadro_z_motor_svg1.scad\", \"w+\" )\n",
    "fscad.write( \"$fn=180;\\n\\nprojection(cut=true)\\n\" + workpiece )\n",
    "fscad.close()\n",
    "\n",
    "!sudo /usr/bin/openscad -o quadro_z_motor_1.svg quadro_z_motor_svg1.scad\n",
    "!sudo /usr/bin/openscad -o quadro_z_motor_1.dxf quadro_z_motor_svg1.scad"
   ]
  },
  {
   "cell_type": "code",
   "execution_count": 21,
   "id": "c45d2ac5",
   "metadata": {},
   "outputs": [
    {
     "name": "stdout",
     "output_type": "stream",
     "text": [
      "Geometries in cache: 16\r\n",
      "Geometry cache size in bytes: 363832\r\n",
      "CGAL Polyhedrons in cache: 3\r\n",
      "CGAL cache size in bytes: 11641216\r\n",
      "Total rendering time: 0:00:17.020\r\n",
      "   Top level object is a 2D object:\r\n",
      "   Contours:        9\r\n"
     ]
    }
   ],
   "source": [
    "fscad = open( \"quadro_z_motor_svg2.scad\", \"w+\" )\n",
    "fscad.write( \"$fn=180;\\n\\nprojection(cut=true)\\ntranslate([0,0,-1.6])\\n\" + workpiece )\n",
    "fscad.close()\n",
    "\n",
    "!sudo /usr/bin/openscad -o quadro_z_motor_2.svg quadro_z_motor_svg2.scad\n",
    "!sudo /usr/bin/openscad -o quadro_z_motor_2.dxf quadro_z_motor_svg2.scad"
   ]
  },
  {
   "cell_type": "code",
   "execution_count": 52,
   "id": "e30a728b",
   "metadata": {},
   "outputs": [
    {
     "name": "stdout",
     "output_type": "stream",
     "text": [
      "0 42.0\n",
      "80.0\n"
     ]
    }
   ],
   "source": [
    "import xml.etree.ElementTree as ET\n",
    "\n",
    "xmltree = ET.parse( 'quadro_z_motor_1.svg' )\n",
    "root = xmltree.getroot()\n",
    "\n",
    "xpaths = root.findall( \".//{http://www.w3.org/2000/svg}path\" )\n",
    "paths = []\n",
    "\n",
    "for xpath in xpaths:\n",
    "    paths.extend( list( filter( lambda s: s.strip() != \"\", xpath.attrib[ \"d\" ].split( \"M\" ))))\n",
    "\n",
    "#from svgpathtools import svg2paths\n",
    "from svgpathtools import parse_path\n",
    "from shapely.geometry import Polygon, Point\n",
    "\n",
    "opaths = []\n",
    "\n",
    "for path in paths:\n",
    "    opaths.append( parse_path( \"M \" + path ))\n",
    "    \n",
    "polis = []\n",
    "cursor = 0\n",
    "\n",
    "# evita coordenadas negativas\n",
    "minx, miny = 0, 0\n",
    "\n",
    "for path in opaths:\n",
    "    for item in path:\n",
    "        if \"Line\" in str( item ):\n",
    "            if item.start.real < minx: minx = item.start.real\n",
    "            if item.start.imag < miny: miny = item.start.imag\n",
    "            if item.end.real < minx: minx = item.end.real\n",
    "            if item.end.imag < miny: miny = item.end.imag\n",
    "\n",
    "minx *= 0 if minx > 0 else -1\n",
    "miny *= 0 if miny > 0 else -1\n",
    "    \n",
    "print( minx, miny )\n",
    "\n",
    "for path in opaths:\n",
    "    polis.append([])\n",
    "    \n",
    "    for item in path:\n",
    "        if \"Line\" in str( item ):\n",
    "            end = ( item.end.real + minx, item.end.imag + miny ) \n",
    "            if len( polis[ cursor ]) > 0:\n",
    "                polis[ cursor ].append( end )\n",
    "            else:\n",
    "                polis[ cursor ].extend([( item.start.real + minx, item.start.imag + miny ), end ])\n",
    "                \n",
    "    polis[ cursor ] = Polygon( polis[ cursor ])\n",
    "    cursor += 1\n",
    "          \n",
    "#dados os poligonos, verifica quem é exterior e quem é interior\n",
    "exts = []\n",
    "ints = []\n",
    "\n",
    "for i in range( len( polis )):\n",
    "    # procura os polys q nao estao contidos dentro de nenhum outro\n",
    "    cand = polis[ i ]\n",
    "    \n",
    "    notinside = True\n",
    "    \n",
    "    # checa contra todos os outros\n",
    "    for j in range( len( polis )):\n",
    "        if i == j: continue\n",
    "            \n",
    "        poly = polis[ j ]\n",
    "        xs, ys = cand.exterior.coords.xy\n",
    "        inside = True\n",
    "        for k in range( len( xs )):\n",
    "            pt = Point( xs[ k ], ys[ k ])\n",
    "            \n",
    "            # se algum dos pontos nao esta contido, o poly tb nao esta \n",
    "            if not poly.contains( pt ):\n",
    "                inside = False\n",
    "                break\n",
    "                \n",
    "        if inside:\n",
    "            notinside = False\n",
    "            break\n",
    "            \n",
    "    if notinside:\n",
    "        exts.append({ \"idx\": i, \"exterior\": cand, \"interior\": [] })\n",
    "\n",
    "        \n",
    "# acha os interiores de cada um\n",
    "for poly in exts:\n",
    "    for i in range( len( polis )):\n",
    "        if i == poly[ \"idx\" ]: continue\n",
    "            \n",
    "        cand = polis[ i ]\n",
    "        xs, ys = cand.exterior.coords.xy\n",
    "\n",
    "        inside = True\n",
    "        for k in range( len( xs )):\n",
    "            pt = Point( xs[ k ], ys[ k ])\n",
    "            \n",
    "            # se algum dos pontos nao esta contido, o poly tb nao esta \n",
    "            if not poly[ \"exterior\" ].contains( pt ):\n",
    "                inside = False\n",
    "                break\n",
    "\n",
    "        if inside:\n",
    "            poly[ \"interior\" ].append( cand )\n",
    "            \n",
    "# cria os poligonos finais com buracos\n",
    "\n",
    "shapes = []\n",
    "\n",
    "for poly in exts:\n",
    "    res = []\n",
    "    xs, ys = poly[ \"exterior\" ].exterior.coords.xy\n",
    "    \n",
    "    for i in range( len( xs )):\n",
    "        res.append(( xs[ i ], ys[ i ]))\n",
    "    \n",
    "    holes = []\n",
    "    for poly in poly[ \"interior\" ]:\n",
    "        hole = []\n",
    "        xs, ys = poly.exterior.coords.xy\n",
    "\n",
    "        for i in range( len( xs )):\n",
    "            hole.append(( xs[ i ], ys[ i ]))\n",
    "            \n",
    "        holes.append( hole )\n",
    "        \n",
    "    shapes.append( Polygon( res, holes=holes ))  \n",
    "    \n",
    "print( shapes[ 0 ].bounds[ 2 ] )"
   ]
  },
  {
   "cell_type": "code",
   "execution_count": 60,
   "id": "22ad8157",
   "metadata": {},
   "outputs": [
    {
     "data": {
      "image/png": "[encoded data removed]",
      "text/plain": [
       "<Figure size 544.252x285.732 with 1 Axes>"
      ]
     },
     "metadata": {
      "needs_background": "light"
     },
     "output_type": "display_data"
    }
   ],
   "source": [
    "%matplotlib inline\n",
    "\n",
    "from descartes import PolygonPatch\n",
    "\n",
    "import matplotlib.pyplot as plt\n",
    "\n",
    "cm = 2. / 2.54\n",
    "\n",
    "fig, ax = plt.subplots( figsize=( shapes[ 0 ].bounds[ 2 ] * 0.12 * cm, shapes[ 0 ].bounds[ 3 ] * 0.12 * cm ))\n",
    "patch = PolygonPatch( shapes[ 0 ].buffer( 0 ))\n",
    "ax.add_patch( patch )\n",
    "ax.set_xlim( -shapes[ 0 ].bounds[ 2 ] * 0.1, shapes[ 0 ].bounds[ 2 ] * 1.1 )\n",
    "ax.set_ylim( -shapes[ 0 ].bounds[ 3 ] * 0.1, shapes[ 0 ].bounds[ 3 ] * 1.1 )\n",
    "plt.show()\n"
   ]
  },
  {
   "cell_type": "code",
   "execution_count": null,
   "id": "6eb5e13a",
   "metadata": {},
   "outputs": [],
   "source": [
    "%matplotlib inline\n",
    "\n",
    "from descartes import PolygonPatch\n",
    "\n",
    "import matplotlib.pyplot as plt\n",
    "\n",
    "cm = 2. / 2.54\n",
    "\n",
    "fig, ax = plt.subplots( figsize=( shapes[ 0 ].bounds[ 2 ] * 0.12 * cm, shapes[ 0 ].bounds[ 3 ] * 0.12 * cm ))\n",
    "patch = PolygonPatch( shapes[ 0 ].buffer( 1 ))\n",
    "ax.add_patch( patch )\n",
    "ax.set_xlim( -shapes[ 0 ].bounds[ 2 ] * 0.1, shapes[ 0 ].bounds[ 2 ] * 1.1 )\n",
    "ax.set_ylim( -shapes[ 0 ].bounds[ 3 ] * 0.1, shapes[ 0 ].bounds[ 3 ] * 1.1 )\n",
    "plt.show()"
   ]
  }
 ],
 "metadata": {
  "kernelspec": {
   "display_name": "Python 3",
   "language": "python",
   "name": "python3"
  },
  "language_info": {
   "codemirror_mode": {
    "name": "ipython",
    "version": 3
   },
   "file_extension": ".py",
   "mimetype": "text/x-python",
   "name": "python",
   "nbconvert_exporter": "python",
   "pygments_lexer": "ipython3",
   "version": "3.6.9"
  }
 },
 "nbformat": 4,
 "nbformat_minor": 5
}
