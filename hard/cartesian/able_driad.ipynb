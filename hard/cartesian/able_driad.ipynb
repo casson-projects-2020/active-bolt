{
 "cells": [
  {
   "cell_type": "markdown",
   "metadata": {},
   "source": [
    "<h1>Detalhes da montagem da Able Dryad</h1>"
   ]
  },
  {
   "cell_type": "markdown",
   "metadata": {},
   "source": [
    "Codigo python que define as peças de apoio do eixo z sobre os motores:<br/>\n",
    "(O codigo cria um arquivo do OpenScad para visualização da peça)"
   ]
  },
  {
   "cell_type": "code",
   "execution_count": 4,
   "metadata": {},
   "outputs": [
    {
     "name": "stdout",
     "output_type": "stream",
     "text": [
      "Collecting solidpython\n",
      "  Downloading solidpython-1.1.1-py3-none-any.whl (86 kB)\n",
      "\u001b[K     |████████████████████████████████| 86 kB 1.6 MB/s eta 0:00:011\n",
      "\u001b[?25hCollecting PrettyTable==0.7.2\n",
      "  Downloading prettytable-0.7.2.zip (28 kB)\n",
      "Collecting regex<2020.0,>=2019.4\n",
      "  Downloading regex-2019.12.20-cp37-cp37m-manylinux2010_x86_64.whl (689 kB)\n",
      "\u001b[K     |████████████████████████████████| 689 kB 4.3 MB/s eta 0:00:01\n",
      "\u001b[?25hCollecting pypng<0.0.20,>=0.0.19\n",
      "  Downloading pypng-0.0.19.tar.gz (293 kB)\n",
      "\u001b[K     |████████████████████████████████| 293 kB 74.5 MB/s eta 0:00:01\n",
      "\u001b[?25hCollecting euclid3<0.2.0,>=0.1.0\n",
      "  Downloading euclid3-0.01.tar.gz (13 kB)\n",
      "Building wheels for collected packages: PrettyTable, euclid3, pypng\n",
      "  Building wheel for PrettyTable (setup.py) ... \u001b[?25ldone\n",
      "\u001b[?25h  Created wheel for PrettyTable: filename=prettytable-0.7.2-py3-none-any.whl size=13714 sha256=ba79267f215ad0449c86311b7c81809559ca5f925666f0ad96d2e60afc2f1cdb\n",
      "  Stored in directory: /home/jovyan/.cache/pip/wheels/b2/7f/f6/f180315b584f00445045ff1699b550fa895d09471337ce21c6\n",
      "  Building wheel for euclid3 (setup.py) ... \u001b[?25ldone\n",
      "\u001b[?25h  Created wheel for euclid3: filename=euclid3-0.1-py3-none-any.whl size=13254 sha256=44de336111b5f32d447264ca9b6aa6a8d7495dcea622f146d7169367659b7f7f\n",
      "  Stored in directory: /home/jovyan/.cache/pip/wheels/1b/1b/f2/bbb2437ff6effd37fb7c2dd367810f8b0df00e019b9cbd7a19\n",
      "  Building wheel for pypng (setup.py) ... \u001b[?25ldone\n",
      "\u001b[?25h  Created wheel for pypng: filename=pypng-0.0.19-py3-none-any.whl size=53318 sha256=6ef95f0147b1858ad6d079b1d55aaf1ee9ad1c072ec24f8ece356d38517ec793\n",
      "  Stored in directory: /home/jovyan/.cache/pip/wheels/4b/fe/78/9a8170cb43322626a97136062bf8d67267ae0950885850b7d0\n",
      "Successfully built PrettyTable euclid3 pypng\n",
      "Installing collected packages: regex, pypng, PrettyTable, euclid3, solidpython\n",
      "Successfully installed PrettyTable-0.7.2 euclid3-0.1 pypng-0.0.19 regex-2019.12.20 solidpython-1.1.1\n"
     ]
    }
   ],
   "source": [
    "import zipfile\n",
    "\n",
    "with zipfile.ZipFile( \"openscad.zip\", 'r' ) as zip_ref:\n",
    "    zip_ref.extractall( \".\" )\n",
    "    \n",
    "!pip install solidpython\n"
   ]
  },
  {
   "cell_type": "code",
   "execution_count": 5,
   "metadata": {},
   "outputs": [
    {
     "name": "stdout",
     "output_type": "stream",
     "text": [
      "$fn=180;\n",
      "\n",
      "\n",
      "difference(){\n",
      "\tdifference() {\n",
      "\t\tcube(size = [80, 42, 3]);\n",
      "\t}\n",
      "\t/* Holes Below*/\n",
      "\tunion(){\n",
      "\t\ttranslate(v = [9.5000000000, 5.5000000000, -1]) {\n",
      "\t\t\tcylinder(h = 5, r = 1.5000000000);\n",
      "\t\t}\n",
      "\t\ttranslate(v = [9.5000000000, 36.5000000000, -1]) {\n",
      "\t\t\tcylinder(h = 5, r = 1.5000000000);\n",
      "\t\t}\n",
      "\t\ttranslate(v = [40.5000000000, 5.5000000000, -1]) {\n",
      "\t\t\tcylinder(h = 5, r = 1.5000000000);\n",
      "\t\t}\n",
      "\t\ttranslate(v = [40.5000000000, 36.5000000000, -1]) {\n",
      "\t\t\tcylinder(h = 5, r = 1.5000000000);\n",
      "\t\t}\n",
      "\t\ttranslate(v = [25.0000000000, 21.0000000000, -1]) {\n",
      "\t\t\tcylinder(h = 5, r = 11.5000000000);\n",
      "\t\t}\n",
      "\t\ttranslate(v = [47.0000000000, 21.0000000000, 1.5000000000]) {\n",
      "\t\t\tcylinder(h = 5, r = 4);\n",
      "\t\t}\n",
      "\t\ttranslate(v = [5.0000000000, 21.0000000000, -1]) {\n",
      "\t\t\tcylinder(h = 5, r = 2.0000000000);\n",
      "\t\t}\n",
      "\t\ttranslate(v = [70.0000000000, 21.0000000000, -1]) {\n",
      "\t\t\tcylinder(h = 5, r = 2.5000000000);\n",
      "\t\t}\n",
      "\t} /* End Holes */ \n",
      "}\n"
     ]
    }
   ],
   "source": [
    "#import os\n",
    "\n",
    "from solid import *\n",
    "from solid.objects import *\n",
    "\n",
    "\n",
    "# placa que será apoiada nos motores. Em cima delas ficara apoiado o\n",
    "# frame do eixo z\n",
    "plate_w = 80\n",
    "off_w = 4\n",
    "plate_dpt = 42\n",
    "plate_h = 3\n",
    "\n",
    "# dados da barra superior para calculos\n",
    "beam_w = 420\n",
    "\n",
    "# dados dos fusos para calculos\n",
    "dist_fusos = 310\n",
    "\n",
    "# dados dos furos no motor\n",
    "dist_furos = 31\n",
    "motor_w = 42\n",
    "\n",
    "# projecao de suporte do motor\n",
    "r_slot = 23 / 2    # 1mm de folga\n",
    "\n",
    "# dados dos fusos\n",
    "d_fusos = 310\n",
    "\n",
    "# dados das guias\n",
    "d_guias = 354\n",
    "r_guia = 4  # sem folga, a guia pode ser martelada para dentro do furo e nao precisa se mover\n",
    "\n",
    "d_motor_guia = ( d_guias - d_fusos ) / 2 \n",
    "\n",
    "# distancia do furo m5 externo\n",
    "d_m5 = 10\n",
    "d_m5_ext = ( beam_w - dist_fusos ) / 2 - d_m5\n",
    "\n",
    "# cortes de encaixe de chapa\n",
    "# TODO\n",
    "\n",
    "obj = cube([ plate_w, plate_dpt, plate_h ])\n",
    "\n",
    "# furos\n",
    "m3 = 3\n",
    "m4 = 4  # para o threading do m5\n",
    "m5 = 5\n",
    "\n",
    "n_m3 = cylinder( r=m3 / 2, h=plate_h + 2 )\n",
    "n_m4 = cylinder( r=m4 / 2, h=plate_h + 2 )\n",
    "n_m5 = cylinder( r=m5 / 2, h=plate_h + 2 )\n",
    "n_slot = cylinder( r=r_slot, h=plate_h + 2 )\n",
    "n_guia = cylinder( r=r_guia, h=plate_h + 2 )\n",
    "\n",
    "# raio do acoplador para o motor\n",
    "r_coupling = 20 / 2\n",
    "\n",
    "# montagem\n",
    "for i in range( 0, 32, 31 ):\n",
    "    for j in range( 0, 32, 31 ):\n",
    "        obj -= hole()( translate([ ( motor_w - dist_furos ) / 2 + i + off_w, ( plate_dpt - dist_furos ) / 2 + j, -1 ])( n_m3 ))\n",
    "\n",
    "obj -= hole()( translate([ motor_w / 2 + off_w, plate_dpt / 2, -1 ])( n_slot ))\n",
    "\n",
    "obj -= hole()( translate([ motor_w / 2 + d_motor_guia + off_w, plate_dpt / 2, 1.5 ])( n_guia ))\n",
    "\n",
    "obj -= hole()( translate([ motor_w / 2 + off_w - r_coupling - d_m5, plate_dpt / 2, -1 ])( n_m4 ))\n",
    "\n",
    "obj -= hole()( translate([ motor_w / 2 + off_w + d_m5_ext, plate_dpt / 2, -1 ])( n_m5 ))\n",
    "\n",
    "file = open( \"quadro_z_motor.scad\", \"w+\" )\n",
    "file.write( \"$fn=180;\\n\" )\n",
    "file.write( scad_render( obj ))\n",
    "file.close()\n",
    "\n",
    "#workpiece = \"$fn=180;\\n\" + scad_render( obj )\n",
    "\n",
    "#print( workpiece )"
   ]
  },
  {
   "cell_type": "markdown",
   "metadata": {},
   "source": [
    "Usa o openscad para gerar um stl"
   ]
  },
  {
   "cell_type": "code",
   "execution_count": 19,
   "metadata": {},
   "outputs": [
    {
     "name": "stdout",
     "output_type": "stream",
     "text": [
      "E: Could not open lock file /var/lib/dpkg/lock-frontend - open (13: Permission denied)\n",
      "E: Unable to acquire the dpkg frontend lock (/var/lib/dpkg/lock-frontend), are you root?\n",
      "/bin/bash: ./openscad.exe: cannot execute binary file: Exec format error\n"
     ]
    }
   ],
   "source": [
    "!openscad -o motor.stl quadro_z_motor.scad"
   ]
  },
  {
   "cell_type": "code",
   "execution_count": 8,
   "metadata": {},
   "outputs": [
    {
     "data": {
      "application/vnd.jupyter.widget-view+json": {
       "model_id": "3d663d3eecab447b800eb821dc058705",
       "version_major": 2,
       "version_minor": 0
      },
      "text/plain": [
       "Output()"
      ]
     },
     "metadata": {},
     "output_type": "display_data"
    }
   ],
   "source": [
    "#!pip install solidpython\n",
    "#!pip install viewscad\n",
    "import k3d\n",
    "plot = k3d.plot()\n",
    "\n",
    "stl = open( \"quadro_z_motor.stl\", \"rb\" )\n",
    "\n",
    "plot += k3d.stl( stl.read(), color=0xFF0000 ) #, model_matrix=model_matrix )\n",
    "stl.close()\n",
    "plot.display()\n"
   ]
  },
  {
   "cell_type": "code",
   "execution_count": null,
   "metadata": {},
   "outputs": [],
   "source": []
  }
 ],
 "metadata": {
  "kernelspec": {
   "display_name": "Python 3 (ipykernel)",
   "language": "python",
   "name": "python3"
  },
  "language_info": {
   "codemirror_mode": {
    "name": "ipython",
    "version": 3
   },
   "file_extension": ".py",
   "mimetype": "text/x-python",
   "name": "python",
   "nbconvert_exporter": "python",
   "pygments_lexer": "ipython3",
   "version": "3.7.10"
  }
 },
 "nbformat": 4,
 "nbformat_minor": 4
}
