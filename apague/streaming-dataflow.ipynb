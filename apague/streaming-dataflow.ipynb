{
 "cells": [
  {
   "cell_type": "markdown",
   "metadata": {},
   "source": [
    "<h1>Streaming Data Processing: Streaming Data Pipelines</h1>"
   ]
  },
  {
   "cell_type": "markdown",
   "metadata": {},
   "source": [
    "<h3>Este documento serve como complemento ao exercício que pode ser encontrado em https://googlecloud.qwiklabs.com/labs/2187/edit</h3>\n",
    "<h2>Tarefa 1: Preparação</h2>\n",
    "<h3>Balde (intervalo) no Cloud Storage</h3>\n",
    "\n",
    "Execute o seguinte código para ter certeza que existe um balde (intervalo) no Cloud Storage com o nome do seu projeto (clique na célula abaixo e em \"run\" -> \"run selected cells\" - ou tecle Shift + Enter - ou clique no icone \"►\" - para executar o código):"
   ]
  },
  {
   "cell_type": "code",
   "execution_count": null,
   "metadata": {},
   "outputs": [],
   "source": [
    "!gsutil mb gs://$(gcloud config get-value project)"
   ]
  },
  {
   "cell_type": "markdown",
   "metadata": {},
   "source": [
    "<br/>O balde deve ser criado ou você deve ver um erro \"bucket already exists\" se ele ja existir."
   ]
  },
  {
   "cell_type": "markdown",
   "metadata": {},
   "source": [
    "<h3>Dataset no BigQuery</h3>\n",
    "Execute o código abaixo para criar um dataset que será utilizado neste exercício."
   ]
  },
  {
   "cell_type": "code",
   "execution_count": null,
   "metadata": {},
   "outputs": [],
   "source": [
    "!bq mk --dataset demos"
   ]
  },
  {
   "cell_type": "markdown",
   "metadata": {},
   "source": [
    "<h3>Tabela no BigQuery</h3>\n",
    "Execute o código abaixo para criar uma tabela que será utilizada para gravar as mensagens recebidas do Pub/Sub."
   ]
  },
  {
   "cell_type": "code",
   "execution_count": null,
   "metadata": {},
   "outputs": [],
   "source": [
    "!bq mk \\\n",
    "--table \\\n",
    "$(gcloud config get-value project):demos.taxis \\\n",
    "ride_id:STRING,point_idx:INTEGER,latitude:FLOAT,longitude:FLOAT,timestamp:STRING,meter_reading:FLOAT,meter_increment:FLOAT,ride_status:STRING,passenger_count:INTEGER"
   ]
  },
  {
   "cell_type": "markdown",
   "metadata": {},
   "source": [
    "<h3>Ativar API do Dataflow se ela já não estiver ativada</h3>\n",
    "Execute o código abaixo para ativar a API do Dataflow. O comando não retorna linha nenhuma."
   ]
  },
  {
   "cell_type": "code",
   "execution_count": null,
   "metadata": {},
   "outputs": [],
   "source": [
    "!gcloud services enable dataflow"
   ]
  },
  {
   "cell_type": "markdown",
   "metadata": {},
   "source": [
    "<h3>Clone (usando o CLOUD SHELL) do Github o repositório com o fluxo do Dataflow</h3>\n",
    "Abra o cloud shell. Copie e execute o comando a seguir para clonar o repositório que contém dados em tempo real de táxis"
   ]
  },
  {
   "cell_type": "raw",
   "metadata": {},
   "source": [
    "git clone https://github.com/googlecodelabs/cloud-dataflow-nyc-taxi-tycoon"
   ]
  },
  {
   "cell_type": "markdown",
   "metadata": {},
   "source": [
    "<h3>Criar tópico local no Pub/Sub</h3>\n",
    "O código neste exercício (retirado de um Codelab do Google) lê mensagens do tópico público em tempo real e re-envia essas mensagens para outro tópico do Pub/Sub. Usaremos esse código para copiar as mensagens para um tópico local e deste tópico local copiaremos para o BigQuery.<br/>\n",
    "<br/>\n",
    "Execute o comando a seguir para criar o tópico local com o nome \"visualizer\" (necessário para o código)."
   ]
  },
  {
   "cell_type": "code",
   "execution_count": null,
   "metadata": {},
   "outputs": [],
   "source": [
    "!gcloud pubsub topics create visualizer"
   ]
  },
  {
   "cell_type": "markdown",
   "metadata": {},
   "source": [
    "<h2>Tarefa 2: Examine o tópico em tempo real público do Pub/Sub</h2>\n",
    "O Google mantém o tópico projects/pubsub-public-data/topics/taxirides-realtime com dados em tempo real de taxis para uso em exercícios. Execute o código abaixo para ler a quantidade de assinaturas nesse tópico:"
   ]
  },
  {
   "cell_type": "code",
   "execution_count": null,
   "metadata": {},
   "outputs": [],
   "source": [
    "!echo assinaturas:\n",
    "!expr $(gcloud pubsub topics list-subscriptions projects/pubsub-public-data/topics/taxirides-realtime | wc -l) / 2\n",
    "!echo exemplos:\n",
    "!gcloud pubsub topics list-subscriptions projects/pubsub-public-data/topics/taxirides-realtime --limit 10"
   ]
  },
  {
   "cell_type": "markdown",
   "metadata": {},
   "source": [
    "<h2>Tarefa 3: Execute fluxo de dados em tempo real no Dataflow</h2>\n",
    "<b>1 - Analise o arquivo AllRides.java</b><br/>\n",
    "<br/>\n",
    "O que faz o script?<br/>\n",
    "<br/>\n",
    "Você pode querer analisar esse arquivo durante a tarefa, então, para um acesso fácil a ele, abra uma nova aba no browser e cole o seguinte endereço: https://raw.githubusercontent.com/googlecodelabs/cloud-dataflow-nyc-taxi-tycoon/master/dataflow/src/main/java/com/google/codelabs/dataflow/AllRides.java\n",
    "<br/><br/>\n",
    "Se quiser analisar o arquivo neste notebook execute o comando abaixo."
   ]
  },
  {
   "cell_type": "code",
   "execution_count": null,
   "metadata": {},
   "outputs": [],
   "source": [
    "!git clone https://github.com/googlecodelabs/cloud-dataflow-nyc-taxi-tycoon\n",
    "  \n",
    "!cat ~/cloud-dataflow-nyc-taxi-tycoon/dataflow/src/main/java/com/google/codelabs/dataflow/AllRides.java"
   ]
  },
  {
   "cell_type": "markdown",
   "metadata": {},
   "source": [
    "<br/><b>2 - Execute (no CLOUD SHELL) o fluxo de dados</b><br/>\n",
    "Copie e execute os seguintes comandos para criar o fluxo de dados. Como se trata de um fluxo desenvolvido em java, é preciso compilar o código utilizando o Maven (mvn).\n",
    "\n",
    "Atenção: escrever no Pub/Sub a 2,000 events por segundo ≃ $0.05/minuto."
   ]
  },
  {
   "cell_type": "raw",
   "metadata": {},
   "source": [
    "cd ~/cloud-dataflow-nyc-taxi-tycoon/dataflow\n",
    "\n",
    "mvn compile -e exec:java \\\n",
    " -Dexec.mainClass=\"com.google.codelabs.dataflow.AllRides\" \\\n",
    "      -Dexec.args=\"--project=$(gcloud config get-value project) \\\n",
    "      --stagingLocation=gs://$(gcloud config get-value project)/staging/ $* \\\n",
    "      --tempLocation=gs://$(gcloud config get-value project)/temp/ \\\n",
    "      --runner=DataflowPipelineRunner \\\n",
    "      --sinkProject=$(gcloud config get-value project) \\\n",
    "      --streaming=true \\\n",
    "      --zone=us-central1-a \\\n",
    "      \""
   ]
  },
  {
   "cell_type": "raw",
   "metadata": {},
   "source": [
    "Após a compilação, o processo terá sido bem sucedido se as ultimas linhas mostrarem algo como:\n",
    "\n",
    "[INFO] ------------------------------------------------------------------------\n",
    "[INFO] BUILD SUCCESS\n",
    "[INFO] ------------------------------------------------------------------------\n",
    "[INFO] Total time:  57.418 s\n",
    "[INFO] Finished at: 2020-05-20T20:03:16-03:00\n",
    "[INFO] ------------------------------------------------------------------------"
   ]
  },
  {
   "cell_type": "markdown",
   "metadata": {},
   "source": [
    "<h2>Tarefa 4: Analise o fluxo de dados</h2>\n",
    "<br/><b>1 - Abra o console do Dataflow</b><br/>\n",
    "No console web do GCP, abra a lista de jobs do Dataflow. Você deve ver listado um job com nome iniciado por \"allrides-\". Clique no job para ver o gráfico de execução.\n",
    "<br/><br/>\n",
    "Este fluxo lê do tópico público do Pub Sub e salva os resultados num outro tópico do Pub Sub criado localmente no seu projeto.<br/><br/>\n",
    "Aguarde o tempo de inicialização do gráfico. Pode demorar alguns minutos até o Dataflow começar a receber as mensagens em tempo real e re-enviar para o nosso tópico local.\n",
    "\n",
    "<h2>Tarefa 5: Copie os dados para o BigQuery</h2>\n",
    "<br/><b>1 - Abra o console do Pub/Sub</b><br/>\n",
    "No console web do GCP, abra a lista de tópicos do Pub/Sub. Você deve ver listado o tópico visualizer criado anteriormente.\n",
    "<br/><br/>\n",
    "<br/><b>2 - Confira para ver se o tópico está recebendo mensagens</b><br/>\n",
    "• No console web do GCP, abra a lista de ASSINATURAS (subscriptions) do Pub/Sub. Clique em \"criar assinatura\" (create subscription).<br/>\n",
    "• Preencha o Id da assinatura como \"taxis-teste\"<br/>\n",
    "• Selecione o tópico \"visualizer\" no campo \"tópico\"<br/>\n",
    "• Escolha \"pull\" como tipo de entrega (delivery type)<br/>\n",
    "• Não altere mais nenhum parametro e clique em \"criar\"<br/>\n",
    "• Retorne para o console de Tópicos, e clique no tópico visualizer para ver os detalhes<br/>\n",
    "• Na barra superior clique \"ver mensagens\"<br/>\n",
    "• Escolha a assinatura de teste que acabou de criar (taxis-teste) e clique em \"pull\"<br/>\n",
    "<br/><br/>\n",
    "Pode ser necessário clicar mais de uma vez. As mensagens só vão começar a chegar depois que o fluxo do Dataflow estiver já em pleno funcionamento.\n"
   ]
  },
  {
   "cell_type": "markdown",
   "metadata": {},
   "source": [
    "<br/><b>3 - Use um modelo do Dataflow para copiar o tópico para o BigQuery</b><br/>\n",
    "No próprio painel de tópico, clique no botão \"Exportar para o BigQuery\" (export to bigquery).\n",
    "<br/><br/>\n",
    "• Aceite o nome e região sugeridos para o fluxo do Dataflow que será criado.<br/>\n",
    "• Selecione o modelo \"Tópico do Pub/Sub para o BigQuery\" (Pub/Sub Topic to BigQuery). Cuidado para <b>NÃO</b> escolher o modelo \"assinatura do Pub/Sub...\"<br/>\n",
    "• Execute o código a seguir para gerar o nome do tópico:<br/>"
   ]
  },
  {
   "cell_type": "code",
   "execution_count": 2,
   "metadata": {},
   "outputs": [
    {
     "name": "stdout",
     "output_type": "stream",
     "text": [
      "projects/active-bolt-265320/topics/visualizer\n"
     ]
    }
   ],
   "source": [
    "!echo projects/$(gcloud config get-value project)/topics/visualizer"
   ]
  },
  {
   "cell_type": "markdown",
   "metadata": {},
   "source": [
    "• Copie e cole o nome completo de tópico acima para o campo \"tópico pub/sub de entrada\" (input pub/sub topic)<br/>\n",
    "• Execute o código a seguir para gerar o nome da tabela:<br/>"
   ]
  },
  {
   "cell_type": "code",
   "execution_count": 3,
   "metadata": {},
   "outputs": [
    {
     "name": "stdout",
     "output_type": "stream",
     "text": [
      "active-bolt-265320:demos.taxis\n"
     ]
    }
   ],
   "source": [
    "!echo $(gcloud config get-value project):demos.taxis"
   ]
  },
  {
   "cell_type": "markdown",
   "metadata": {},
   "source": [
    "• Copie e cole o nome completo da tabela acima para o campo \"tabela de saida do BigQuery\" (BigQuery output table)<br/>\n",
    "• Execute o código a seguir para gerar o nome da area temporaria que o modelo necessita:<br/>"
   ]
  },
  {
   "cell_type": "code",
   "execution_count": 5,
   "metadata": {},
   "outputs": [
    {
     "name": "stdout",
     "output_type": "stream",
     "text": [
      "gs://active-bolt-265320/temp\n"
     ]
    }
   ],
   "source": [
    "!echo gs://$(gcloud config get-value project)/temp"
   ]
  },
  {
   "cell_type": "markdown",
   "metadata": {},
   "source": [
    "• Copie e cole o nome completo do balde e pasta acima para o campo \"local temporario\" (temporary location)<br/>\n",
    "• Clique em \"Executar Job\" (run job)"
   ]
  },
  {
   "cell_type": "markdown",
   "metadata": {},
   "source": [
    "<h2>Tarefa 6: Determine as taxas de throughput</h2>\n",
    "Uma atividade comum ao monitorar e aprimorar os pipelines do Dataflow é descobrir quantos elementos o pipeline processa por segundo, qual é o atraso do sistema e quantos elementos de dados foram processados até o momento. Nesta atividade, você aprenderá onde, no Cloud Console, é possível encontrar informações sobre elementos processados e tempo.<br/><br/>\n",
    "1 - Abra o console do Dataflow e clique no primeiro job criado, que ja deve estar funcionando plenamente.<br/><br/>\n",
    "2 - Clique na primeira transformação do gráfico (a caixa superior no gráfico) e analise as métricas à direita.<br/><br/>\n",
    "• O <b>System Lag</b> é uma métrica importante para streaming de pipelines. Representa a quantidade de tempo que os elementos de dados estão aguardando para serem processados desde que chegaram na entrada da etapa de transformação.<br/><br/>\n",
    "• a métrica <b>Elements Added</b> dentro de output collections informa quantos elementos de dados saíram desta etapa (para a etapa seguinte, e também representa o número de mensagens do Pub/Sub lidas do tópico).<br/>"
   ]
  },
  {
   "cell_type": "markdown",
   "metadata": {},
   "source": [
    "<h2>Tarefa 7: Consulte os dados no BigQuery</h2>\n",
    "Consulte o novo job no Dataflow. Este job também levará alguns minutos para começar a funcionar plenamente. A tabela só será preenchida quando o fluxo estiver funcionando plenamente.\n",
    "<br/><br/>\n",
    "Abra o console do BigQuery. Clique na tabela e escolha \"consultar a tabela\" (query table) e execute a query para ver 1000 linhas.<br/><br/>\n"
   ]
  },
  {
   "cell_type": "markdown",
   "metadata": {},
   "source": [
    "<h2>Execute as tarefas 8, 10, 11, 12, 13 do Exercício original </h2>\n",
    "Cuidado para selecionar os itens criados neste notebook, e não os citados originalmente no exercício."
   ]
  },
  {
   "cell_type": "code",
   "execution_count": null,
   "metadata": {},
   "outputs": [],
   "source": []
  }
 ],
 "metadata": {
  "kernelspec": {
   "display_name": "Python 3",
   "language": "python",
   "name": "python3"
  },
  "language_info": {
   "codemirror_mode": {
    "name": "ipython",
    "version": 3
   },
   "file_extension": ".py",
   "mimetype": "text/x-python",
   "name": "python",
   "nbconvert_exporter": "python",
   "pygments_lexer": "ipython3",
   "version": "3.5.3"
  }
 },
 "nbformat": 4,
 "nbformat_minor": 4
}
