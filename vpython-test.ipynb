{
 "cells": [
  {
   "cell_type": "markdown",
   "metadata": {},
   "source": [
    "<h1 style=\"display:inline-block\">Clip Bolt</h1><h2>Conversão de clone Prusa 3 para um CNC</h2>"
   ]
  },
  {
   "cell_type": "code",
   "execution_count": null,
   "metadata": {
    "colab": {},
    "colab_type": "code",
    "id": "ezRSPKUC7CER"
   },
   "outputs": [],
   "source": [
    "# if running on binder we already have dependencies installed \n",
    "#%pip install vpython"
   ]
  },
  {
   "cell_type": "markdown",
   "metadata": {},
   "source": [
    "A estrutura do clone de Prusa 3 segue o modelo 3D definido abaixo:"
   ]
  },
  {
   "cell_type": "code",
   "execution_count": 1,
   "metadata": {},
   "outputs": [
    {
     "name": "stdout",
     "output_type": "stream",
     "text": [
      "{'asset': {'unit': {'name': 'milimeter', 'meter': 0.001}, 'curve-precision-dev': 0.25, 'curve-precision-prod': 0.025}, 'parent': {...}, 'sketch': {'fuso_z.base-sketch': {'up': (0, 0, 1), 'geom': {'curve': 'circle', 'radius': 4, 'pos': (0, 0, 0)}}}, 'solid': {'fuso_z': {'cmd': 'extrude', 'sketch': 'fuso_z.base-sketch', 'length': 300}}}\n"
     ]
    }
   ],
   "source": [
    "#baixo o codigo da cloud function usada para mante-lo\n",
    "import requests \n",
    "exec( requests.get( \"https://us-central1-active-bolt-265320.cloudfunctions.net/guide-bolt\" ).text )\n",
    "    \n",
    "# adiciona um sketch (circulo, para servir de base para um cilindro q representa um fuso)\n",
    "Sketch.add( \"fuso_z.base-sketch\", (0,0,1), Curve.circle( 4, (0,0,0)))\n",
    "Solid.extrude( \"fuso_z\", \"fuso_z.base-sketch\", 300 )\n",
    "\n",
    "print( Implement.blender())"
   ]
  },
  {
   "cell_type": "code",
   "execution_count": null,
   "metadata": {
    "colab": {},
    "colab_type": "code",
    "id": "-slLXJmR7FeG"
   },
   "outputs": [],
   "source": [
    "from vpython import *\n",
    "sphere()\n"
   ]
  }
 ],
 "metadata": {
  "colab": {
   "authorship_tag": "ABX9TyPkDsVvRybOrUcBPPzrJJoK",
   "name": "vpython-test.ipynb",
   "provenance": []
  },
  "kernelspec": {
   "display_name": "Python 3",
   "language": "python",
   "name": "python3"
  },
  "language_info": {
   "codemirror_mode": {
    "name": "ipython",
    "version": 3
   },
   "file_extension": ".py",
   "mimetype": "text/x-python",
   "name": "python",
   "nbconvert_exporter": "python",
   "pygments_lexer": "ipython3",
   "version": "3.7.8"
  }
 },
 "nbformat": 4,
 "nbformat_minor": 1
}
