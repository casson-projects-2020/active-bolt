{
 "cells": [
  {
   "cell_type": "markdown",
   "metadata": {
    "_cell_guid": "b1076dfc-b9ad-4769-8c92-a6c4dae69d19",
    "_uuid": "8f2839f25d086af736a60e9eeb907d3b93b6e0e5"
   },
   "source": [
    "<h1>Ensaio para Active Voxel</h1>"
   ]
  },
  {
   "cell_type": "code",
   "execution_count": 6,
   "metadata": {},
   "outputs": [
    {
     "data": {
      "text/html": [
       "<div id=\"glowscript\" class=\"glowscript\"></div>"
      ],
      "text/plain": [
       "<IPython.core.display.HTML object>"
      ]
     },
     "metadata": {},
     "output_type": "display_data"
    },
    {
     "data": {
      "application/javascript": [
       "if (typeof Jupyter !== \"undefined\") { window.__context = { glowscript_container: $(\"#glowscript\").removeAttr(\"id\")};}else{ element.textContent = ' ';}"
      ],
      "text/plain": [
       "<IPython.core.display.Javascript object>"
      ]
     },
     "metadata": {},
     "output_type": "display_data"
    }
   ],
   "source": [
    "from vpython import *\n",
    "\n",
    "ctr = vec( 150, 50, 150 )\n",
    "\n",
    "# This is needed in Jupyter notebook and lab to make programs easily rerunnable\n",
    "scene = canvas( center=ctr, background = color.gray( 0.8 ))\n",
    "scene.autoscaling = False\n",
    "scene.forward = vec( 0, 200, 0 )\n",
    "scene.up = vec( 0, 0, 1 )\n",
    "scene.camera.pos = vec( 150, -330, 150 )\n",
    "scene.range = 50"
   ]
  },
  {
   "cell_type": "code",
   "execution_count": 13,
   "metadata": {},
   "outputs": [
    {
     "name": "stdout",
     "output_type": "stream",
     "text": [
      "{((1, 2), (3, 4)): 0, ((-3, 5), (6, 7)): 1, ((-6, 8), (9, 10)): 2, ((-9, 11), (-1, 12)): 3, ((-11, -8), (-5, -2)): 4, ((-12, -4), (-7, -10)): 5}\n"
     ]
    }
   ],
   "source": [
    "# quads always start with 6 quads needed to form the seed\n",
    "# <(( int e1, int e2 ) t1, ( int e3, int e4 ) t2 ), int >\n",
    "quads = {\n",
    "    # front\n",
    "    (( 1, 2 ), ( 3, 4 )): 0,\n",
    "\n",
    "    # top\n",
    "    (( -3, 5 ), ( 6, 7 )): 1,\n",
    "\n",
    "    # back\n",
    "    (( -6, 8 ), ( 9, 10 )): 2,\n",
    "\n",
    "    # bottom\n",
    "    (( -9, 11 ), ( -1, 12 )): 3,\n",
    "\n",
    "    # left\n",
    "    (( -11, -8 ), ( -5, -2 )): 4,\n",
    "\n",
    "    # right\n",
    "    (( -12, -4 ), ( -7, -10 )): 5\n",
    "}\n",
    "\n",
    "print( quads )"
   ]
  },
  {
   "cell_type": "code",
   "execution_count": 16,
   "metadata": {},
   "outputs": [
    {
     "name": "stdout",
     "output_type": "stream",
     "text": [
      "{0: ((1, 2), (3, 4)), 1: ((-3, 5), (6, 7)), 2: ((-6, 8), (9, 10)), 3: ((-9, 11), (-1, 12)), 4: ((-11, -8), (-5, -2)), 5: ((-12, -4), (-7, -10))}\n"
     ]
    }
   ],
   "source": [
    "quads_rev = {}\n",
    "\n",
    "# dict comprehension failed here\n",
    "for quad in quads:\n",
    "    quads_rev[ quads[ quad ]] = quad\n",
    "    \n",
    "print( quads_rev )"
   ]
  },
  {
   "cell_type": "code",
   "execution_count": null,
   "metadata": {},
   "outputs": [],
   "source": []
  }
 ],
 "metadata": {
  "kernelspec": {
   "display_name": "Python 3",
   "language": "python",
   "name": "python3"
  },
  "language_info": {
   "codemirror_mode": {
    "name": "ipython",
    "version": 3
   },
   "file_extension": ".py",
   "mimetype": "text/x-python",
   "name": "python",
   "nbconvert_exporter": "python",
   "pygments_lexer": "ipython3",
   "version": "3.7.8"
  }
 },
 "nbformat": 4,
 "nbformat_minor": 4
}
