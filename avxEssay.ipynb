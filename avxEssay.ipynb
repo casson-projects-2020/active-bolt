{
 "cells": [
  {
   "cell_type": "markdown",
   "metadata": {
    "_cell_guid": "b1076dfc-b9ad-4769-8c92-a6c4dae69d19",
    "_uuid": "8f2839f25d086af736a60e9eeb907d3b93b6e0e5"
   },
   "source": [
    "<h1>Ensaio para Active Voxel</h1>"
   ]
  },
  {
   "cell_type": "code",
   "execution_count": 6,
   "metadata": {},
   "outputs": [
    {
     "data": {
      "text/html": [
       "<div id=\"glowscript\" class=\"glowscript\"></div>"
      ],
      "text/plain": [
       "<IPython.core.display.HTML object>"
      ]
     },
     "metadata": {},
     "output_type": "display_data"
    },
    {
     "data": {
      "application/javascript": [
       "if (typeof Jupyter !== \"undefined\") { window.__context = { glowscript_container: $(\"#glowscript\").removeAttr(\"id\")};}else{ element.textContent = ' ';}"
      ],
      "text/plain": [
       "<IPython.core.display.Javascript object>"
      ]
     },
     "metadata": {},
     "output_type": "display_data"
    }
   ],
   "source": [
    "from vpython import *\n",
    "\n",
    "ctr = vec( 150, 50, 150 )\n",
    "\n",
    "# This is needed in Jupyter notebook and lab to make programs easily rerunnable\n",
    "scene = canvas( center=ctr, background = color.gray( 0.8 ))\n",
    "scene.autoscaling = False\n",
    "scene.forward = vec( 0, 200, 0 )\n",
    "scene.up = vec( 0, 0, 1 )\n",
    "scene.camera.pos = vec( 150, -330, 150 )\n",
    "scene.range = 50"
   ]
  },
  {
   "cell_type": "code",
   "execution_count": 13,
   "metadata": {},
   "outputs": [
    {
     "name": "stdout",
     "output_type": "stream",
     "text": [
      "{((1, 2), (3, 4)): 0, ((-3, 5), (6, 7)): 1, ((-6, 8), (9, 10)): 2, ((-9, 11), (-1, 12)): 3, ((-11, -8), (-5, -2)): 4, ((-12, -4), (-7, -10)): 5}\n"
     ]
    }
   ],
   "source": [
    "# quads always start with 6 quads needed to form the seed\n",
    "# <(( int e1, int e2 ) t1, ( int e3, int e4 ) t2 ), int >\n",
    "quads = {\n",
    "    # front\n",
    "    (( 1, 2 ), ( 3, 4 )): 0,\n",
    "\n",
    "    # top\n",
    "    (( -3, 5 ), ( 6, 7 )): 1,\n",
    "\n",
    "    # back\n",
    "    (( -6, 8 ), ( 9, 10 )): 2,\n",
    "\n",
    "    # bottom\n",
    "    (( -9, 11 ), ( -1, 12 )): 3,\n",
    "\n",
    "    # left\n",
    "    (( -11, -8 ), ( -5, -2 )): 4,\n",
    "\n",
    "    # right\n",
    "    (( -12, -4 ), ( -7, -10 )): 5\n",
    "}\n",
    "\n",
    "print( quads )"
   ]
  },
  {
   "cell_type": "code",
   "execution_count": 16,
   "metadata": {},
   "outputs": [
    {
     "name": "stdout",
     "output_type": "stream",
     "text": [
      "{0: ((1, 2), (3, 4)), 1: ((-3, 5), (6, 7)), 2: ((-6, 8), (9, 10)), 3: ((-9, 11), (-1, 12)), 4: ((-11, -8), (-5, -2)), 5: ((-12, -4), (-7, -10))}\n"
     ]
    }
   ],
   "source": [
    "quads_rev = {}\n",
    "\n",
    "# dict comprehension failed here\n",
    "for quad in quads:\n",
    "    quads_rev[ quads[ quad ]] = quad\n",
    "    \n",
    "print( quads_rev )"
   ]
  },
  {
   "cell_type": "code",
   "execution_count": 19,
   "metadata": {},
   "outputs": [
    {
     "name": "stdout",
     "output_type": "stream",
     "text": [
      "{1: (0, 3), 2: (0, 4), 3: (0, 1), 4: (0, 5), 5: (1, 4), 6: (1, 2), 7: (1, 5), 8: (2, 4), 9: (2, 3), 10: (2, 5), 11: (3, 4), 12: (3, 5)}\n"
     ]
    }
   ],
   "source": [
    "edges_quads = {\n",
    "    1: ( 0, 3 ),  2: ( 0, 4 ),  3: ( 0, 1 ),  4: ( 0, 5 ),\n",
    "    5: ( 1, 4 ),  6: ( 1, 2 ),  7: ( 1, 5 ),  8: ( 2, 4 ),\n",
    "    9: ( 2, 3 ), 10: ( 2, 5 ), 11: ( 3, 4 ), 12: ( 3, 5 )\n",
    "}\n",
    "\n",
    "print( edges_quads )"
   ]
  },
  {
   "cell_type": "code",
   "execution_count": 24,
   "metadata": {},
   "outputs": [
    {
     "name": "stdout",
     "output_type": "stream",
     "text": [
      "{1: (1.0, 0, 0, False), 2: (0, 0, 0, False), 3: (0, 1.0, 0, False), 4: (1.0, 1.0, 0, False), 5: (0, 1.0, 1.0, False), 6: (1.0, 1.0, 1.0, False), 7: (0, 0, 1.0, False), 8: (1.0, 0, 1.0, False)}\n"
     ]
    }
   ],
   "source": [
    "scale = 1.0\n",
    "\n",
    "vertices = {\n",
    "    # front\n",
    "    # edge 1 = vx 1 -> 2\n",
    "    1: ( scale, 0, 0, False ),     # vx 1\n",
    "    2: ( 0, 0, 0, False ),         # vx 2\n",
    "\n",
    "    # edge 2 = vx 2 (shared edge 1) -> 3\n",
    "    3: ( 0, scale, 0, False ),     # vx 3\n",
    "\n",
    "    # edge 3 = vx 3 (shared edge 2) -> 4\n",
    "    4: ( scale, scale, 0, False ), # vx 4\n",
    "\n",
    "    # edge 4 = vx 4 (shared edge 3) -> vx1 (shared edge 1) \n",
    "\n",
    "    # top\n",
    "    # -1 * edge 3\n",
    "\n",
    "    # edge 5 = vx 3 (shared edge 2) -> 5\n",
    "    5: ( 0, scale, scale, False ), # vx 5\n",
    "\n",
    "    # edge 6 = vx 5 (shared edge 5) -> 6\n",
    "    6: ( scale, scale, scale, False ),# vx 6\n",
    "\n",
    "    # edge 7 = vx 6 (shared edge 6) -> vx 4 (shared edge 3)\n",
    "\n",
    "    # back\n",
    "    # -1 * edge 6\n",
    "\n",
    "    # edge 8 = vx 5 (shared edge 5) -> 7\n",
    "    7: ( 0, 0, scale, False ),     # vx 7\n",
    "\n",
    "    # edge 9 = vx 7 (shared edge 8) -> 8\n",
    "    8: ( scale, 0, scale, False ) # vx 8\n",
    "\n",
    "    # edge 10 = vx 8 (shared edge 9) -> vx 6 (shared edge 6)\n",
    "\n",
    "    # bottom\n",
    "    # -1 * edge 9\n",
    "    # edge 11 = vx 7 (shared edge 8 ) -> vx 2 (shared edge 1 )\n",
    "    # -1 * edge 1\n",
    "    # edge 12 = vx 1 (shared edge 1 ) -> vx 8 (shared edge 9 )\n",
    "\n",
    "    # left\n",
    "    # -1 * edge 11, -1 * edge 8, -1 * edge 5, -1 * edge 2\n",
    "\n",
    "    # right\n",
    "    # -1 * edge 12, -1 * edge 4, -1 * edge 7, -1 * edge 10\n",
    "}\n",
    "\n",
    "print( vertices )"
   ]
  },
  {
   "cell_type": "code",
   "execution_count": 26,
   "metadata": {},
   "outputs": [
    {
     "name": "stdout",
     "output_type": "stream",
     "text": [
      "{1: [{'edge': 1, 't': 1, 'pos': 0}, {'edge': 4, 't': 1, 'pos': 1}, {'edge': 12, 't': 1, 'pos': 0}], 2: [{'edge': 1, 't': 1, 'pos': 1}, {'edge': 2, 't': 1, 'pos': 0}, {'edge': 11, 't': 1, 'pos': 1}], 3: [{'edge': 2, 't': 1, 'pos': 1}, {'edge': 3, 't': 1, 'pos': 0}, {'edge': 5, 't': 1, 'pos': 0}], 4: [{'edge': 3, 't': 1, 'pos': 1}, {'edge': 4, 't': 1, 'pos': 0}, {'edge': 7, 't': 1, 'pos': 1}], 5: [{'edge': 5, 't': 1, 'pos': 1}, {'edge': 6, 't': 1, 'pos': 0}, {'edge': 8, 't': 1, 'pos': 0}], 6: [{'edge': 6, 't': 1, 'pos': 1}, {'edge': 7, 't': 1, 'pos': 0}, {'edge': 10, 't': 1, 'pos': 1}], 7: [{'edge': 8, 't': 1, 'pos': 1}, {'edge': 9, 't': 1, 'pos': 0}, {'edge': 11, 't': 1, 'pos': 0}], 8: [{'edge': 9, 't': 1, 'pos': 1}, {'edge': 10, 't': 1, 'pos': 0}, {'edge': 12, 't': 1, 'pos': 1}]}\n"
     ]
    }
   ],
   "source": [
    "# < int, List<( int edge, int t, int pos )>>\n",
    "\n",
    "parent_edges = {\n",
    "    1: [{ \"edge\": 1, \"t\": 1, \"pos\": 0 }, { \"edge\":  4, \"t\": 1, \"pos\": 1 }, { \"edge\": 12, \"t\": 1, \"pos\": 0 }],\n",
    "    2: [{ \"edge\": 1, \"t\": 1, \"pos\": 1 }, { \"edge\":  2, \"t\": 1, \"pos\": 0 }, { \"edge\": 11, \"t\": 1, \"pos\": 1 }],\n",
    "    3: [{ \"edge\": 2, \"t\": 1, \"pos\": 1 }, { \"edge\":  3, \"t\": 1, \"pos\": 0 }, { \"edge\":  5, \"t\": 1, \"pos\": 0 }],\n",
    "    4: [{ \"edge\": 3, \"t\": 1, \"pos\": 1 }, { \"edge\":  4, \"t\": 1, \"pos\": 0 }, { \"edge\":  7, \"t\": 1, \"pos\": 1 }],\n",
    "    5: [{ \"edge\": 5, \"t\": 1, \"pos\": 1 }, { \"edge\":  6, \"t\": 1, \"pos\": 0 }, { \"edge\":  8, \"t\": 1, \"pos\": 0 }],\n",
    "    6: [{ \"edge\": 6, \"t\": 1, \"pos\": 1 }, { \"edge\":  7, \"t\": 1, \"pos\": 0 }, { \"edge\": 10, \"t\": 1, \"pos\": 1 }],\n",
    "    7: [{ \"edge\": 8, \"t\": 1, \"pos\": 1 }, { \"edge\":  9, \"t\": 1, \"pos\": 0 }, { \"edge\": 11, \"t\": 1, \"pos\": 0 }],\n",
    "    8: [{ \"edge\": 9, \"t\": 1, \"pos\": 1 }, { \"edge\": 10, \"t\": 1, \"pos\": 0 }, { \"edge\": 12, \"t\": 1, \"pos\": 1 }]\n",
    "}\n",
    "\n",
    "print( parent_edges )"
   ]
  },
  {
   "cell_type": "code",
   "execution_count": 31,
   "metadata": {},
   "outputs": [
    {
     "name": "stdout",
     "output_type": "stream",
     "text": [
      "{\"{'edge': 1, 't': 1, 'pos': 0}\": 1, \"{'edge': 4, 't': 1, 'pos': 1}\": 1, \"{'edge': 12, 't': 1, 'pos': 0}\": 1, \"{'edge': 1, 't': 1, 'pos': 1}\": 2, \"{'edge': 2, 't': 1, 'pos': 0}\": 2, \"{'edge': 11, 't': 1, 'pos': 1}\": 2, \"{'edge': 2, 't': 1, 'pos': 1}\": 3, \"{'edge': 3, 't': 1, 'pos': 0}\": 3, \"{'edge': 5, 't': 1, 'pos': 0}\": 3, \"{'edge': 3, 't': 1, 'pos': 1}\": 4, \"{'edge': 4, 't': 1, 'pos': 0}\": 4, \"{'edge': 7, 't': 1, 'pos': 1}\": 4, \"{'edge': 5, 't': 1, 'pos': 1}\": 5, \"{'edge': 6, 't': 1, 'pos': 0}\": 5, \"{'edge': 8, 't': 1, 'pos': 0}\": 5, \"{'edge': 6, 't': 1, 'pos': 1}\": 6, \"{'edge': 7, 't': 1, 'pos': 0}\": 6, \"{'edge': 10, 't': 1, 'pos': 1}\": 6, \"{'edge': 8, 't': 1, 'pos': 1}\": 7, \"{'edge': 9, 't': 1, 'pos': 0}\": 7, \"{'edge': 11, 't': 1, 'pos': 0}\": 7, \"{'edge': 9, 't': 1, 'pos': 1}\": 8, \"{'edge': 10, 't': 1, 'pos': 0}\": 8, \"{'edge': 12, 't': 1, 'pos': 1}\": 8}\n"
     ]
    }
   ],
   "source": [
    "# <( int edge, int t, int pos ), int >\n",
    "\n",
    "vertex_in_edge = {}\n",
    "\n",
    "for vx in parent_edges:\n",
    "    for edge in parent_edges[ vx ]:\n",
    "        vertex_in_edge[ str( edge )] = vx\n",
    "    \n",
    "print( vertex_in_edge )\n"
   ]
  },
  {
   "cell_type": "code",
   "execution_count": 39,
   "metadata": {},
   "outputs": [
    {
     "name": "stdout",
     "output_type": "stream",
     "text": [
      "[[1.0, 0, 0], [0, 0, 0], [0, 1.0, 0], [1.0, 1.0, 0], [0, 1.0, 1.0], [1.0, 1.0, 1.0], [0, 0, 1.0], [1.0, 0, 1.0]]\n"
     ]
    }
   ],
   "source": [
    "def quads_vertices():\n",
    "    res = []\n",
    "    \n",
    "    for vx in vertices:\n",
    "        res.append([ vertices[ vx ][ 0 ], vertices[ vx ][ 1 ], vertices[ vx ][ 2 ]])\n",
    "    \n",
    "    return res\n",
    "\n",
    "mesh_vertices = quads_vertices()\n",
    "\n",
    "print( mesh_vertices )"
   ]
  },
  {
   "cell_type": "code",
   "execution_count": null,
   "metadata": {},
   "outputs": [],
   "source": [
    "def edges_GetTri( edge1, edge2 ):\n",
    "    vxs = []\n",
    "\n",
    "    # quads keep edges on a one-based array because negative indicates\n",
    "    # that we have to consider the vertices in reverse order in that edge.\n", 
    "\n",
    "    id = edge1 if edge1 > 0 else -1 * edge1\n",
    "    vxs[ 0 ] = edge1 > 0 ? edges[id].start : edges[id].end;\n",
    "    vxs[ 1 ] = edge1 > 0 ? edges[id].end : edges[id].start;\n",
    "\n",
    "    id = edge2 > 0 ? edge2 : -1 * edge2;\n",
    "    vxs[2] = edge2 > 0 ? edges[id].start : edges[id].end;\n",
    "    vxs[3] = edge2 > 0 ? edges[id].end : edges[id].start;\n",
    "\n",
    "    # edges must share a vertex and be informed in correct order\n",
    "    if (vxs[1] != vxs[2])\n",
    "        return new int[] { };\n",
    "    else\n",
    "        # one based to zero based\n",
    "        return new int[] { vxs[0] - 1, vxs[1] - 1, vxs[3] - 1 };\n",
    "\n",
    "\n",
    "def quads_GetTris()\n",
    "{\n",
    "    res = []\n",
    "    for i in range( 0, len( quads )):\n",
    "        quad = quads_rev[ i ]\n",
    "\n",
    "        res.append( edges_GetTri( quad.t1.e1, quad.t1.e2 ))\n",
    "        res.append( edges_GetTri( quad.t2.e3, quad.t2.e4 ))\n",
    "\n",
    "    return res #.SelectMany( t => new[] { t }).ToArray().SelectMany(x => x).ToArray();\n",
    "\n",
    "    \n",
    "print( quads_GetTris())\n"
   ]
  }
 ],
 "metadata": {
  "kernelspec": {
   "display_name": "Python 3",
   "language": "python",
   "name": "python3"
  },
  "language_info": {
   "codemirror_mode": {
    "name": "ipython",
    "version": 3
   },
   "file_extension": ".py",
   "mimetype": "text/x-python",
   "name": "python",
   "nbconvert_exporter": "python",
   "pygments_lexer": "ipython3",
   "version": "3.7.8"
  }
 },
 "nbformat": 4,
 "nbformat_minor": 4
}
