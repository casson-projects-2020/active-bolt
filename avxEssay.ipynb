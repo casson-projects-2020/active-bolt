{
 "cells": [
  {
   "cell_type": "markdown",
   "metadata": {
    "_cell_guid": "b1076dfc-b9ad-4769-8c92-a6c4dae69d19",
    "_uuid": "8f2839f25d086af736a60e9eeb907d3b93b6e0e5"
   },
   "source": [
    "<h1>Ensaio para Active Voxel</h1>"
   ]
  },
  {
   "cell_type": "code",
   "execution_count": 68,
   "metadata": {},
   "outputs": [],
   "source": [
    "def console_log( item ):\n",
    "    print( item )\n",
    "    "
   ]
  },
  {
   "cell_type": "code",
   "execution_count": 69,
   "metadata": {},
   "outputs": [
    {
     "name": "stdout",
     "output_type": "stream",
     "text": [
      "{((1, 2), (3, 4)): 0, ((-3, 5), (6, 7)): 1, ((-6, 8), (9, 10)): 2, ((-9, 11), (-1, 12)): 3, ((-11, -8), (-5, -2)): 4, ((-12, -4), (-7, -10)): 5}\n"
     ]
    }
   ],
   "source": [
    "# quads always start with 6 quads needed to form the seed\n",
    "# <(( int e1, int e2 ) t1, ( int e3, int e4 ) t2 ), int >\n",
    "quads = {\n",
    "    # front\n",
    "    (( 1, 2 ), ( 3, 4 )): 0,\n",
    "\n",
    "    # top\n",
    "    (( -3, 5 ), ( 6, 7 )): 1,\n",
    "\n",
    "    # back\n",
    "    (( -6, 8 ), ( 9, 10 )): 2,\n",
    "\n",
    "    # bottom\n",
    "    (( -9, 11 ), ( -1, 12 )): 3,\n",
    "\n",
    "    # left\n",
    "    (( -11, -8 ), ( -5, -2 )): 4,\n",
    "\n",
    "    # right\n",
    "    (( -12, -4 ), ( -7, -10 )): 5\n",
    "}\n",
    "\n",
    "console_log( quads )"
   ]
  },
  {
   "cell_type": "code",
   "execution_count": 70,
   "metadata": {},
   "outputs": [
    {
     "name": "stdout",
     "output_type": "stream",
     "text": [
      "{0: ((1, 2), (3, 4)), 1: ((-3, 5), (6, 7)), 2: ((-6, 8), (9, 10)), 3: ((-9, 11), (-1, 12)), 4: ((-11, -8), (-5, -2)), 5: ((-12, -4), (-7, -10))}\n"
     ]
    }
   ],
   "source": [
    "quads_rev = {}\n",
    "\n",
    "# dict comprehension failed here\n",
    "for quad in quads:\n",
    "    quads_rev[ quads[ quad ]] = quad\n",
    "    \n",
    "console_log( quads_rev )"
   ]
  },
  {
   "cell_type": "code",
   "execution_count": 71,
   "metadata": {},
   "outputs": [
    {
     "name": "stdout",
     "output_type": "stream",
     "text": [
      "{1: (0, 3), 2: (0, 4), 3: (0, 1), 4: (0, 5), 5: (1, 4), 6: (1, 2), 7: (1, 5), 8: (2, 4), 9: (2, 3), 10: (2, 5), 11: (3, 4), 12: (3, 5)}\n"
     ]
    }
   ],
   "source": [
    "edges_quads = {\n",
    "    1: ( 0, 3 ),  2: ( 0, 4 ),  3: ( 0, 1 ),  4: ( 0, 5 ),\n",
    "    5: ( 1, 4 ),  6: ( 1, 2 ),  7: ( 1, 5 ),  8: ( 2, 4 ),\n",
    "    9: ( 2, 3 ), 10: ( 2, 5 ), 11: ( 3, 4 ), 12: ( 3, 5 )\n",
    "}\n",
    "\n",
    "console_log( edges_quads )"
   ]
  },
  {
   "cell_type": "code",
   "execution_count": 72,
   "metadata": {},
   "outputs": [
    {
     "name": "stdout",
     "output_type": "stream",
     "text": [
      "{1: (1.0, 0, 0, False), 2: (0, 0, 0, False), 3: (0, 1.0, 0, False), 4: (1.0, 1.0, 0, False), 5: (0, 1.0, 1.0, False), 6: (1.0, 1.0, 1.0, False), 7: (0, 0, 1.0, False), 8: (1.0, 0, 1.0, False)}\n"
     ]
    }
   ],
   "source": [
    "scale = 1.0\n",
    "\n",
    "vertices = {\n",
    "    # front\n",
    "    # edge 1 = vx 1 -> 2\n",
    "    1: ( scale, 0, 0, False ),     # vx 1\n",
    "    2: ( 0, 0, 0, False ),         # vx 2\n",
    "\n",
    "    # edge 2 = vx 2 (shared edge 1) -> 3\n",
    "    3: ( 0, scale, 0, False ),     # vx 3\n",
    "\n",
    "    # edge 3 = vx 3 (shared edge 2) -> 4\n",
    "    4: ( scale, scale, 0, False ), # vx 4\n",
    "\n",
    "    # edge 4 = vx 4 (shared edge 3) -> vx1 (shared edge 1) \n",
    "\n",
    "    # top\n",
    "    # -1 * edge 3\n",
    "\n",
    "    # edge 5 = vx 3 (shared edge 2) -> 5\n",
    "    5: ( 0, scale, scale, False ), # vx 5\n",
    "\n",
    "    # edge 6 = vx 5 (shared edge 5) -> 6\n",
    "    6: ( scale, scale, scale, False ),# vx 6\n",
    "\n",
    "    # edge 7 = vx 6 (shared edge 6) -> vx 4 (shared edge 3)\n",
    "\n",
    "    # back\n",
    "    # -1 * edge 6\n",
    "\n",
    "    # edge 8 = vx 5 (shared edge 5) -> 7\n",
    "    7: ( 0, 0, scale, False ),     # vx 7\n",
    "\n",
    "    # edge 9 = vx 7 (shared edge 8) -> 8\n",
    "    8: ( scale, 0, scale, False ) # vx 8\n",
    "\n",
    "    # edge 10 = vx 8 (shared edge 9) -> vx 6 (shared edge 6)\n",
    "\n",
    "    # bottom\n",
    "    # -1 * edge 9\n",
    "    # edge 11 = vx 7 (shared edge 8 ) -> vx 2 (shared edge 1 )\n",
    "    # -1 * edge 1\n",
    "    # edge 12 = vx 1 (shared edge 1 ) -> vx 8 (shared edge 9 )\n",
    "\n",
    "    # left\n",
    "    # -1 * edge 11, -1 * edge 8, -1 * edge 5, -1 * edge 2\n",
    "\n",
    "    # right\n",
    "    # -1 * edge 12, -1 * edge 4, -1 * edge 7, -1 * edge 10\n",
    "}\n",
    "\n",
    "console_log( vertices )"
   ]
  },
  {
   "cell_type": "code",
   "execution_count": 73,
   "metadata": {},
   "outputs": [
    {
     "name": "stdout",
     "output_type": "stream",
     "text": [
      "{1: [{'edge': 1, 't': 1, 'pos': 0}, {'edge': 4, 't': 1, 'pos': 1}, {'edge': 12, 't': 1, 'pos': 0}], 2: [{'edge': 1, 't': 1, 'pos': 1}, {'edge': 2, 't': 1, 'pos': 0}, {'edge': 11, 't': 1, 'pos': 1}], 3: [{'edge': 2, 't': 1, 'pos': 1}, {'edge': 3, 't': 1, 'pos': 0}, {'edge': 5, 't': 1, 'pos': 0}], 4: [{'edge': 3, 't': 1, 'pos': 1}, {'edge': 4, 't': 1, 'pos': 0}, {'edge': 7, 't': 1, 'pos': 1}], 5: [{'edge': 5, 't': 1, 'pos': 1}, {'edge': 6, 't': 1, 'pos': 0}, {'edge': 8, 't': 1, 'pos': 0}], 6: [{'edge': 6, 't': 1, 'pos': 1}, {'edge': 7, 't': 1, 'pos': 0}, {'edge': 10, 't': 1, 'pos': 1}], 7: [{'edge': 8, 't': 1, 'pos': 1}, {'edge': 9, 't': 1, 'pos': 0}, {'edge': 11, 't': 1, 'pos': 0}], 8: [{'edge': 9, 't': 1, 'pos': 1}, {'edge': 10, 't': 1, 'pos': 0}, {'edge': 12, 't': 1, 'pos': 1}]}\n"
     ]
    }
   ],
   "source": [
    "# < int, List<( int edge, int t, int pos )>>\n",
    "\n",
    "parent_edges = {\n",
    "    1: [{ \"edge\": 1, \"t\": 1, \"pos\": 0 }, { \"edge\":  4, \"t\": 1, \"pos\": 1 }, { \"edge\": 12, \"t\": 1, \"pos\": 0 }],\n",
    "    2: [{ \"edge\": 1, \"t\": 1, \"pos\": 1 }, { \"edge\":  2, \"t\": 1, \"pos\": 0 }, { \"edge\": 11, \"t\": 1, \"pos\": 1 }],\n",
    "    3: [{ \"edge\": 2, \"t\": 1, \"pos\": 1 }, { \"edge\":  3, \"t\": 1, \"pos\": 0 }, { \"edge\":  5, \"t\": 1, \"pos\": 0 }],\n",
    "    4: [{ \"edge\": 3, \"t\": 1, \"pos\": 1 }, { \"edge\":  4, \"t\": 1, \"pos\": 0 }, { \"edge\":  7, \"t\": 1, \"pos\": 1 }],\n",
    "    5: [{ \"edge\": 5, \"t\": 1, \"pos\": 1 }, { \"edge\":  6, \"t\": 1, \"pos\": 0 }, { \"edge\":  8, \"t\": 1, \"pos\": 0 }],\n",
    "    6: [{ \"edge\": 6, \"t\": 1, \"pos\": 1 }, { \"edge\":  7, \"t\": 1, \"pos\": 0 }, { \"edge\": 10, \"t\": 1, \"pos\": 1 }],\n",
    "    7: [{ \"edge\": 8, \"t\": 1, \"pos\": 1 }, { \"edge\":  9, \"t\": 1, \"pos\": 0 }, { \"edge\": 11, \"t\": 1, \"pos\": 0 }],\n",
    "    8: [{ \"edge\": 9, \"t\": 1, \"pos\": 1 }, { \"edge\": 10, \"t\": 1, \"pos\": 0 }, { \"edge\": 12, \"t\": 1, \"pos\": 1 }]\n",
    "}\n",
    "\n",
    "console_log( parent_edges )"
   ]
  },
  {
   "cell_type": "code",
   "execution_count": 74,
   "metadata": {},
   "outputs": [
    {
     "name": "stdout",
     "output_type": "stream",
     "text": [
      "{\"{'edge': 1, 't': 1, 'pos': 0}\": 1, \"{'edge': 4, 't': 1, 'pos': 1}\": 1, \"{'edge': 12, 't': 1, 'pos': 0}\": 1, \"{'edge': 1, 't': 1, 'pos': 1}\": 2, \"{'edge': 2, 't': 1, 'pos': 0}\": 2, \"{'edge': 11, 't': 1, 'pos': 1}\": 2, \"{'edge': 2, 't': 1, 'pos': 1}\": 3, \"{'edge': 3, 't': 1, 'pos': 0}\": 3, \"{'edge': 5, 't': 1, 'pos': 0}\": 3, \"{'edge': 3, 't': 1, 'pos': 1}\": 4, \"{'edge': 4, 't': 1, 'pos': 0}\": 4, \"{'edge': 7, 't': 1, 'pos': 1}\": 4, \"{'edge': 5, 't': 1, 'pos': 1}\": 5, \"{'edge': 6, 't': 1, 'pos': 0}\": 5, \"{'edge': 8, 't': 1, 'pos': 0}\": 5, \"{'edge': 6, 't': 1, 'pos': 1}\": 6, \"{'edge': 7, 't': 1, 'pos': 0}\": 6, \"{'edge': 10, 't': 1, 'pos': 1}\": 6, \"{'edge': 8, 't': 1, 'pos': 1}\": 7, \"{'edge': 9, 't': 1, 'pos': 0}\": 7, \"{'edge': 11, 't': 1, 'pos': 0}\": 7, \"{'edge': 9, 't': 1, 'pos': 1}\": 8, \"{'edge': 10, 't': 1, 'pos': 0}\": 8, \"{'edge': 12, 't': 1, 'pos': 1}\": 8}\n"
     ]
    }
   ],
   "source": [
    "# <( int edge, int t, int pos ), int >\n",
    "\n",
    "vertex_in_edge = {}\n",
    "\n",
    "for vx in parent_edges:\n",
    "    for edge in parent_edges[ vx ]:\n",
    "        vertex_in_edge[ str( edge )] = vx\n",
    "    \n",
    "console_log( vertex_in_edge )\n"
   ]
  },
  {
   "cell_type": "code",
   "execution_count": 75,
   "metadata": {},
   "outputs": [
    {
     "name": "stdout",
     "output_type": "stream",
     "text": [
      "{1: {'start': 1, 'end': 2, 'parent': 1, 't': 1}, 2: {'start': 2, 'end': 3, 'parent': 2, 't': 1}, 3: {'start': 3, 'end': 4, 'parent': 3, 't': 1}, 4: {'start': 4, 'end': 1, 'parent': 4, 't': 1}, 5: {'start': 3, 'end': 5, 'parent': 5, 't': 1}, 6: {'start': 5, 'end': 6, 'parent': 6, 't': 1}, 7: {'start': 6, 'end': 4, 'parent': 7, 't': 1}, 8: {'start': 5, 'end': 7, 'parent': 8, 't': 1}, 9: {'start': 7, 'end': 8, 'parent': 9, 't': 1}, 10: {'start': 8, 'end': 6, 'parent': 10, 't': 1}, 11: {'start': 7, 'end': 2, 'parent': 11, 't': 1}, 12: {'start': 1, 'end': 8, 'parent': 12, 't': 1}}\n",
      "{\"{'start': 1, 'end': 2, 'parent': 1, 't': 1}\": 1, \"{'start': 2, 'end': 3, 'parent': 2, 't': 1}\": 2, \"{'start': 3, 'end': 4, 'parent': 3, 't': 1}\": 3, \"{'start': 4, 'end': 1, 'parent': 4, 't': 1}\": 4, \"{'start': 3, 'end': 5, 'parent': 5, 't': 1}\": 5, \"{'start': 5, 'end': 6, 'parent': 6, 't': 1}\": 6, \"{'start': 6, 'end': 4, 'parent': 7, 't': 1}\": 7, \"{'start': 5, 'end': 7, 'parent': 8, 't': 1}\": 8, \"{'start': 7, 'end': 8, 'parent': 9, 't': 1}\": 9, \"{'start': 8, 'end': 6, 'parent': 10, 't': 1}\": 10, \"{'start': 7, 'end': 2, 'parent': 11, 't': 1}\": 11, \"{'start': 1, 'end': 8, 'parent': 12, 't': 1}\": 12}\n"
     ]
    }
   ],
   "source": [
    "# AvxEdges always starts with the 12 edges needed to build the seed\n",
    "edges = {\n",
    "    # front\n",
    "    # edge 1 = vx 1 -> 2\n",
    "    1:  { \"start\": 1, \"end\": 2, \"parent\": 1, \"t\": 1 },\n",
    "\n",
    "    # edge 2 = vx 2 (shared edge 1) -> 3\n",
    "    2: { \"start\": 2, \"end\": 3, \"parent\": 2, \"t\": 1 },\n",
    "\n",
    "    # edge 3 = vx 3 (shared edge 2) -> 4\n",
    "    3: { \"start\": 3, \"end\": 4, \"parent\": 3, \"t\": 1 },\n",
    "\n",
    "    # edge 4 = vx 4 (shared edge 3) -> vx1 (shared edge 1) \n",
    "    4: { \"start\": 4, \"end\": 1, \"parent\": 4, \"t\": 1 },\n",
    "\n",
    "    # top\n",
    "    # edge 5 = vx 3 (shared edge 2) -> 5\n",
    "    5: { \"start\": 3, \"end\": 5, \"parent\": 5, \"t\": 1 },\n",
    "\n",
    "    # edge 6 = vx 5 (shared edge 5) -> 6\n",
    "    6: { \"start\": 5, \"end\": 6, \"parent\": 6, \"t\": 1 },\n",
    "\n",
    "    # edge 7 = vx 6 (shared edge 6) -> vx 4 (shared edge 3)\n",
    "    7: { \"start\": 6, \"end\": 4, \"parent\": 7, \"t\": 1 },\n",
    "\n",
    "    # back\n",
    "    # edge 8 = vx 5 (shared edge 5) -> 7\n",
    "    8: { \"start\": 5, \"end\": 7, \"parent\": 8, \"t\": 1 }, \n",
    "\n",
    "    # edge 9 = vx 7 (shared edge 8) -> 8\n",
    "    9: { \"start\": 7, \"end\": 8, \"parent\": 9, \"t\": 1 },\n",
    "\n",
    "    # edge 10 = vx 8 (shared edge 9) -> vx 6 (shared edge 6)\n",
    "    10: { \"start\": 8, \"end\": 6, \"parent\": 10, \"t\": 1 },\n",
    "\n",
    "    # bottom\n",
    "    # edge 11 = vx 7 (shared edge 8 ) -> vx 2 (shared edge 1 )\n",
    "    11: { \"start\": 7, \"end\": 2, \"parent\": 11, \"t\": 1 },\n",
    "\n",
    "    # edge 12 = vx 1 (shared edge 1 ) -> vx 8 (shared edge 9 )\n",
    "    12: { \"start\": 1, \"end\": 8, \"parent\": 12, \"t\": 1 }\n",
    "\n",
    "    # left\n",
    "    # -1 * edge 11, -1 * edge 8, -1 * edge 5, -1 * edge 2\n",
    "\n",
    "    # right\n",
    "    # -1 * edge 12, -1 * edge 4, -1 * edge 7, -1 * edge 2\n",
    "}\n",
    "\n",
    "edges_rev = {}\n",
    "\n",
    "for _edge in edges:\n",
    "    edges_rev[ str( edges[ _edge ]) ] = _edge \n",
    "\n",
    "    \n",
    "console_log( edges )\n",
    "console_log( edges_rev )\n"
   ]
  },
  {
   "cell_type": "code",
   "execution_count": 76,
   "metadata": {},
   "outputs": [
    {
     "name": "stdout",
     "output_type": "stream",
     "text": [
      "[[1.0, 0, 0], [0, 0, 0], [0, 1.0, 0], [1.0, 1.0, 0], [0, 1.0, 1.0], [1.0, 1.0, 1.0], [0, 0, 1.0], [1.0, 0, 1.0]]\n"
     ]
    }
   ],
   "source": [
    "def quads_vertices():\n",
    "    res = []\n",
    "    \n",
    "    for vx in vertices:\n",
    "        res.append([ vertices[ vx ][ 0 ], vertices[ vx ][ 1 ], vertices[ vx ][ 2 ]])\n",
    "    \n",
    "    return res\n",
    "\n",
    "mesh_vertices = quads_vertices()\n",
    "\n",
    "console_log( mesh_vertices )"
   ]
  },
  {
   "cell_type": "code",
   "execution_count": 77,
   "metadata": {},
   "outputs": [
    {
     "name": "stdout",
     "output_type": "stream",
     "text": [
      "[0, 1, 2, 2, 3, 0, 3, 2, 4, 4, 5, 3, 5, 4, 6, 6, 7, 5, 7, 6, 1, 1, 0, 7, 1, 6, 4, 4, 2, 1, 7, 0, 3, 3, 5, 7]\n",
      "[(1.0, 0, 0), (0, 0, 0), (0, 1.0, 0), (1.0, 1.0, 0), (0, 1.0, 1.0), (1.0, 1.0, 1.0), (0, 0, 1.0), (1.0, 0, 1.0)]\n"
     ]
    }
   ],
   "source": [
    "def edges_GetTri( edge1, edge2 ):\n",
    "    vxs = [ -1, -1, -1, -1 ]\n",
    "\n",
    "    # quads keep edges on a one-based array because negative indicates\n",
    "    # that we have to consider the vertices in reverse order in that edge.\n",
    "\n",
    "    id = edge1 if edge1 > 0 else -1 * edge1\n",
    "    vxs[ 0 ] = edges[ id ][ \"start\" ] if edge1 > 0 else edges[ id ][ \"end\" ]\n",
    "    vxs[ 1 ] = edges[ id ][ \"end\" ] if edge1 > 0 else edges[id][ \"start\" ]\n",
    "\n",
    "    id = edge2 if edge2 > 0 else -1 * edge2\n",
    "    vxs[ 2 ] = edges[ id ][ \"start\" ] if edge2 > 0 else edges[ id ][ \"end\" ]\n",
    "    vxs[ 3 ] = edges[ id ][ \"end\" ] if edge2 > 0 else edges[ id ][ \"start\" ];\n",
    "\n",
    "    # edges must share a vertex and be informed in correct order\n",
    "    if vxs[ 1 ] != vxs[ 2 ]:\n",
    "        return []\n",
    "    else:\n",
    "        # one based to zero based\n",
    "        return [ vxs[ 0 ] - 1, vxs[ 1 ] - 1, vxs[ 3 ] - 1 ]\n",
    "\n",
    "\n",
    "def quads_GetTris():\n",
    "    res = []\n",
    "    for i in range( 0, len( quads )):\n",
    "        quad = quads_rev[ i ]\n",
    "\n",
    "        res.append( edges_GetTri( quad[ 0 ][ 0 ], quad[ 0 ][ 1 ] )) #quad.t1.e1, quad.t1.e2 ))\n",
    "        res.append( edges_GetTri( quad[ 1 ][ 0 ], quad[ 1 ][ 1 ] )) #quad.t2.e3, quad.t2.e4 ))\n",
    "\n",
    "    return sum( res, []) #.SelectMany( t => new[] { t }).ToArray().SelectMany(x => x).ToArray();\n",
    "\n",
    "    \n",
    "mesh_triangles = quads_GetTris()\n",
    "\n",
    "console_log( mesh_triangles )\n",
    "\n",
    "mesh_vertices = [( vx[ 0 ], vx[ 1 ], vx[ 2 ]) for vx in mesh_vertices ]\n",
    "console_log( mesh_vertices )\n"
   ]
  },
  {
   "cell_type": "code",
   "execution_count": 78,
   "metadata": {},
   "outputs": [],
   "source": [
    "def vertices_Get( parent_edge, t, pos ):\n",
    "    edge = parent_edge if parent_edge > 0 else -1 * parent_edge\n",
    "    \n",
    "    key = { \"edge\": edge, \"t\": t, \"pos\": pos }\n",
    "\n",
    "    if str( key ) in vertex_in_edge:\n",
    "        return vertex_in_edge[ str( key )]\n",
    "    else:\n",
    "        return 0\n"
   ]
  },
  {
   "cell_type": "code",
   "execution_count": 79,
   "metadata": {},
   "outputs": [],
   "source": [
    "def quads_GetShared( edgeid ):\n",
    "    if edgeid in edges_quads:\n",
    "        return edges_quads[ edgeid ]\n",
    "    else:\n",
    "        return ( -1, -1 )\n",
    "\n",
    "    \n",
    "def raise_error( msg ):\n",
    "    print( msg )"
   ]
  },
  {
   "cell_type": "code",
   "execution_count": 80,
   "metadata": {},
   "outputs": [],
   "source": [
    "def vertices_AddDemi( vertex, parent_edge, t, pos ):\n",
    "    edge = parent_edge if parent_edge > 0 else -1 * parent_edge\n",
    "    \n",
    "    if edge == 0:\n",
    "        raise_error( \"Vertices must always belong to edges ( parent_edge cannot be zero )\" )\n",
    "        return None\n",
    "\n",
    "    if t <= 0:\n",
    "        raise_error( \"t must be positive and greater than zero (num of divisions of an edge)\" )\n",
    "        return None\n",
    "\n",
    "    if pos < 0 or pos > t:\n",
    "        raise_error( \"pos must be in [ 0, t ]\" )\n",
    "        return None\n",
    "\n",
    "    # check if a vx at that position already exists, and promote it\n",
    "    # to real vx if it is not one already and all edges sharing it are real edges\n",
    "    vx_key = { \"edge\": edge, \"t\": t, \"pos\": pos }\n",
    "\n",
    "    _exists = vertices_Get( parent_edge, t, pos )\n",
    "    ikey = _exists if _exists > 0 else len( vertices ) + 1\n",
    "\n",
    "    demi = 3 \n",
    "    \n",
    "    if _exists > 0:    \n",
    "        # the vertice exists, chech if it can be promoted \n",
    "        # The vc can be promoted if it belongs to a demi edge and we try to create\n",
    "        # the same divisions on the second quad that edge shares.\n",
    "        if vertices[ ikey ][ demi ] == True:\n",
    "            quads = quads_GetShared( edge )\n",
    "\n",
    "            if quads[ 1 ] == -1:\n",
    "                vx = vertices[ ikey ]\n",
    "                vertices[ ikey ] = ( vx[ 0 ], vx[ 1 ], vx[ 2 ], False )\n",
    "\n",
    "        return ikey\n",
    "\n",
    "    # if the vx is new, add it as a demivertice (it is part of a demi edge)\n",
    "    vc = vertex\n",
    "\n",
    "    vertices[ ikey ] = ( vc.x, vc.y, vc.z, True )\n",
    "    parent_edges[ ikey ] = [ vx_key ]\n",
    "\n",
    "    # a new demiedge is always added when a new demivc is\n",
    "    vertex_in_edge[ str( vx_key )] = ikey\n",
    "\n",
    "    return -1 * ikey\n"
   ]
  },
  {
   "cell_type": "code",
   "execution_count": 81,
   "metadata": {},
   "outputs": [],
   "source": [
    "def vertices_AddParent( vx, edge, t, pos ):\n",
    "    vx_key = { \"edge\": edge, \"t\": t, \"pos\": pos }\n",
    "    \n",
    "    if parent_edges[ vx ].count( vx_key ) == 0:\n",
    "        parent_edges[ vx ].append( vx_key )\n",
    "\n",
    "    if str( vx_key ) not in vertex_in_edge:\n",
    "        vertex_in_edge[str( vx_key )] = vx\n"
   ]
  },
  {
   "cell_type": "code",
   "execution_count": 82,
   "metadata": {},
   "outputs": [],
   "source": [
    "def vertices_RemoveParent( next, edgeid, t, pos ):\n",
    "    vx_key = { \"edge\": edgeid, \"t\": t, \"pos\": pos }\n",
    "\n",
    "    while parent_edges[ vx ].count( vx_key ) > 0:\n",
    "        parent_edges[ vx ].remove( vx_key )\n",
    "        \n",
    "    if str( vx_key ) in vertex_in_edge:\n",
    "        del vertex_in_edge[ str( vx_key )]\n",
    "    \n",
    "    "
   ]
  },
  {
   "cell_type": "code",
   "execution_count": 83,
   "metadata": {},
   "outputs": [],
   "source": [
    "def edges_Add( start, end, parent = 0 ):\n",
    "    # vcs always > 0\n",
    "    if start <= 0 or end <= 0:\n",
    "        raise_error( \"indices must be greater than zero\" )\n",
    "        return\n",
    "\n",
    "    # vertices must exist\n",
    "    if start > len( vertices ) or end > len( vertices ):\n",
    "        raise_error( \"invalid index (inexistent vertex)\" )\n",
    "        return\n",
    "\n",
    "    # a demi edge is not always a child of another, but a hard edge\n",
    "    # always declare itself as a parent\n",
    "    demi = 3\n",
    "    _demi = False\n",
    "    \n",
    "    if vertices[ start ][ demi ] == True or vertices[ end ][ demi ] == True:\n",
    "        _demi = True\n",
    "\n",
    "    if _demi == False and parent == 0:\n",
    "        parent = len( edges ) + 1\n",
    "        \n",
    "    if parent < 0:\n",
    "        parent = -1 * parent\n",
    "        \n",
    "    # if the edge being added is a real one, it have to inform itself as parent\n",
    "    if _demi == False and parent != ( len( edges ) + 1 ):\n",
    "        raise_error( \"hard edges cannot have parents\" )\n",
    "        return\n",
    "\n",
    "    _edge = { \"start\": start, \"end\": end, \"parent\": parent }\n",
    "\n",
    "    if str( _edge ) not in edges_rev:\n",
    "        edges[ len( edges ) + 1 ] =  _edge\n",
    "        edges_rev[ str( _edge )] = len( edges )\n"
   ]
  },
  {
   "cell_type": "code",
   "execution_count": 84,
   "metadata": {},
   "outputs": [],
   "source": [
    "def edges_Delete( edgeid ):\n",
    "    if edgeid in edges:\n",
    "        _edge = edges[ edgeid ]\n",
    "        del edges[ edgeid ]\n",
    "        \n",
    "        if str( _edge ) in edges_rev:\n",
    "            del edges_rev[ str( _edge )]\n",
    "            \n",
    "        # if we delete an edge, all edges declaring this one as parent\n",
    "        # must now be parent of themselves\n",
    "        \n",
    "        for edge in edges:\n",
    "            if edges[ edge ][ \"parent\" ] == edgeid:\n",
    "                print( \"parenting to deleted edge \" + str( edgeid ) + \": \" + str( edges[ edge ]))\n"
   ]
  },
  {
   "cell_type": "code",
   "execution_count": 85,
   "metadata": {},
   "outputs": [],
   "source": [
    "def vertice_isReal( vxid ):\n",
    "    demi = 3\n",
    "    return False if vertices[ vxid ][ demi ] == True else True\n"
   ]
  },
  {
   "cell_type": "code",
   "execution_count": 86,
   "metadata": {},
   "outputs": [],
   "source": [
    "from vpython import *\n",
    "\n",
    "def edges_Subdivide( edgeid, slices, quad ):\n",
    "    \n",
    "    # if the edge were already subdivided in a previous operation we already know the quad being \n",
    "    # divided\n",
    "    if edges_quads[ edgeid ][ 1 ] == -1 and edges_quads[ edgeid ][ 0 ] != quad:\n",
    "        err = \"Cannot subdiv edge \" + str( edgeid ) + \" in quad \" + str( quad )\n",
    "        err = err + \". (quad already subdivided?)\"\n",
    "        \n",
    "        raise_error( err )\n",
    "        return\n",
    "        \n",
    "    # if the edge were already subdivided in a previous operation we already know the  \n",
    "    # number of divisions\n",
    "    if edges_quads[ edgeid ][ 1 ] == -1 and edges[ edgeid ][ \"t\" ] != slices:\n",
    "        err = \"Invalid number os subdvs in edge \" + str( edgeid ) + \".\"\n",
    "        err = err + \"Edge already subdivided in the past in \" + str( edges[ edgeid ][ \"t\" ]) + \" parts.\"\n",
    "        \n",
    "        raise_error( err )\n",
    "        return\n",
    "    \n",
    "    start = edges[ edgeid ][ \"start\" ] if edgeid > 0 else edges[ -1 * edgeid ][ \"end\" ]\n",
    "    end = edges[ edgeid ][ \"end\" ] if edgeid > 0 else edges[ -1 * edgeid ][ \"start\" ]\n",
    "\n",
    "    vx_start = vertices[ start ]\n",
    "    vx_end = vertices[ end ]\n",
    "\n",
    "    # create a list with intermediate vertices (generate ones if they don´t exist,\n",
    "    # promote to real vx if they exist\n",
    "    vcs = []\n",
    "    for i in range( 0, slices + 1 ):\n",
    "        vcs.append( 0 )\n",
    "        \n",
    "    vcs[ 0 ] = start\n",
    "    vcs[ slices ] = end\n",
    "\n",
    "    q = vector( vx_end[ 0 ], vx_end[ 1 ], vx_end[ 2 ]) - vector( vx_start[ 0 ], vx_start[ 1 ], vx_start[ 2 ])\n",
    "\n",
    "    # add new vertice as demivertices \n",
    "    # (vxs deal with their own promotion to real verticies if needed)\n",
    "\n",
    "    t = slices\n",
    "    for pos in range( 0, slices + 1 ):\n",
    "        if vcs[ pos ] == 0:\n",
    "            # we add the vertice anyway, because this function promotes a demivx to a real vx if needed\n",
    "            v3_prox = vector( vx_start[ 0 ], vx_start[ 1 ], vx_start[ 2 ]) + q / t * pos;\n",
    "            vx = vertices_AddDemi( v3_prox, edgeid, t, pos )\n",
    "            if vx < 0:\n",
    "                vx = -1 * vx\n",
    "                \n",
    "            vcs[ pos ] = vx\n",
    "    \n",
    "\n",
    "    # if we are in the 2nd subdiv of this edge, nothing more to do (we added the vxs again to\n",
    "    # promote them to real vcs)\n",
    "    if edges_quads[ edgeid ][ 1 ] == -1:\n",
    "        return\n",
    "\n",
    "    _edges = []\n",
    "    newid = len( edges ) + 1\n",
    "\n",
    "    for i in range( 0, slices ):\n",
    "        # parent edges\n",
    "        _edges.append({ \"id\": edgeid, \"edge\": ( vcs[ i ], vcs[ i + 1 ], edgeid, t, i )})\n",
    "        \n",
    "        # children\n",
    "        _edges.append({ \"id\": newid, \"edge\": ( vcs[ i ], vcs[ i + 1 ], newid, 1, 0 )})\n",
    "        edges_Add( vcs[ i ], vcs[ i + 1 ], newid )\n",
    "        newid = newid + 1\n",
    "    \n",
    "    vx1 = 0\n",
    "    vx2 = 1\n",
    "    _t = 3\n",
    "    pos = 4\n",
    "    \n",
    "    for _edge in _edges:\n",
    "        edge = _edge[ \"edge\" ]\n",
    "        \n",
    "        vertices_AddParent( edge[ vx1 ], _edge[ \"id\" ], edge[ _t ], edge[ pos ])\n",
    "        vertices_AddParent( edge[ vx2 ], _edge[ \"id\" ], edge[ _t ], edge[ pos ] + 1 )\n"
   ]
  },
  {
   "cell_type": "code",
   "execution_count": 87,
   "metadata": {},
   "outputs": [],
   "source": [
    "def vertices_GetEdges( vertex ):\n",
    "    if vertex in parent_edges:\n",
    "        return parent_edges[ vertex ]\n",
    "    else:\n",
    "        return []"
   ]
  },
  {
   "cell_type": "code",
   "execution_count": 65,
   "metadata": {},
   "outputs": [],
   "source": [
    "import json\n",
    "\n",
    "# TODO: em loop infinito\n",
    "def edges_SelectChildren( edgeid, divisions ):\n",
    "    #print( \"selecting children of edge \" + str( edgeid ))\n",
    "    \n",
    "    edge_id = edgeid if edgeid > 0 else -1 * edgeid\n",
    "    \n",
    "    start_vx = edges[ edge_id ][ \"start\" ]\n",
    "    end_vx = edges[ edge_id ][ \"end\" ]\n",
    "\n",
    "    # all edges that contains the start vertice, except the one we want to get the children\n",
    "    # (an edge is not parent of itself, when that appears on the data it indicates a edge with no parent)\n",
    "    children = []\n",
    "    #print( \"selecting based on vx \" + str( start_vx ))\n",
    "    work = vertices_GetEdges( start_vx )\n",
    "    \n",
    "    #print( \"selected edges: \" )\n",
    "\n",
    "    work = [ elem for elem in work if elem[ \"edge\" ] != edge_id and elem[ \"edge\" ] != ( -1 * edge_id ) \n",
    "               and elem[ \"t\" ] != 1 ] \n",
    "    # .Where( inedge => inedge.edge != edgeid ).ToArray();\n",
    "    \n",
    "    # deduplicating\n",
    "    # <( int edge, int t, int pos ), bool >\n",
    "    candidates = { str( elem ): True for elem in work }\n",
    "    #work.ToDictionary( edge => edge, edge => true );\n",
    "    \n",
    "    work = []\n",
    "    for elem in candidates:\n",
    "        work.append( json.loads( elem.replace( \"'\", '\"' )))    \n",
    "\n",
    "    #print( work )\n",
    "\n",
    "    current_vx = start_vx\n",
    "\n",
    "    # search for one that indicates that its parent is the one we passed as parameter\n",
    "    for edge_kv in work:\n",
    "        edge_idx = edge_kv[ \"edge\" ]\n",
    "        \n",
    "        # should not happen, but...\n",
    "        if edge_idx < 0:\n",
    "            edge_idx = -1 * edge_idx\n",
    "            \n",
    "        edge = edges[ edge_idx ]\n",
    "\n",
    "        # the first child edge starts in the same vertex as its parent\n",
    "        if ( edge[ \"parent\" ] == edge_id or edge[ \"parent\" ] == ( -1 * edge_id )) and edge[ \"start\" ] == start_vx:\n",
    "            test = vertices_Get( edge[ \"end\" ], divisions, 1 )\n",
    "\n",
    "            if test == 0:\n",
    "                continue\n",
    "\n",
    "            children.append( edge_idx )\n",
    "            current_vx = test\n",
    "            break\n",
    "\n",
    "    if len( children ) == 0:\n",
    "        return []\n",
    "\n",
    "    # next edges start were the previous end\n",
    "    count = 10\n",
    "    \n",
    "    while True: #do\n",
    "        work = vertices_GetEdges( current_vx )\n",
    "        work = [ elem for elem in work if elem[ \"edge\" ] != edge_id and elem[ \"edge\" ] != ( -1 * edge_id )] \n",
    "        #.Where( inedge => inedge.edge != edgeid ).ToArray();\n",
    "        \n",
    "        candidates = { str( elem ): True for elem in work }\n",
    "        #work.ToDictionary( edge => edge, edge => true );\n",
    "\n",
    "        work = []\n",
    "        for elem in candidates:\n",
    "            work.append( json.loads( elem.replace( \"'\", '\"' )))    \n",
    "            \n",
    "        for edge_kv in work:\n",
    "            edge_idx = edge_kv[ \"edge\" ]\n",
    "            \n",
    "            # should not happen, but...\n",
    "            if edge_idx < 0:\n",
    "                edge_idx = -1 * edge_idx\n",
    "\n",
    "            edge = edges[ edge_idx ]\n",
    "\n",
    "            if ( edge[ \"parent\" ] == edge_id or edge[ \"parent\" ] == ( -1 * edge_id )) and edge[ \"start\" ] == start_vx:\n",
    "                # also with the same number of divisions, but now every next edge\n",
    "                # starts in a demivx registered with this number of divisions\n",
    "                test = vertices_Get( edge[ \"start\" ], divisions, 1 );\n",
    "\n",
    "                if test == 0:\n",
    "                    continue;\n",
    "\n",
    "                children.append( edge_idx );\n",
    "                current_vx = edge[ \"end\" ]\n",
    "                break\n",
    "    \n",
    "        if current_vx == end_vx:\n",
    "            break\n",
    "            \n",
    "        count = count - 1\n",
    "        \n",
    "        if count <= 0:\n",
    "            break\n",
    "    #while( current_vx != end_vx );\n",
    "\n",
    "    return children\n",
    "\n"
   ]
  },
  {
   "cell_type": "code",
   "execution_count": 43,
   "metadata": {
    "scrolled": false
   },
   "outputs": [
    {
     "name": "stdout",
     "output_type": "stream",
     "text": [
      "[]\n"
     ]
    }
   ],
   "source": [
    "def Select():\n",
    "    # quads, unlike edges and vertices, is a zero based array\n",
    "    return [ id for id in range( len( quads ))]\n",
    "\n",
    "    \n",
    "def Subdivide( selection, divisions = \"2\" ):\n",
    "    # if selected other than quads, select all quads\n",
    "    if selection[ \"type\" ] != \"quads\":\n",
    "        selection = { \"type\": \"quads\", \"items\": Select()}\n",
    "\n",
    "    _divisions = int( divisions )\n",
    "\n",
    "    # subdivide selected quads\n",
    "    for i in range( 0, len( selection[ \"items\" ])):\n",
    "        quad = quads_rev[ selection[ \"items\" ][ i ]]\n",
    "\n",
    "        # 1 - subdivide all edges\n",
    "        edges_Subdivide( quad[ 0 ][ 0 ], _divisions, selection[ \"items\" ][ i ])\n",
    "\n",
    "#        edges_Subdivide( quad[ 0 ][ 1 ], _divisions )\n",
    "#        edges_Subdivide( quad[ 1 ][ 0 ], _divisions )\n",
    "#        edges_Subdivide( quad[ 1 ][ 1 ], _divisions )\n",
    "\n",
    "        start_edges = edges_SelectChildren( quad[ 0 ][ 0 ], _divisions )\n",
    "        #edges_2 = edges_SelectChildren( quad[ 0 ][ 1 ], _divisions )\n",
    "        #edges_3 = edges_SelectChildren( quad[ 1 ][ 0 ], _divisions )\n",
    "        #edges_4 = edges_SelectChildren( quad[ 1 ][ 1 ], _divisions )\n",
    "        \n",
    "        print( start_edges )\n",
    "        break\n",
    "        \n",
    "Subdivide({ \"type\": None }, 3 )\n",
    "                     "
   ]
  },
  {
   "cell_type": "code",
   "execution_count": 249,
   "metadata": {
    "scrolled": false
   },
   "outputs": [],
   "source": [
    "def plot():\n",
    "\n",
    "    ctr = vec( 150, 50, 150 )\n",
    "\n",
    "    # This is needed in Jupyter notebook and lab to make programs easily rerunnable\n",
    "    scene = canvas( center=ctr, background = color.gray( 0.8 ))\n",
    "    scene.autoscaling = False\n",
    "    scene.forward = vec( 0, 2, 0 )\n",
    "    scene.up = vec( 0, 0, 1 )\n",
    "    scene.camera.pos = vec( 1.5, -3, 1.5 )\n",
    "    scene.range = 0.6\n",
    "\n",
    "    verts = []\n",
    "\n",
    "    for vx in mesh_vertices:\n",
    "        _pos = vector( vx[ 0 ], vx[ 1 ], vx[ 2 ])\n",
    "        verts.append( vertex( pos = _pos, color = _pos ))\n",
    "\n",
    "    tris = []\n",
    "\n",
    "    for i in range( 0, len( mesh_triangles ), 3 ):\n",
    "        _v0 = verts[ mesh_triangles[ i ]]\n",
    "        _v1 = verts[ mesh_triangles[ i + 1 ]]\n",
    "        _v2 = verts[ mesh_triangles[ i + 2 ]]\n",
    "\n",
    "        tris.append( triangle( v0 = _v0, v1 = _v1, v2 = _v2 ))\n"
   ]
  },
  {
   "cell_type": "markdown",
   "metadata": {},
   "source": [
    "Expected evolution of data:\n",
    "\n",
    "after\n",
    "\n",
    "edges_Subdivide( 1, 3 )"
   ]
  },
  {
   "cell_type": "code",
   "execution_count": 64,
   "metadata": {},
   "outputs": [
    {
     "name": "stdout",
     "output_type": "stream",
     "text": [
      "13\n",
      "14\n",
      "15\n"
     ]
    }
   ],
   "source": [
    "\n",
    "edges_Subdivide( 1, 3, 1 )\n"
   ]
  },
  {
   "cell_type": "markdown",
   "metadata": {},
   "source": [
    "Demi-vertices 9 and 10 must be added on edge 1.<br/>\n",
    "Vxs from:<br/>\n",
    "\n",
    "{1: (1.0, 0, 0, False), 2: (0, 0, 0, False), 3: (0, 1.0, 0, False), 4: (1.0, 1.0, 0, False), 5: (0, 1.0, 1.0, False), 6: (1.0, 1.0, 1.0, False), 7: (0, 0, 1.0, False), 8: (1.0, 0, 1.0, False)}\n",
    "\n",
    "to\n",
    "\n",
    "{1: (1.0, 0, 0, False), 2: (0, 0, 0, False), 3: (0, 1.0, 0, False), 4: (1.0, 1.0, 0, False), 5: (0, 1.0, 1.0, False), 6: (1.0, 1.0, 1.0, False), 7: (0, 0, 1.0, False), 8: (1.0, 0, 1.0, False), 9: (0.6666666666666667, 0.0, 0.0, True), 10: (0.33333333333333337, 0.0, 0.0, True)}\n"
   ]
  },
  {
   "cell_type": "code",
   "execution_count": 87,
   "metadata": {},
   "outputs": [
    {
     "name": "stdout",
     "output_type": "stream",
     "text": [
      "{1: (1.0, 0, 0, False), 2: (0, 0, 0, False), 3: (0, 1.0, 0, False), 4: (1.0, 1.0, 0, False), 5: (0, 1.0, 1.0, False), 6: (1.0, 1.0, 1.0, False), 7: (0, 0, 1.0, False), 8: (1.0, 0, 1.0, False)}\n"
     ]
    }
   ],
   "source": [
    "print( vertices )"
   ]
  },
  {
   "cell_type": "code",
   "execution_count": 89,
   "metadata": {},
   "outputs": [
    {
     "name": "stdout",
     "output_type": "stream",
     "text": [
      "{1: (1.0, 0, 0, False), 2: (0, 0, 0, False), 3: (0, 1.0, 0, False), 4: (1.0, 1.0, 0, False), 5: (0, 1.0, 1.0, False), 6: (1.0, 1.0, 1.0, False), 7: (0, 0, 1.0, False), 8: (1.0, 0, 1.0, False), 9: (0.6666666666666667, 0.0, 0.0, True), 10: (0.33333333333333337, 0.0, 0.0, True)}\n"
     ]
    }
   ],
   "source": [
    "print( vertices )"
   ]
  },
  {
   "cell_type": "markdown",
   "metadata": {},
   "source": [
    "in parent_edges \n",
    "\n",
    "in the vx  1 the edge {'edge':  1,: 't' 3, 'pos': 0} must be added<br/>\n",
    "in the vx  1 the edge {'edge': 13,: 't' 1, 'pos': 0} must be added<br/>\n",
    "in the vx  9 the edge {'edge':  1,: 't' 3, 'pos': 1} must be added<br/>\n",
    "in the vx  9 the edge {'edge': 13,: 't' 1, 'pos': 1} must be added<br/>\n",
    "in the vx  9 the edge {'edge': 14,: 't' 1, 'pos': 0} must be added<br/>\n",
    "in the vx 10 the edge {'edge':  1,: 't' 3, 'pos': 2} must be added<br/>\n",
    "in the vx 10 the edge {'edge': 14,: 't' 1, 'pos': 1} must be added<br/>\n",
    "in the vx 10 the edge {'edge': 15,: 't' 1, 'pos': 0} must be added<br/>\n",
    "in the vx  2 the edge {'edge':  1,: 't' 3, 'pos': 3} must be added<br/>\n",
    "in the vx  2 the edge {'edge': 15,: 't' 1, 'pos': 1} must be added<br/>\n",
    "\n",
    "parent_edges from:\n",
    "\n",
    "{1: [{'edge': 1, 't': 1, 'pos': 0}, {'edge': 4, 't': 1, 'pos': 1}, {'edge': 12,: 't' 1, 'pos': 0}], 2: [{'edge': 1, 't': 1, 'pos': 1}, {'edge': 2, 't': 1, 'pos': 0}, {'edge': 11, 't': 1, 'pos': 1}], 3: [{'edge': 2, 't': 1, 'pos': 1}, {'edge': 3, 't': 1, 'pos': 0}, {'edge': 5, 't': 1, 'pos': 0}], 4: [{'edge': 3, 't': 1, 'pos': 1}, {'edge': 4, 't': 1, 'pos': 0}, {'edge': 7, 't': 1, 'pos': 1}], 5: [{'edge': 5, 't': 1, 'pos': 1}, {'edge': 6, 't': 1, 'pos': 0}, {'edge': 8, 't': 1, 'pos': 0}], 6: [{'edge': 6, 't': 1, 'pos': 1}, {'edge': 7, 't': 1, 'pos': 0}, {'edge': 10, 't': 1, 'pos': 1}], 7: [{'edge': 8, 't': 1, 'pos': 1}, {'edge': 9, 't': 1, 'pos': 0}, {'edge': 11, 't': 1, 'pos': 0}], 8: [{'edge': 9, 't': 1, 'pos': 1}, {'edge': 10, 't': 1, 'pos': 0}, {'edge': 12, 't': 1, 'pos': 1}]}\n",
    "\n",
    "to\n",
    "\n",
    "{1: [{'edge': 1, 't': 1, 'pos': 0}, {'edge': 4, 't': 1, 'pos': 1}, {'edge': 12, 't': 1, 'pos': 0}, {'edge': 1, 't': 3, 'pos': 0}, {'edge': 13, 't': 1, 'pos': 0}], 2: [{'edge': 1, 't': 1, 'pos': 1}, {'edge': 2, 't': 1, 'pos': 0}, {'edge': 11, 't': 1, 'pos': 1}, {'edge': 1, 't': 3, 'pos': 3}, {'edge': 15, 't': 1, 'pos': 1}], 3: [{'edge': 2, 't': 1, 'pos': 1}, {'edge': 3, 't': 1, 'pos': 0}, {'edge': 5, 't': 1, 'pos': 0}], 4: [{'edge': 3, 't': 1, 'pos': 1}, {'edge': 4, 't': 1, 'pos': 0}, {'edge': 7, 't': 1, 'pos': 1}], 5: [{'edge': 5, 't': 1, 'pos': 1}, {'edge': 6, 't': 1, 'pos': 0}, {'edge': 8, 't': 1, 'pos': 0}], 6: [{'edge': 6, 't': 1, 'pos': 1}, {'edge': 7, 't': 1, 'pos': 0}, {'edge': 10, 't': 1, 'pos': 1}], 7: [{'edge': 8, 't': 1, 'pos': 1}, {'edge': 9, 't': 1, 'pos': 0}, {'edge': 11, 't': 1, 'pos': 0}], 8: [{'edge': 9, 't': 1, 'pos': 1}, {'edge': 10, 't': 1, 'pos': 0}, {'edge': 12, 't': 1, 'pos': 1}], 9: [{'edge': 1, 't': 3, 'pos': 1}, {'edge': 13, 't': 1, 'pos': 1}, {'edge': 14, 't': 1, 'pos': 0}], 10: [{'edge': 1, 't': 3, 'pos': 2}, {'edge': 14, 't': 1, 'pos': 1}, {'edge': 15, 't': 1, 'pos': 0}]}\n"
   ]
  },
  {
   "cell_type": "code",
   "execution_count": 22,
   "metadata": {},
   "outputs": [
    {
     "name": "stdout",
     "output_type": "stream",
     "text": [
      "{1: [{'edge': 1, 't': 1, 'pos': 0}, {'edge': 4, 't': 1, 'pos': 1}, {'edge': 12, 't': 1, 'pos': 0}], 2: [{'edge': 1, 't': 1, 'pos': 1}, {'edge': 2, 't': 1, 'pos': 0}, {'edge': 11, 't': 1, 'pos': 1}], 3: [{'edge': 2, 't': 1, 'pos': 1}, {'edge': 3, 't': 1, 'pos': 0}, {'edge': 5, 't': 1, 'pos': 0}], 4: [{'edge': 3, 't': 1, 'pos': 1}, {'edge': 4, 't': 1, 'pos': 0}, {'edge': 7, 't': 1, 'pos': 1}], 5: [{'edge': 5, 't': 1, 'pos': 1}, {'edge': 6, 't': 1, 'pos': 0}, {'edge': 8, 't': 1, 'pos': 0}], 6: [{'edge': 6, 't': 1, 'pos': 1}, {'edge': 7, 't': 1, 'pos': 0}, {'edge': 10, 't': 1, 'pos': 1}], 7: [{'edge': 8, 't': 1, 'pos': 1}, {'edge': 9, 't': 1, 'pos': 0}, {'edge': 11, 't': 1, 'pos': 0}], 8: [{'edge': 9, 't': 1, 'pos': 1}, {'edge': 10, 't': 1, 'pos': 0}, {'edge': 12, 't': 1, 'pos': 1}]}\n"
     ]
    }
   ],
   "source": [
    "print( parent_edges )"
   ]
  },
  {
   "cell_type": "code",
   "execution_count": 65,
   "metadata": {},
   "outputs": [
    {
     "name": "stdout",
     "output_type": "stream",
     "text": [
      "{1: [{'edge': 1, 't': 1, 'pos': 0}, {'edge': 4, 't': 1, 'pos': 1}, {'edge': 12, 't': 1, 'pos': 0}, {'edge': 1, 't': 3, 'pos': 0}, {'edge': 13, 't': 1, 'pos': 0}], 2: [{'edge': 1, 't': 1, 'pos': 1}, {'edge': 2, 't': 1, 'pos': 0}, {'edge': 11, 't': 1, 'pos': 1}, {'edge': 1, 't': 3, 'pos': 3}, {'edge': 15, 't': 1, 'pos': 1}], 3: [{'edge': 2, 't': 1, 'pos': 1}, {'edge': 3, 't': 1, 'pos': 0}, {'edge': 5, 't': 1, 'pos': 0}], 4: [{'edge': 3, 't': 1, 'pos': 1}, {'edge': 4, 't': 1, 'pos': 0}, {'edge': 7, 't': 1, 'pos': 1}], 5: [{'edge': 5, 't': 1, 'pos': 1}, {'edge': 6, 't': 1, 'pos': 0}, {'edge': 8, 't': 1, 'pos': 0}], 6: [{'edge': 6, 't': 1, 'pos': 1}, {'edge': 7, 't': 1, 'pos': 0}, {'edge': 10, 't': 1, 'pos': 1}], 7: [{'edge': 8, 't': 1, 'pos': 1}, {'edge': 9, 't': 1, 'pos': 0}, {'edge': 11, 't': 1, 'pos': 0}], 8: [{'edge': 9, 't': 1, 'pos': 1}, {'edge': 10, 't': 1, 'pos': 0}, {'edge': 12, 't': 1, 'pos': 1}], 9: [{'edge': 1, 't': 3, 'pos': 1}, {'edge': 13, 't': 1, 'pos': 1}, {'edge': 14, 't': 1, 'pos': 0}], 10: [{'edge': 1, 't': 3, 'pos': 2}, {'edge': 14, 't': 1, 'pos': 1}, {'edge': 15, 't': 1, 'pos': 0}]}\n"
     ]
    }
   ],
   "source": [
    "print( parent_edges )"
   ]
  },
  {
   "cell_type": "markdown",
   "metadata": {},
   "source": [
    "in vertex_in_edge\n",
    "\n",
    "record {'edge': 13,: 't' 3, 'pos': 0} must be added pointing to vx 1<br/>\n",
    "record {'edge': 13,: 't' 3, 'pos': 1} must be added pointing to vx 9<br/>\n",
    "record {'edge': 14,: 't' 3, 'pos': 1} must be added pointing to vx 9<br/>\n",
    "record {'edge': 14,: 't' 3, 'pos': 2} must be added pointing to vx 10<br/>\n",
    "record {'edge': 15,: 't' 3, 'pos': 2} must be added pointing to vx 10<br/>\n",
    "record {'edge': 15,: 't' 3, 'pos': 3} must be added pointing to vx 2<br/>\n",
    "\n",
    "\n",
    "from\n",
    "\n",
    "{\"{'edge': 1, 't': 1, 'pos': 0}\": 1, \"{'edge': 4, 't': 1, 'pos': 1}\": 1, \"{'edge': 12, 't': 1, 'pos': 0}\": 1, \"{'edge': 1, 't': 1, 'pos': 1}\": 2, \"{'edge': 2, 't': 1, 'pos': 0}\": 2, \"{'edge': 11, 't': 1, 'pos': 1}\": 2, \"{'edge': 2, 't': 1, 'pos': 1}\": 3, \"{'edge': 3, 't': 1, 'pos': 0}\": 3, \"{'edge': 5, 't': 1, 'pos': 0}\": 3, \"{'edge': 3, 't': 1, 'pos': 1}\": 4, \"{'edge': 4, 't': 1, 'pos': 0}\": 4, \"{'edge': 7, 't': 1, 'pos': 1}\": 4, \"{'edge': 5, 't': 1, 'pos': 1}\": 5, \"{'edge': 6, 't': 1, 'pos': 0}\": 5, \"{'edge': 8, 't': 1, 'pos': 0}\": 5, \"{'edge': 6, 't': 1, 'pos': 1}\": 6, \"{'edge': 7, 't': 1, 'pos': 0}\": 6, \"{'edge': 10, 't': 1, 'pos': 1}\": 6, \"{'edge': 8, 't': 1, 'pos': 1}\": 7, \"{'edge': 9, 't': 1, 'pos': 0}\": 7, \"{'edge': 11, 't': 1, 'pos': 0}\": 7, \"{'edge': 9, 't': 1, 'pos': 1}\": 8, \"{'edge': 10, 't': 1, 'pos': 0}\": 8, \"{'edge': 12, 't': 1, 'pos': 1}\": 8}\n",
    "\n",
    "to"
   ]
  },
  {
   "cell_type": "code",
   "execution_count": 23,
   "metadata": {},
   "outputs": [
    {
     "name": "stdout",
     "output_type": "stream",
     "text": [
      "{\"{'edge': 1, 't': 1, 'pos': 0}\": 1, \"{'edge': 4, 't': 1, 'pos': 1}\": 1, \"{'edge': 12, 't': 1, 'pos': 0}\": 1, \"{'edge': 1, 't': 1, 'pos': 1}\": 2, \"{'edge': 2, 't': 1, 'pos': 0}\": 2, \"{'edge': 11, 't': 1, 'pos': 1}\": 2, \"{'edge': 2, 't': 1, 'pos': 1}\": 3, \"{'edge': 3, 't': 1, 'pos': 0}\": 3, \"{'edge': 5, 't': 1, 'pos': 0}\": 3, \"{'edge': 3, 't': 1, 'pos': 1}\": 4, \"{'edge': 4, 't': 1, 'pos': 0}\": 4, \"{'edge': 7, 't': 1, 'pos': 1}\": 4, \"{'edge': 5, 't': 1, 'pos': 1}\": 5, \"{'edge': 6, 't': 1, 'pos': 0}\": 5, \"{'edge': 8, 't': 1, 'pos': 0}\": 5, \"{'edge': 6, 't': 1, 'pos': 1}\": 6, \"{'edge': 7, 't': 1, 'pos': 0}\": 6, \"{'edge': 10, 't': 1, 'pos': 1}\": 6, \"{'edge': 8, 't': 1, 'pos': 1}\": 7, \"{'edge': 9, 't': 1, 'pos': 0}\": 7, \"{'edge': 11, 't': 1, 'pos': 0}\": 7, \"{'edge': 9, 't': 1, 'pos': 1}\": 8, \"{'edge': 10, 't': 1, 'pos': 0}\": 8, \"{'edge': 12, 't': 1, 'pos': 1}\": 8}\n"
     ]
    }
   ],
   "source": [
    "print( vertex_in_edge )"
   ]
  },
  {
   "cell_type": "markdown",
   "metadata": {},
   "source": [
    "in edges<br/>\n",
    "edges 13, 14 and 15 must be added, all parented to edge 1, vx 1->9, 9->10, 10->2\n",
    "\n",
    "from\n",
    "\n",
    "{1: {'start': 1, 'end': 2, 'parent': 1}, 2: {'start': 2, 'end': 3, 'parent': 2}, 3: {'start': 3, 'end': 4, 'parent': 3}, 4: {'start': 4, 'end': 1, 'parent': 4}, 5: {'start': 3, 'end': 5, 'parent': 5}, 6: {'start': 5, 'end': 6, 'parent': 6}, 7: {'start': 6, 'end': 4, 'parent': 7}, 8: {'start': 5, 'end': 7, 'parent': 8}, 9: {'start': 7, 'end': 8, 'parent': 9}, 10: {'start': 8, 'end': 6, 'parent': 10}, 11: {'start': 7, 'end': 2, 'parent': 11}, 12: {'start': 1, 'end': 8, 'parent': 12}}\n",
    "\n",
    "to\n",
    "\n"
   ]
  },
  {
   "cell_type": "code",
   "execution_count": 24,
   "metadata": {},
   "outputs": [
    {
     "name": "stdout",
     "output_type": "stream",
     "text": [
      "{1: {'start': 1, 'end': 2, 'parent': 1}, 2: {'start': 2, 'end': 3, 'parent': 2}, 3: {'start': 3, 'end': 4, 'parent': 3}, 4: {'start': 4, 'end': 1, 'parent': 4}, 5: {'start': 3, 'end': 5, 'parent': 5}, 6: {'start': 5, 'end': 6, 'parent': 6}, 7: {'start': 6, 'end': 4, 'parent': 7}, 8: {'start': 5, 'end': 7, 'parent': 8}, 9: {'start': 7, 'end': 8, 'parent': 9}, 10: {'start': 8, 'end': 6, 'parent': 10}, 11: {'start': 7, 'end': 2, 'parent': 11}, 12: {'start': 1, 'end': 8, 'parent': 12}}\n"
     ]
    }
   ],
   "source": [
    "print( edges )"
   ]
  },
  {
   "cell_type": "markdown",
   "metadata": {},
   "source": [
    "in edges_rev\n",
    "\n",
    "the record \"{'start': 1, 'end': 9, 'parent': 1}\": 13 must be added<br/>\n",
    "\"{'start': 9, 'end': 10, 'parent': 1}\": 14<br/>\n",
    "\"{'start': 10, 'end': 2, 'parent': 1}\": 15<br/>\n",
    "\n",
    "from\n",
    "\n",
    "{\"{'start': 1, 'end': 2, 'parent': 1}\": 1, \"{'start': 2, 'end': 3, 'parent': 2}\": 2, \"{'start': 3, 'end': 4, 'parent': 3}\": 3, \"{'start': 4, 'end': 1, 'parent': 4}\": 4, \"{'start': 3, 'end': 5, 'parent': 5}\": 5, \"{'start': 5, 'end': 6, 'parent': 6}\": 6, \"{'start': 6, 'end': 4, 'parent': 7}\": 7, \"{'start': 5, 'end': 7, 'parent': 8}\": 8, \"{'start': 7, 'end': 8, 'parent': 9}\": 9, \"{'start': 8, 'end': 6, 'parent': 10}\": 10, \"{'start': 7, 'end': 2, 'parent': 11}\": 11, \"{'start': 1, 'end': 8, 'parent': 12}\": 12}\n",
    "\n",
    "to\n"
   ]
  },
  {
   "cell_type": "code",
   "execution_count": 25,
   "metadata": {},
   "outputs": [
    {
     "name": "stdout",
     "output_type": "stream",
     "text": [
      "{\"{'start': 1, 'end': 2, 'parent': 1}\": 1, \"{'start': 2, 'end': 3, 'parent': 2}\": 2, \"{'start': 3, 'end': 4, 'parent': 3}\": 3, \"{'start': 4, 'end': 1, 'parent': 4}\": 4, \"{'start': 3, 'end': 5, 'parent': 5}\": 5, \"{'start': 5, 'end': 6, 'parent': 6}\": 6, \"{'start': 6, 'end': 4, 'parent': 7}\": 7, \"{'start': 5, 'end': 7, 'parent': 8}\": 8, \"{'start': 7, 'end': 8, 'parent': 9}\": 9, \"{'start': 8, 'end': 6, 'parent': 10}\": 10, \"{'start': 7, 'end': 2, 'parent': 11}\": 11, \"{'start': 1, 'end': 8, 'parent': 12}\": 12}\n"
     ]
    }
   ],
   "source": [
    "print( edges_rev )"
   ]
  },
  {
   "cell_type": "markdown",
   "metadata": {},
   "source": [
    "when the 1st quad is subdiv:\n",
    "\n",
    "- all edges are subdiv<br/>\n",
    "    - vxs added dividing the parent (original) edges are demivxc declaring the new edges as parents<br/>\n",
    "    - edges added dividing the parent are demiedges added declaring the original edge as parent<br/>\n",
    "    - quads reference the new edges<br/>\n",
    "    - original qual is removed, but its edges remains (there is one more reference to them in another quad)<br/>\n",
    "    - the quad that was subdiv is removed from the 2 quads the original edge references<br/>\n",
    "    \n",
    "when an edge already subdiv is requested to subdiv again in the 2nd quad it shares:\n",
    "\n",
    "- if the number of divs is different than the previous one, the operation fails<br/>\n",
    "- no need to subdiv because it was already done<br/>\n",
    "- demivxs declared previously are promoted to real vcs<br/>\n",
    "- nothing more to be done\n"
   ]
  },
  {
   "cell_type": "code",
   "execution_count": null,
   "metadata": {},
   "outputs": [],
   "source": []
  }
 ],
 "metadata": {
  "kernelspec": {
   "display_name": "Python 3",
   "language": "python",
   "name": "python3"
  },
  "language_info": {
   "codemirror_mode": {
    "name": "ipython",
    "version": 3
   },
   "file_extension": ".py",
   "mimetype": "text/x-python",
   "name": "python",
   "nbconvert_exporter": "python",
   "pygments_lexer": "ipython3",
   "version": "3.7.8"
  }
 },
 "nbformat": 4,
 "nbformat_minor": 4
}
