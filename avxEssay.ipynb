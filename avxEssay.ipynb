{
 "cells": [
  {
   "cell_type": "markdown",
   "metadata": {
    "_cell_guid": "b1076dfc-b9ad-4769-8c92-a6c4dae69d19",
    "_uuid": "8f2839f25d086af736a60e9eeb907d3b93b6e0e5"
   },
   "source": [
    "<h1>Ensaio para Active Voxel</h1>"
   ]
  },
  {
   "cell_type": "code",
   "execution_count": 56,
   "metadata": {},
   "outputs": [
    {
     "name": "stdout",
     "output_type": "stream",
     "text": [
      "{((1, 2), (3, 4)): 0, ((-3, 5), (6, 7)): 1, ((-6, 8), (9, 10)): 2, ((-9, 11), (-1, 12)): 3, ((-11, -8), (-5, -2)): 4, ((-12, -4), (-7, -10)): 5}\n"
     ]
    }
   ],
   "source": [
    "# quads always start with 6 quads needed to form the seed\n",
    "# <(( int e1, int e2 ) t1, ( int e3, int e4 ) t2 ), int >\n",
    "quads = {\n",
    "    # front\n",
    "    (( 1, 2 ), ( 3, 4 )): 0,\n",
    "\n",
    "    # top\n",
    "    (( -3, 5 ), ( 6, 7 )): 1,\n",
    "\n",
    "    # back\n",
    "    (( -6, 8 ), ( 9, 10 )): 2,\n",
    "\n",
    "    # bottom\n",
    "    (( -9, 11 ), ( -1, 12 )): 3,\n",
    "\n",
    "    # left\n",
    "    (( -11, -8 ), ( -5, -2 )): 4,\n",
    "\n",
    "    # right\n",
    "    (( -12, -4 ), ( -7, -10 )): 5\n",
    "}\n",
    "\n",
    "print( quads )"
   ]
  },
  {
   "cell_type": "code",
   "execution_count": 2,
   "metadata": {},
   "outputs": [
    {
     "name": "stdout",
     "output_type": "stream",
     "text": [
      "{0: ((1, 2), (3, 4)), 1: ((-3, 5), (6, 7)), 2: ((-6, 8), (9, 10)), 3: ((-9, 11), (-1, 12)), 4: ((-11, -8), (-5, -2)), 5: ((-12, -4), (-7, -10))}\n"
     ]
    }
   ],
   "source": [
    "quads_rev = {}\n",
    "\n",
    "# dict comprehension failed here\n",
    "for quad in quads:\n",
    "    quads_rev[ quads[ quad ]] = quad\n",
    "    \n",
    "print( quads_rev )"
   ]
  },
  {
   "cell_type": "code",
   "execution_count": 4,
   "metadata": {},
   "outputs": [
    {
     "name": "stdout",
     "output_type": "stream",
     "text": [
      "{1: (0, 3), 2: (0, 4), 3: (0, 1), 4: (0, 5), 5: (1, 4), 6: (1, 2), 7: (1, 5), 8: (2, 4), 9: (2, 3), 10: (2, 5), 11: (3, 4), 12: (3, 5)}\n"
     ]
    }
   ],
   "source": [
    "edges_quads = {\n",
    "    1: ( 0, 3 ),  2: ( 0, 4 ),  3: ( 0, 1 ),  4: ( 0, 5 ),\n",
    "    5: ( 1, 4 ),  6: ( 1, 2 ),  7: ( 1, 5 ),  8: ( 2, 4 ),\n",
    "    9: ( 2, 3 ), 10: ( 2, 5 ), 11: ( 3, 4 ), 12: ( 3, 5 )\n",
    "}\n",
    "\n",
    "print( edges_quads )"
   ]
  },
  {
   "cell_type": "code",
   "execution_count": 5,
   "metadata": {},
   "outputs": [
    {
     "name": "stdout",
     "output_type": "stream",
     "text": [
      "{1: (1.0, 0, 0, False), 2: (0, 0, 0, False), 3: (0, 1.0, 0, False), 4: (1.0, 1.0, 0, False), 5: (0, 1.0, 1.0, False), 6: (1.0, 1.0, 1.0, False), 7: (0, 0, 1.0, False), 8: (1.0, 0, 1.0, False)}\n"
     ]
    }
   ],
   "source": [
    "scale = 1.0\n",
    "\n",
    "vertices = {\n",
    "    # front\n",
    "    # edge 1 = vx 1 -> 2\n",
    "    1: ( scale, 0, 0, False ),     # vx 1\n",
    "    2: ( 0, 0, 0, False ),         # vx 2\n",
    "\n",
    "    # edge 2 = vx 2 (shared edge 1) -> 3\n",
    "    3: ( 0, scale, 0, False ),     # vx 3\n",
    "\n",
    "    # edge 3 = vx 3 (shared edge 2) -> 4\n",
    "    4: ( scale, scale, 0, False ), # vx 4\n",
    "\n",
    "    # edge 4 = vx 4 (shared edge 3) -> vx1 (shared edge 1) \n",
    "\n",
    "    # top\n",
    "    # -1 * edge 3\n",
    "\n",
    "    # edge 5 = vx 3 (shared edge 2) -> 5\n",
    "    5: ( 0, scale, scale, False ), # vx 5\n",
    "\n",
    "    # edge 6 = vx 5 (shared edge 5) -> 6\n",
    "    6: ( scale, scale, scale, False ),# vx 6\n",
    "\n",
    "    # edge 7 = vx 6 (shared edge 6) -> vx 4 (shared edge 3)\n",
    "\n",
    "    # back\n",
    "    # -1 * edge 6\n",
    "\n",
    "    # edge 8 = vx 5 (shared edge 5) -> 7\n",
    "    7: ( 0, 0, scale, False ),     # vx 7\n",
    "\n",
    "    # edge 9 = vx 7 (shared edge 8) -> 8\n",
    "    8: ( scale, 0, scale, False ) # vx 8\n",
    "\n",
    "    # edge 10 = vx 8 (shared edge 9) -> vx 6 (shared edge 6)\n",
    "\n",
    "    # bottom\n",
    "    # -1 * edge 9\n",
    "    # edge 11 = vx 7 (shared edge 8 ) -> vx 2 (shared edge 1 )\n",
    "    # -1 * edge 1\n",
    "    # edge 12 = vx 1 (shared edge 1 ) -> vx 8 (shared edge 9 )\n",
    "\n",
    "    # left\n",
    "    # -1 * edge 11, -1 * edge 8, -1 * edge 5, -1 * edge 2\n",
    "\n",
    "    # right\n",
    "    # -1 * edge 12, -1 * edge 4, -1 * edge 7, -1 * edge 10\n",
    "}\n",
    "\n",
    "print( vertices )"
   ]
  },
  {
   "cell_type": "code",
   "execution_count": 66,
   "metadata": {},
   "outputs": [
    {
     "name": "stdout",
     "output_type": "stream",
     "text": [
      "{1: [{'edge': 1, 't': 1, 'pos': 0}, {'edge': 4, 't': 1, 'pos': 1}, {'edge': 12, 't': 1, 'pos': 0}], 2: [{'edge': 1, 't': 1, 'pos': 1}, {'edge': 2, 't': 1, 'pos': 0}, {'edge': 11, 't': 1, 'pos': 1}], 3: [{'edge': 2, 't': 1, 'pos': 1}, {'edge': 3, 't': 1, 'pos': 0}, {'edge': 5, 't': 1, 'pos': 0}], 4: [{'edge': 3, 't': 1, 'pos': 1}, {'edge': 4, 't': 1, 'pos': 0}, {'edge': 7, 't': 1, 'pos': 1}], 5: [{'edge': 5, 't': 1, 'pos': 1}, {'edge': 6, 't': 1, 'pos': 0}, {'edge': 8, 't': 1, 'pos': 0}], 6: [{'edge': 6, 't': 1, 'pos': 1}, {'edge': 7, 't': 1, 'pos': 0}, {'edge': 10, 't': 1, 'pos': 1}], 7: [{'edge': 8, 't': 1, 'pos': 1}, {'edge': 9, 't': 1, 'pos': 0}, {'edge': 11, 't': 1, 'pos': 0}], 8: [{'edge': 9, 't': 1, 'pos': 1}, {'edge': 10, 't': 1, 'pos': 0}, {'edge': 12, 't': 1, 'pos': 1}]}\n"
     ]
    }
   ],
   "source": [
    "# < int, List<( int edge, int t, int pos )>>\n",
    "\n",
    "parent_edges = {\n",
    "    1: [{ \"edge\": 1, \"t\": 1, \"pos\": 0 }, { \"edge\":  4, \"t\": 1, \"pos\": 1 }, { \"edge\": 12, \"t\": 1, \"pos\": 0 }],\n",
    "    2: [{ \"edge\": 1, \"t\": 1, \"pos\": 1 }, { \"edge\":  2, \"t\": 1, \"pos\": 0 }, { \"edge\": 11, \"t\": 1, \"pos\": 1 }],\n",
    "    3: [{ \"edge\": 2, \"t\": 1, \"pos\": 1 }, { \"edge\":  3, \"t\": 1, \"pos\": 0 }, { \"edge\":  5, \"t\": 1, \"pos\": 0 }],\n",
    "    4: [{ \"edge\": 3, \"t\": 1, \"pos\": 1 }, { \"edge\":  4, \"t\": 1, \"pos\": 0 }, { \"edge\":  7, \"t\": 1, \"pos\": 1 }],\n",
    "    5: [{ \"edge\": 5, \"t\": 1, \"pos\": 1 }, { \"edge\":  6, \"t\": 1, \"pos\": 0 }, { \"edge\":  8, \"t\": 1, \"pos\": 0 }],\n",
    "    6: [{ \"edge\": 6, \"t\": 1, \"pos\": 1 }, { \"edge\":  7, \"t\": 1, \"pos\": 0 }, { \"edge\": 10, \"t\": 1, \"pos\": 1 }],\n",
    "    7: [{ \"edge\": 8, \"t\": 1, \"pos\": 1 }, { \"edge\":  9, \"t\": 1, \"pos\": 0 }, { \"edge\": 11, \"t\": 1, \"pos\": 0 }],\n",
    "    8: [{ \"edge\": 9, \"t\": 1, \"pos\": 1 }, { \"edge\": 10, \"t\": 1, \"pos\": 0 }, { \"edge\": 12, \"t\": 1, \"pos\": 1 }]\n",
    "}\n",
    "\n",
    "print( parent_edges )"
   ]
  },
  {
   "cell_type": "code",
   "execution_count": 7,
   "metadata": {},
   "outputs": [
    {
     "name": "stdout",
     "output_type": "stream",
     "text": [
      "{\"{'edge': 1, 't': 1, 'pos': 0}\": 1, \"{'edge': 4, 't': 1, 'pos': 1}\": 1, \"{'edge': 12, 't': 1, 'pos': 0}\": 1, \"{'edge': 1, 't': 1, 'pos': 1}\": 2, \"{'edge': 2, 't': 1, 'pos': 0}\": 2, \"{'edge': 11, 't': 1, 'pos': 1}\": 2, \"{'edge': 2, 't': 1, 'pos': 1}\": 3, \"{'edge': 3, 't': 1, 'pos': 0}\": 3, \"{'edge': 5, 't': 1, 'pos': 0}\": 3, \"{'edge': 3, 't': 1, 'pos': 1}\": 4, \"{'edge': 4, 't': 1, 'pos': 0}\": 4, \"{'edge': 7, 't': 1, 'pos': 1}\": 4, \"{'edge': 5, 't': 1, 'pos': 1}\": 5, \"{'edge': 6, 't': 1, 'pos': 0}\": 5, \"{'edge': 8, 't': 1, 'pos': 0}\": 5, \"{'edge': 6, 't': 1, 'pos': 1}\": 6, \"{'edge': 7, 't': 1, 'pos': 0}\": 6, \"{'edge': 10, 't': 1, 'pos': 1}\": 6, \"{'edge': 8, 't': 1, 'pos': 1}\": 7, \"{'edge': 9, 't': 1, 'pos': 0}\": 7, \"{'edge': 11, 't': 1, 'pos': 0}\": 7, \"{'edge': 9, 't': 1, 'pos': 1}\": 8, \"{'edge': 10, 't': 1, 'pos': 0}\": 8, \"{'edge': 12, 't': 1, 'pos': 1}\": 8}\n"
     ]
    }
   ],
   "source": [
    "# <( int edge, int t, int pos ), int >\n",
    "\n",
    "vertex_in_edge = {}\n",
    "\n",
    "for vx in parent_edges:\n",
    "    for edge in parent_edges[ vx ]:\n",
    "        vertex_in_edge[ str( edge )] = vx\n",
    "    \n",
    "print( vertex_in_edge )\n"
   ]
  },
  {
   "cell_type": "code",
   "execution_count": 68,
   "metadata": {},
   "outputs": [
    {
     "name": "stdout",
     "output_type": "stream",
     "text": [
      "{1: {'start': 1, 'end': 2, 'parent': 1}, 2: {'start': 2, 'end': 3, 'parent': 2}, 3: {'start': 3, 'end': 4, 'parent': 3}, 4: {'start': 4, 'end': 1, 'parent': 4}, 5: {'start': 3, 'end': 5, 'parent': 5}, 6: {'start': 5, 'end': 6, 'parent': 6}, 7: {'start': 6, 'end': 4, 'parent': 7}, 8: {'start': 5, 'end': 7, 'parent': 8}, 9: {'start': 7, 'end': 8, 'parent': 9}, 10: {'start': 8, 'end': 6, 'parent': 10}, 11: {'start': 7, 'end': 2, 'parent': 11}, 12: {'start': 1, 'end': 8, 'parent': 12}}\n",
      "{\"{'start': 1, 'end': 2, 'parent': 1}\": 1, \"{'start': 2, 'end': 3, 'parent': 2}\": 2, \"{'start': 3, 'end': 4, 'parent': 3}\": 3, \"{'start': 4, 'end': 1, 'parent': 4}\": 4, \"{'start': 3, 'end': 5, 'parent': 5}\": 5, \"{'start': 5, 'end': 6, 'parent': 6}\": 6, \"{'start': 6, 'end': 4, 'parent': 7}\": 7, \"{'start': 5, 'end': 7, 'parent': 8}\": 8, \"{'start': 7, 'end': 8, 'parent': 9}\": 9, \"{'start': 8, 'end': 6, 'parent': 10}\": 10, \"{'start': 7, 'end': 2, 'parent': 11}\": 11, \"{'start': 1, 'end': 8, 'parent': 12}\": 12}\n"
     ]
    }
   ],
   "source": [
    "# AvxEdges always starts with the 12 edges needed to build the seed\n",
    "edges = {\n",
    "    # front\n",
    "    # edge 1 = vx 1 -> 2\n",
    "    1:  { \"start\": 1, \"end\": 2, \"parent\": 1 },\n",
    "\n",
    "    # edge 2 = vx 2 (shared edge 1) -> 3\n",
    "    2: { \"start\": 2, \"end\": 3, \"parent\": 2 },\n",
    "\n",
    "    # edge 3 = vx 3 (shared edge 2) -> 4\n",
    "    3: { \"start\": 3, \"end\": 4, \"parent\": 3 },\n",
    "\n",
    "    # edge 4 = vx 4 (shared edge 3) -> vx1 (shared edge 1) \n",
    "    4: { \"start\": 4, \"end\": 1, \"parent\": 4 },\n",
    "\n",
    "    # top\n",
    "    # edge 5 = vx 3 (shared edge 2) -> 5\n",
    "    5: { \"start\": 3, \"end\": 5, \"parent\": 5 },\n",
    "\n",
    "    # edge 6 = vx 5 (shared edge 5) -> 6\n",
    "    6: { \"start\": 5, \"end\": 6, \"parent\": 6 },\n",
    "\n",
    "    # edge 7 = vx 6 (shared edge 6) -> vx 4 (shared edge 3)\n",
    "    7: { \"start\": 6, \"end\": 4, \"parent\": 7 },\n",
    "\n",
    "    # back\n",
    "    # edge 8 = vx 5 (shared edge 5) -> 7\n",
    "    8: { \"start\": 5, \"end\": 7, \"parent\": 8 }, \n",
    "\n",
    "    # edge 9 = vx 7 (shared edge 8) -> 8\n",
    "    9: { \"start\": 7, \"end\": 8, \"parent\": 9 },\n",
    "\n",
    "    # edge 10 = vx 8 (shared edge 9) -> vx 6 (shared edge 6)\n",
    "    10: { \"start\": 8, \"end\": 6, \"parent\": 10 },\n",
    "\n",
    "    # bottom\n",
    "    # edge 11 = vx 7 (shared edge 8 ) -> vx 2 (shared edge 1 )\n",
    "    11: { \"start\": 7, \"end\": 2, \"parent\": 11 },\n",
    "\n",
    "    # edge 12 = vx 1 (shared edge 1 ) -> vx 8 (shared edge 9 )\n",
    "    12: { \"start\": 1, \"end\": 8, \"parent\": 12 }\n",
    "\n",
    "    # left\n",
    "    # -1 * edge 11, -1 * edge 8, -1 * edge 5, -1 * edge 2\n",
    "\n",
    "    # right\n",
    "    # -1 * edge 12, -1 * edge 4, -1 * edge 7, -1 * edge 2\n",
    "}\n",
    "\n",
    "edges_rev = {}\n",
    "\n",
    "for _edge in edges:\n",
    "    edges_rev[ str( edges[ _edge ]) ] = _edge \n",
    "\n",
    "    \n",
    "print( edges )\n",
    "print( edges_rev )\n"
   ]
  },
  {
   "cell_type": "code",
   "execution_count": 11,
   "metadata": {},
   "outputs": [
    {
     "name": "stdout",
     "output_type": "stream",
     "text": [
      "[[1.0, 0, 0], [0, 0, 0], [0, 1.0, 0], [1.0, 1.0, 0], [0, 1.0, 1.0], [1.0, 1.0, 1.0], [0, 0, 1.0], [1.0, 0, 1.0]]\n"
     ]
    }
   ],
   "source": [
    "def quads_vertices():\n",
    "    res = []\n",
    "    \n",
    "    for vx in vertices:\n",
    "        res.append([ vertices[ vx ][ 0 ], vertices[ vx ][ 1 ], vertices[ vx ][ 2 ]])\n",
    "    \n",
    "    return res\n",
    "\n",
    "mesh_vertices = quads_vertices()\n",
    "\n",
    "print( mesh_vertices )"
   ]
  },
  {
   "cell_type": "code",
   "execution_count": 46,
   "metadata": {},
   "outputs": [
    {
     "name": "stdout",
     "output_type": "stream",
     "text": [
      "[0, 1, 2, 2, 3, 0, 3, 2, 4, 4, 5, 3, 5, 4, 6, 6, 7, 5, 7, 6, 1, 1, 0, 7, 1, 6, 4, 4, 2, 1, 7, 0, 3, 3, 5, 7]\n",
      "[(1.0, 0, 0), (0, 0, 0), (0, 1.0, 0), (1.0, 1.0, 0), (0, 1.0, 1.0), (1.0, 1.0, 1.0), (0, 0, 1.0), (1.0, 0, 1.0)]\n"
     ]
    }
   ],
   "source": [
    "def edges_GetTri( edge1, edge2 ):\n",
    "    vxs = [ -1, -1, -1, -1 ]\n",
    "\n",
    "    # quads keep edges on a one-based array because negative indicates\n",
    "    # that we have to consider the vertices in reverse order in that edge.\n",
    "\n",
    "    id = edge1 if edge1 > 0 else -1 * edge1\n",
    "    vxs[ 0 ] = edges[ id ][ \"start\" ] if edge1 > 0 else edges[ id ][ \"end\" ]\n",
    "    vxs[ 1 ] = edges[ id ][ \"end\" ] if edge1 > 0 else edges[id][ \"start\" ]\n",
    "\n",
    "    id = edge2 if edge2 > 0 else -1 * edge2\n",
    "    vxs[ 2 ] = edges[ id ][ \"start\" ] if edge2 > 0 else edges[ id ][ \"end\" ]\n",
    "    vxs[ 3 ] = edges[ id ][ \"end\" ] if edge2 > 0 else edges[ id ][ \"start\" ];\n",
    "\n",
    "    # edges must share a vertex and be informed in correct order\n",
    "    if vxs[ 1 ] != vxs[ 2 ]:\n",
    "        return []\n",
    "    else:\n",
    "        # one based to zero based\n",
    "        return [ vxs[ 0 ] - 1, vxs[ 1 ] - 1, vxs[ 3 ] - 1 ]\n",
    "\n",
    "\n",
    "def quads_GetTris():\n",
    "    res = []\n",
    "    for i in range( 0, len( quads )):\n",
    "        quad = quads_rev[ i ]\n",
    "\n",
    "        res.append( edges_GetTri( quad[ 0 ][ 0 ], quad[ 0 ][ 1 ] )) #quad.t1.e1, quad.t1.e2 ))\n",
    "        res.append( edges_GetTri( quad[ 1 ][ 0 ], quad[ 1 ][ 1 ] )) #quad.t2.e3, quad.t2.e4 ))\n",
    "\n",
    "    return sum( res, []) #.SelectMany( t => new[] { t }).ToArray().SelectMany(x => x).ToArray();\n",
    "\n",
    "    \n",
    "mesh_triangles = quads_GetTris()\n",
    "\n",
    "print( mesh_triangles )\n",
    "\n",
    "mesh_vertices = [( vx[ 0 ], vx[ 1 ], vx[ 2 ]) for vx in mesh_vertices ]\n",
    "print( mesh_vertices )\n"
   ]
  },
  {
   "cell_type": "code",
   "execution_count": 53,
   "metadata": {},
   "outputs": [],
   "source": [
    "def vertices_Get( parent_edge, t, pos ):\n",
    "    key = { \"edge\": parent_edge, \"t\": t, \"pos\": pos }\n",
    "\n",
    "    if str( key ) in vertex_in_edge:\n",
    "        return vertex_in_edge[ str( key )]\n",
    "    else:\n",
    "        return 0\n"
   ]
  },
  {
   "cell_type": "code",
   "execution_count": 60,
   "metadata": {},
   "outputs": [],
   "source": [
    "def quads_GetShared( edgeid ):\n",
    "    if edgeid in edges_quads:\n",
    "        return edges_quads[ edgeid ]\n",
    "    else:\n",
    "        return ( -1, -1 )\n",
    "\n",
    "    "
   ]
  },
  {
   "cell_type": "code",
   "execution_count": 59,
   "metadata": {},
   "outputs": [],
   "source": [
    "def vertices_AddDemi( vertex, parent_edge, t, pos ):\n",
    "    if parent_edge == 0:\n",
    "        print( \"Vertices must always belong to edges ( parent_edge cannot be zero )\" )\n",
    "        return None\n",
    "\n",
    "    if t <= 0:\n",
    "        print( \"t must be positive and greater than zero (num of divisions of an edge)\" )\n",
    "        return None\n",
    "\n",
    "    if pos < 0 or pos > t:\n",
    "        print( \"pos must be in [ 0, t ]\" )\n",
    "        return None\n",
    "\n",
    "    # check if a vx at that position already exists, and promote it\n",
    "    # to real vx if it is not one already and all edges sharing it are real edges\n",
    "    vx_key = { \"edge\": parent_edge, \"t\": t, \"pos\": pos }\n",
    "\n",
    "    _exists = vertices_Get( vx_key )\n",
    "    ikey = _exists if _exists > 0 else len( vertices ) + 1\n",
    "\n",
    "    demi = 3 \n",
    "    \n",
    "    if _exists > 0:    \n",
    "        # the vertice exists, chech if it can be promoted \n",
    "        # The vc can be promoted if it belongs to a demi edge and we try to create\n",
    "        # the same divisions on the second quad that edge shares.\n",
    "        if vertices[ ikey ][ demi ] == True:\n",
    "            quads = quads_GetShared( parent_edge )\n",
    "\n",
    "            if quads[ 1 ] == -1:\n",
    "                vx = vertices[ ikey ]\n",
    "                vertices[ ikey ] = ( vx[ 0 ], vx[ 1 ], vx[ 2 ], False )\n",
    "\n",
    "        return ikey\n",
    "\n",
    "    # if the vx is new, add it as a demivertice (it is part of a demi edge)\n",
    "    vc = vertex\n",
    "\n",
    "    vertices[ ikey ] = ( vc[ 0 ], vc[ 1 ], vc[ 2 ], True )\n",
    "    parent_edges[ ikey ] = [ vx_key ]\n",
    "\n",
    "    # a new demiedge is always added when a new demivc is\n",
    "    vertex_in_edge[ str( vx_key )] = ikey\n",
    "\n",
    "    return -1 * ikey\n"
   ]
  },
  {
   "cell_type": "code",
   "execution_count": 72,
   "metadata": {},
   "outputs": [],
   "source": [
    "def vertices_AddParent( vx, edge, t, pos ):\n",
    "    vx_key = { \"edge\": edge, \"t\": t, \"pos\": pos }\n",
    "    \n",
    "    if  parent_edges[ vx ].count( vx_key ) == 0:\n",
    "        parent_edges[ vx ].append( vx_key )\n",
    "\n",
    "    if str( vx_key ) not in vertex_in_edge:\n",
    "        vertex_in_edge[str( vx_key )] = vx\n"
   ]
  },
  {
   "cell_type": "code",
   "execution_count": 71,
   "metadata": {},
   "outputs": [],
   "source": [
    "def edges_Add( start, end, parent ):\n",
    "    # vcs always > 0\n",
    "    if start <= 0 or end <= 0:\n",
    "        print( \"indices must be greater than zero\" )\n",
    "        return\n",
    "\n",
    "    # vertices must exist\n",
    "    if start > len( vertices ) or end > len( vertices ):\n",
    "        print( \"invalid index (inexistent vertex)\" )\n",
    "        return\n",
    "\n",
    "    # a demi edge is not always a child of another, but a hard edge\n",
    "    # always declare itself as a parent\n",
    "    demi = 3\n",
    "    _demi = False\n",
    "    \n",
    "    if vertices[ start ][ demi ] == True or vertices[ end ][ demi ] == True:\n",
    "        _demi = True\n",
    "\n",
    "    if _demi == False and parent != ( len( edges ) + 1 ):\n",
    "        print( \"hard edges cannot have parents\" )\n",
    "        return\n",
    "\n",
    "    _edge = { \"start\": start, \"end\": end, \"parent\": parent }\n",
    "    \n",
    "    if _demi == True and parent == ( len( edges ) + 1 ):\n",
    "        edges[ len( edges ) + 1 ] =  { \"start\": start, \"end\": end, \"parent\": -1 * parent }\n",
    "        return\n",
    "\n",
    "    # TODO: pq abaixo acrescentamos o edges_rev mas no if acima nao?\n",
    "    edges[ len( edges ) + 1 ] =  _edge\n",
    "    edges_rev[ str( _edge )] = len( edges )\n"
   ]
  },
  {
   "cell_type": "code",
   "execution_count": null,
   "metadata": {},
   "outputs": [],
   "source": [
    "def edges_Subdivide( edgeid, slices ):\n",
    "    start = edges[ edgeid ][ \"start\" ]\n",
    "    end = edges[ edgeid ][ \"end\" ]\n",
    "\n",
    "    vx_start = vertices[ start ]\n",
    "    vx_end = vertices[ end ]\n",
    "\n",
    "    # create a list with intermediate vertices (generate ones if they don´t exist,\n",
    "    # promote to real vx if they exist\n",
    "    vxs = [ start ]\n",
    "\n",
    "    q = vector( vx_end[ 0 ], vx_end[ 1 ], vx_end[ 2 ]) - vector( vx_start[ 0 ], vx_start[ 1 ], vx_start[ 2 ])\n",
    "    \n",
    "    print( q )\n",
    "\n",
    "    # for pos in 1 to slices - 1:\n",
    "    # add the next vertice as demivertice\n",
    "    # (vxs deal with their own promotion to real verticies if needed)\n",
    "    # add each edge start_vx -> prox (then start = prox)\n",
    "    # at the ent add edge prox -> end_vx\n",
    "    t = slices\n",
    "    next = start\n",
    "    exists = True\n",
    "\n",
    "    for pos in range( 1, slices ):\n",
    "    \n",
    "        prox = vertices_Get( edgeid, t, pos )\n",
    "\n",
    "        if prox == 0:\n",
    "            exists = False\n",
    "            v3_prox = vector( vx_start[ 0 ], vx_start[ 1 ], vx_start[ 2 ]) + q / t * pos;\n",
    "\n",
    "            # this function promotes a demivx to a real vx if needed\n",
    "            prox = vertices_AddDemi( v3_prox, edgeid, t, pos )\n",
    "            if prox < 0:\n",
    "                prox = -1 * prox\n",
    "\n",
    "            # declare the parenting of the edge to the vertices\n",
    "            vertices_AddParent( next, len( edges ) + 1, 1, 0 )\n",
    "            vertices_AddParent( prox, len( edges ) + 1, 1, 1 )\n",
    "\n",
    "        edges_Add( next, prox, edgeid )\n",
    "        next = prox\n",
    "\n",
    "    edges_Add( next, end, edgeid )\n",
    "\n",
    "    if exists == False:\n",
    "        vertices_AddParent( next, len( edges ), 1, 0 )\n",
    "        vertices_AddParent( end, len( edges ), 1, 1  )\n"
   ]
  },
  {
   "cell_type": "code",
   "execution_count": 41,
   "metadata": {},
   "outputs": [
    {
     "ename": "NameError",
     "evalue": "name 'items' is not defined",
     "output_type": "error",
     "traceback": [
      "\u001b[0;31m---------------------------------------------------------------------------\u001b[0m",
      "\u001b[0;31mNameError\u001b[0m                                 Traceback (most recent call last)",
      "\u001b[0;32m<ipython-input-41-88402b94e8f0>\u001b[0m in \u001b[0;36m<module>\u001b[0;34m\u001b[0m\n\u001b[1;32m     27\u001b[0m \u001b[0;34m\u001b[0m\u001b[0m\n\u001b[1;32m     28\u001b[0m \u001b[0;34m\u001b[0m\u001b[0m\n\u001b[0;32m---> 29\u001b[0;31m \u001b[0mSubdivide\u001b[0m\u001b[0;34m(\u001b[0m\u001b[0;34m{\u001b[0m \u001b[0;34m\"type\"\u001b[0m\u001b[0;34m:\u001b[0m \u001b[0;32mNone\u001b[0m \u001b[0;34m}\u001b[0m\u001b[0;34m,\u001b[0m \u001b[0;36m3\u001b[0m \u001b[0;34m)\u001b[0m\u001b[0;34m\u001b[0m\u001b[0;34m\u001b[0m\u001b[0m\n\u001b[0m\u001b[1;32m     30\u001b[0m \u001b[0;34m\u001b[0m\u001b[0m\n",
      "\u001b[0;32m<ipython-input-41-88402b94e8f0>\u001b[0m in \u001b[0;36mSubdivide\u001b[0;34m(selection, divisions)\u001b[0m\n\u001b[1;32m     17\u001b[0m \u001b[0;34m\u001b[0m\u001b[0m\n\u001b[1;32m     18\u001b[0m     \u001b[0;31m# subdivide selected quads\u001b[0m\u001b[0;34m\u001b[0m\u001b[0;34m\u001b[0m\u001b[0;34m\u001b[0m\u001b[0m\n\u001b[0;32m---> 19\u001b[0;31m     \u001b[0;32mfor\u001b[0m \u001b[0mi\u001b[0m \u001b[0;32min\u001b[0m \u001b[0mrange\u001b[0m\u001b[0;34m(\u001b[0m \u001b[0;36m0\u001b[0m\u001b[0;34m,\u001b[0m \u001b[0mlen\u001b[0m\u001b[0;34m(\u001b[0m \u001b[0mselection\u001b[0m\u001b[0;34m[\u001b[0m \u001b[0mitems\u001b[0m \u001b[0;34m]\u001b[0m\u001b[0;34m)\u001b[0m\u001b[0;34m)\u001b[0m\u001b[0;34m:\u001b[0m\u001b[0;34m\u001b[0m\u001b[0;34m\u001b[0m\u001b[0m\n\u001b[0m\u001b[1;32m     20\u001b[0m         \u001b[0mquad\u001b[0m \u001b[0;34m=\u001b[0m \u001b[0mquads_rev\u001b[0m\u001b[0;34m[\u001b[0m \u001b[0mselection\u001b[0m\u001b[0;34m[\u001b[0m \u001b[0;34m\"items\"\u001b[0m \u001b[0;34m]\u001b[0m\u001b[0;34m[\u001b[0m \u001b[0mi\u001b[0m \u001b[0;34m]\u001b[0m\u001b[0;34m]\u001b[0m\u001b[0;34m\u001b[0m\u001b[0;34m\u001b[0m\u001b[0m\n\u001b[1;32m     21\u001b[0m \u001b[0;34m\u001b[0m\u001b[0m\n",
      "\u001b[0;31mNameError\u001b[0m: name 'items' is not defined"
     ]
    }
   ],
   "source": [
    "def Select():\n",
    "    # quads, unlike edges and vertices, is a zero based array\n",
    "    return [ id for id in range( len( quads ))]\n",
    "\n",
    "    \n",
    "def Subdivide( selection, divisions = \"2\" ):\n",
    "    \n",
    "    # if selected other than quads, select all quads\n",
    "    if selection[ \"type\" ] != \"quads\":\n",
    "        selection = { \"type\": \"quads\", \"items\": Select()}\n",
    "                     \n",
    "    _divisions = int( divisions )\n",
    "\n",
    "    # subdivide selected quads\n",
    "    for i in range( 0, len( selection[ items ])):\n",
    "        quad = quads_rev[ selection[ \"items\" ][ i ]]\n",
    "\n",
    "        # 1 - subdivide all edges\n",
    "        edges_Subdivide( quad.t1.e1, _divisions );\n",
    "        edges_Subdivide( quad.t1.e2, _divisions );\n",
    "        edges_Subdivide( quad.t2.e3, _divisions );\n",
    "        edges_Subdivide( quad.t2.e4, _divisions );\n",
    "\n",
    "\n",
    "Subdivide({ \"type\": None }, 3 )\n",
    "                     "
   ]
  },
  {
   "cell_type": "code",
   "execution_count": 32,
   "metadata": {
    "scrolled": false
   },
   "outputs": [
    {
     "data": {
      "text/html": [
       "<div id=\"glowscript\" class=\"glowscript\"></div>"
      ],
      "text/plain": [
       "<IPython.core.display.HTML object>"
      ]
     },
     "metadata": {},
     "output_type": "display_data"
    },
    {
     "data": {
      "application/javascript": [
       "if (typeof Jupyter !== \"undefined\") { window.__context = { glowscript_container: $(\"#glowscript\").removeAttr(\"id\")};}else{ element.textContent = ' ';}"
      ],
      "text/plain": [
       "<IPython.core.display.Javascript object>"
      ]
     },
     "metadata": {},
     "output_type": "display_data"
    }
   ],
   "source": [
    "from vpython import *\n",
    "\n",
    "ctr = vec( 150, 50, 150 )\n",
    "\n",
    "# This is needed in Jupyter notebook and lab to make programs easily rerunnable\n",
    "scene = canvas( center=ctr, background = color.gray( 0.8 ))\n",
    "scene.autoscaling = False\n",
    "scene.forward = vec( 0, 2, 0 )\n",
    "scene.up = vec( 0, 0, 1 )\n",
    "scene.camera.pos = vec( 1.5, -3, 1.5 )\n",
    "scene.range = 0.6\n",
    "\n",
    "verts = []\n",
    "\n",
    "for vx in mesh_vertices:\n",
    "    _pos = vector( vx[ 0 ], vx[ 1 ], vx[ 2 ])\n",
    "    verts.append( vertex( pos = _pos, color = _pos ))\n",
    "\n",
    "tris = []\n",
    "\n",
    "for i in range( 0, len( mesh_triangles ), 3 ):\n",
    "    _v0 = verts[ mesh_triangles[ i ]]\n",
    "    _v1 = verts[ mesh_triangles[ i + 1 ]]\n",
    "    _v2 = verts[ mesh_triangles[ i + 2 ]]\n",
    "    \n",
    "    \n",
    "    tris.append( triangle( v0 = _v0, v1 = _v1, v2 = _v2 ))\n"
   ]
  }
 ],
 "metadata": {
  "kernelspec": {
   "display_name": "Python 3",
   "language": "python",
   "name": "python3"
  },
  "language_info": {
   "codemirror_mode": {
    "name": "ipython",
    "version": 3
   },
   "file_extension": ".py",
   "mimetype": "text/x-python",
   "name": "python",
   "nbconvert_exporter": "python",
   "pygments_lexer": "ipython3",
   "version": "3.7.8"
  }
 },
 "nbformat": 4,
 "nbformat_minor": 4
}
